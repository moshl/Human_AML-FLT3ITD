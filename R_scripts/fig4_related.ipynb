{
 "cells": [
  {
   "cell_type": "code",
   "execution_count": 4,
   "id": "29650d16-64e5-46af-bc21-491de2f58e0b",
   "metadata": {},
   "outputs": [
    {
     "name": "stderr",
     "output_type": "stream",
     "text": [
      "载入需要的程辑包：grid\n",
      "\n",
      "========================================\n",
      "ComplexHeatmap version 2.8.0\n",
      "Bioconductor page: http://bioconductor.org/packages/ComplexHeatmap/\n",
      "Github page: https://github.com/jokergoo/ComplexHeatmap\n",
      "Documentation: http://jokergoo.github.io/ComplexHeatmap-reference\n",
      "\n",
      "If you use it in published research, please cite:\n",
      "Gu, Z. Complex heatmaps reveal patterns and correlations in multidimensional \n",
      "  genomic data. Bioinformatics 2016.\n",
      "\n",
      "The new InteractiveComplexHeatmap package can directly export static \n",
      "complex heatmaps into an interactive Shiny app with zero effort. Have a try!\n",
      "\n",
      "This message can be suppressed by:\n",
      "  suppressPackageStartupMessages(library(ComplexHeatmap))\n",
      "========================================\n",
      "\n",
      "\n",
      "Warning message:\n",
      "\"程辑包'ggplot2'是用R版本4.1.3 来建造的\"\n",
      "Warning message:\n",
      "\"程辑包'ggpubr'是用R版本4.1.3 来建造的\"\n",
      "Warning message:\n",
      "\"程辑包'ggrepel'是用R版本4.1.3 来建造的\"\n",
      "Warning message:\n",
      "\"程辑包'dplyr'是用R版本4.1.3 来建造的\"\n",
      "\n",
      "载入程辑包：'dplyr'\n",
      "\n",
      "\n",
      "The following objects are masked from 'package:stats':\n",
      "\n",
      "    filter, lag\n",
      "\n",
      "\n",
      "The following objects are masked from 'package:base':\n",
      "\n",
      "    intersect, setdiff, setequal, union\n",
      "\n",
      "\n",
      "Warning message:\n",
      "\"程辑包'openxlsx'是用R版本4.1.3 来建造的\"\n",
      "\n",
      "载入程辑包：'cowplot'\n",
      "\n",
      "\n",
      "The following object is masked from 'package:ggpubr':\n",
      "\n",
      "    get_legend\n",
      "\n",
      "\n",
      "载入需要的程辑包：ggpp\n",
      "\n",
      "Registered S3 methods overwritten by 'ggpp':\n",
      "  method                  from   \n",
      "  heightDetails.titleGrob ggplot2\n",
      "  widthDetails.titleGrob  ggplot2\n",
      "\n",
      "\n",
      "载入程辑包：'ggpp'\n",
      "\n",
      "\n",
      "The following object is masked from 'package:ggplot2':\n",
      "\n",
      "    annotate\n",
      "\n",
      "\n",
      "Registered S3 method overwritten by 'ggpmisc':\n",
      "  method                  from   \n",
      "  as.character.polynomial polynom\n",
      "\n"
     ]
    }
   ],
   "source": [
    "setwd('D:/Project/project_yangjy_NR/4.Postprocess/')\n",
    "suppdir=\"D:/Project/project_yangjy_NR/4.Postprocess/\"\n",
    "\n",
    "library(ComplexHeatmap)\n",
    "library(ggplot2)\n",
    "library(ggpubr)\n",
    "library(ggrepel)\n",
    "library(dplyr)\n",
    "library(ggsci)\n",
    "library(openxlsx)\n",
    "library(reshape2)\n",
    "library(cowplot)\n",
    "library(ggpmisc)"
   ]
  },
  {
   "cell_type": "code",
   "execution_count": null,
   "id": "4ef97a54-93fe-4ae0-94a1-6f2740c15683",
   "metadata": {},
   "outputs": [],
   "source": [
    "#fig4b"
   ]
  },
  {
   "cell_type": "code",
   "execution_count": 2,
   "id": "dc9b38ab-a162-4562-b509-1c5b31d8a12d",
   "metadata": {},
   "outputs": [],
   "source": [
    "library(xlsxjars)\n",
    "library(rJava)\n",
    "library(xlsx)"
   ]
  },
  {
   "cell_type": "code",
   "execution_count": 5,
   "id": "13f40f66-e49b-47ab-b757-84d7309bc3b2",
   "metadata": {},
   "outputs": [
    {
     "data": {
      "text/html": [
       "<table class=\"dataframe\">\n",
       "<caption>A data.frame: 6 × 36</caption>\n",
       "<thead>\n",
       "\t<tr><th></th><th scope=col>X1</th><th scope=col>X2</th><th scope=col>X3</th><th scope=col>X4</th><th scope=col>X5</th><th scope=col>X6</th><th scope=col>X7</th><th scope=col>X8</th><th scope=col>X9</th><th scope=col>X10</th><th scope=col>...</th><th scope=col>X27</th><th scope=col>X28</th><th scope=col>X29</th><th scope=col>X30</th><th scope=col>X31</th><th scope=col>X32</th><th scope=col>X33</th><th scope=col>X34</th><th scope=col>X35</th><th scope=col>X36</th></tr>\n",
       "\t<tr><th></th><th scope=col>&lt;chr&gt;</th><th scope=col>&lt;chr&gt;</th><th scope=col>&lt;dbl&gt;</th><th scope=col>&lt;dbl&gt;</th><th scope=col>&lt;chr&gt;</th><th scope=col>&lt;chr&gt;</th><th scope=col>&lt;chr&gt;</th><th scope=col>&lt;chr&gt;</th><th scope=col>&lt;chr&gt;</th><th scope=col>&lt;chr&gt;</th><th scope=col>...</th><th scope=col>&lt;chr&gt;</th><th scope=col>&lt;dbl&gt;</th><th scope=col>&lt;dbl&gt;</th><th scope=col>&lt;dbl&gt;</th><th scope=col>&lt;chr&gt;</th><th scope=col>&lt;dbl&gt;</th><th scope=col>&lt;dbl&gt;</th><th scope=col>&lt;dbl&gt;</th><th scope=col>&lt;dbl&gt;</th><th scope=col>&lt;dbl&gt;</th></tr>\n",
       "</thead>\n",
       "<tbody>\n",
       "\t<tr><th scope=row>1</th><td>patient1</td><td>1a</td><td>21</td><td>28608255</td><td>.</td><td>G</td><td>GATCATATTCATATTCTCTGAA                                                      </td><td>.</td><td>PASS</td><td>END=28608255;HOMLEN=25;HOMSEQ=ATCATATTCATATTCTCTGAAATCA;SVLEN=21;SVTYPE=INS                                                    </td><td>...</td><td>ATCATATTCATATTCTCTGAAATCA                                                    </td><td>25</td><td>21</td><td>1</td><td>真</td><td>0</td><td>0</td><td>594</td><td>600</td><td>601</td></tr>\n",
       "\t<tr><th scope=row>2</th><td>patient1</td><td>1b</td><td>39</td><td>28608254</td><td>.</td><td>A</td><td>AGATCATATTCATATTCTCTGAAATCAACGTAGAAGTTGG                                    </td><td>.</td><td>PASS</td><td>END=28608254;HOMLEN=36;HOMSEQ=GATCATATTCATATTCTCTGAAATCAACGTAGAAGT;SVLEN=39;SVTYPE=INS                                         </td><td>...</td><td>GATCATATTCATATTCTCTGAAATCAACGTAGAAGT                                         </td><td>36</td><td>39</td><td>1</td><td>真</td><td>1</td><td>2</td><td>590</td><td>600</td><td>601</td></tr>\n",
       "\t<tr><th scope=row>3</th><td>patient1</td><td>1c</td><td>48</td><td>28608220</td><td>.</td><td>A</td><td>AAACTCTAAATTTTCTCTTGGAAACTCCCATTTGAGATCATATTCCGCC                           </td><td>.</td><td>PASS</td><td>END=28608220;HOMLEN=44;HOMSEQ=AACTCTAAATTTTCTCTTGGAAACTCCCATTTGAGATCATATTC;SVLEN=48;SVTYPE=INS                                 </td><td>...</td><td>AACTCTAAATTTTCTCTTGGAAACTCCCATTTGAGATCATATTC                                 </td><td>44</td><td>48</td><td>1</td><td>真</td><td>1</td><td>2</td><td>598</td><td>611</td><td>612</td></tr>\n",
       "\t<tr><th scope=row>4</th><td>patient1</td><td>1d</td><td>54</td><td>28608262</td><td>.</td><td>T</td><td>TTCATATTCTCTGAAATCAACGTAGAAGTACTCATTATCTGAGGAGCCGGCCCCC                     </td><td>.</td><td>PASS</td><td>END=28608262;HOMLEN=49;HOMSEQ=TCATATTCTCTGAAATCAACGTAGAAGTACTCATTATCTGAGGAGCCGG;SVLEN=54;SVTYPE=INS                            </td><td>...</td><td>TCATATTCTCTGAAATCAACGTAGAAGTACTCATTATCTGAGGAGCCGG                            </td><td>49</td><td>54</td><td>1</td><td>真</td><td>1</td><td>3</td><td>583</td><td>597</td><td>598</td></tr>\n",
       "\t<tr><th scope=row>5</th><td>patient1</td><td>1e</td><td>66</td><td>28608220</td><td>.</td><td>A</td><td>AAACTCTAAATTTTCTCTTGGAAACTCCCATTTGAGATCATATTCATATTCTCTGAAATCAACGCCC         </td><td>.</td><td>PASS</td><td>END=28608220;HOMLEN=63;HOMSEQ=AACTCTAAATTTTCTCTTGGAAACTCCCATTTGAGATCATATTCATATTCTCTGAAATCAACG;SVLEN=66;SVTYPE=INS              </td><td>...</td><td>AACTCTAAATTTTCTCTTGGAAACTCCCATTTGAGATCATATTCATATTCTCTGAAATCAACG              </td><td>63</td><td>45</td><td>1</td><td>真</td><td>1</td><td>2</td><td>592</td><td>611</td><td>612</td></tr>\n",
       "\t<tr><th scope=row>6</th><td>patient1</td><td>1f</td><td>75</td><td>28608253</td><td>.</td><td>G</td><td>GAGATCATATTCATATTCTCTGAAATCAACGTAGAAGTACTCATTATCTGAGGAGCCGGTCACCTGTACCATCTGT</td><td>.</td><td>PASS</td><td>END=28608253;HOMLEN=77;HOMSEQ=AGATCATATTCATATTCTCTGAAATCAACGTAGAAGTACTCATTATCTGAGGAGCCGGTCACCTGTACCATCTGTAG;SVLEN=75;SVTYPE=INS</td><td>...</td><td>AGATCATATTCATATTCTCTGAAATCAACGTAGAAGTACTCATTATCTGAGGAGCCGGTCACCTGTACCATCTGTAG</td><td>77</td><td>75</td><td>1</td><td>真</td><td>1</td><td>0</td><td>576</td><td>600</td><td>601</td></tr>\n",
       "</tbody>\n",
       "</table>\n"
      ],
      "text/latex": [
       "A data.frame: 6 × 36\n",
       "\\begin{tabular}{r|lllllllllllllllllllll}\n",
       "  & X1 & X2 & X3 & X4 & X5 & X6 & X7 & X8 & X9 & X10 & ... & X27 & X28 & X29 & X30 & X31 & X32 & X33 & X34 & X35 & X36\\\\\n",
       "  & <chr> & <chr> & <dbl> & <dbl> & <chr> & <chr> & <chr> & <chr> & <chr> & <chr> & ... & <chr> & <dbl> & <dbl> & <dbl> & <chr> & <dbl> & <dbl> & <dbl> & <dbl> & <dbl>\\\\\n",
       "\\hline\n",
       "\t1 & patient1 & 1a & 21 & 28608255 & . & G & GATCATATTCATATTCTCTGAA                                                       & . & PASS & END=28608255;HOMLEN=25;HOMSEQ=ATCATATTCATATTCTCTGAAATCA;SVLEN=21;SVTYPE=INS                                                     & ... & ATCATATTCATATTCTCTGAAATCA                                                     & 25 & 21 & 1 & 真 & 0 & 0 & 594 & 600 & 601\\\\\n",
       "\t2 & patient1 & 1b & 39 & 28608254 & . & A & AGATCATATTCATATTCTCTGAAATCAACGTAGAAGTTGG                                     & . & PASS & END=28608254;HOMLEN=36;HOMSEQ=GATCATATTCATATTCTCTGAAATCAACGTAGAAGT;SVLEN=39;SVTYPE=INS                                          & ... & GATCATATTCATATTCTCTGAAATCAACGTAGAAGT                                          & 36 & 39 & 1 & 真 & 1 & 2 & 590 & 600 & 601\\\\\n",
       "\t3 & patient1 & 1c & 48 & 28608220 & . & A & AAACTCTAAATTTTCTCTTGGAAACTCCCATTTGAGATCATATTCCGCC                            & . & PASS & END=28608220;HOMLEN=44;HOMSEQ=AACTCTAAATTTTCTCTTGGAAACTCCCATTTGAGATCATATTC;SVLEN=48;SVTYPE=INS                                  & ... & AACTCTAAATTTTCTCTTGGAAACTCCCATTTGAGATCATATTC                                  & 44 & 48 & 1 & 真 & 1 & 2 & 598 & 611 & 612\\\\\n",
       "\t4 & patient1 & 1d & 54 & 28608262 & . & T & TTCATATTCTCTGAAATCAACGTAGAAGTACTCATTATCTGAGGAGCCGGCCCCC                      & . & PASS & END=28608262;HOMLEN=49;HOMSEQ=TCATATTCTCTGAAATCAACGTAGAAGTACTCATTATCTGAGGAGCCGG;SVLEN=54;SVTYPE=INS                             & ... & TCATATTCTCTGAAATCAACGTAGAAGTACTCATTATCTGAGGAGCCGG                             & 49 & 54 & 1 & 真 & 1 & 3 & 583 & 597 & 598\\\\\n",
       "\t5 & patient1 & 1e & 66 & 28608220 & . & A & AAACTCTAAATTTTCTCTTGGAAACTCCCATTTGAGATCATATTCATATTCTCTGAAATCAACGCCC          & . & PASS & END=28608220;HOMLEN=63;HOMSEQ=AACTCTAAATTTTCTCTTGGAAACTCCCATTTGAGATCATATTCATATTCTCTGAAATCAACG;SVLEN=66;SVTYPE=INS               & ... & AACTCTAAATTTTCTCTTGGAAACTCCCATTTGAGATCATATTCATATTCTCTGAAATCAACG               & 63 & 45 & 1 & 真 & 1 & 2 & 592 & 611 & 612\\\\\n",
       "\t6 & patient1 & 1f & 75 & 28608253 & . & G & GAGATCATATTCATATTCTCTGAAATCAACGTAGAAGTACTCATTATCTGAGGAGCCGGTCACCTGTACCATCTGT & . & PASS & END=28608253;HOMLEN=77;HOMSEQ=AGATCATATTCATATTCTCTGAAATCAACGTAGAAGTACTCATTATCTGAGGAGCCGGTCACCTGTACCATCTGTAG;SVLEN=75;SVTYPE=INS & ... & AGATCATATTCATATTCTCTGAAATCAACGTAGAAGTACTCATTATCTGAGGAGCCGGTCACCTGTACCATCTGTAG & 77 & 75 & 1 & 真 & 1 & 0 & 576 & 600 & 601\\\\\n",
       "\\end{tabular}\n"
      ],
      "text/markdown": [
       "\n",
       "A data.frame: 6 × 36\n",
       "\n",
       "| <!--/--> | X1 &lt;chr&gt; | X2 &lt;chr&gt; | X3 &lt;dbl&gt; | X4 &lt;dbl&gt; | X5 &lt;chr&gt; | X6 &lt;chr&gt; | X7 &lt;chr&gt; | X8 &lt;chr&gt; | X9 &lt;chr&gt; | X10 &lt;chr&gt; | ... ... | X27 &lt;chr&gt; | X28 &lt;dbl&gt; | X29 &lt;dbl&gt; | X30 &lt;dbl&gt; | X31 &lt;chr&gt; | X32 &lt;dbl&gt; | X33 &lt;dbl&gt; | X34 &lt;dbl&gt; | X35 &lt;dbl&gt; | X36 &lt;dbl&gt; |\n",
       "|---|---|---|---|---|---|---|---|---|---|---|---|---|---|---|---|---|---|---|---|---|---|\n",
       "| 1 | patient1 | 1a | 21 | 28608255 | . | G | GATCATATTCATATTCTCTGAA                                                       | . | PASS | END=28608255;HOMLEN=25;HOMSEQ=ATCATATTCATATTCTCTGAAATCA;SVLEN=21;SVTYPE=INS                                                     | ... | ATCATATTCATATTCTCTGAAATCA                                                     | 25 | 21 | 1 | 真 | 0 | 0 | 594 | 600 | 601 |\n",
       "| 2 | patient1 | 1b | 39 | 28608254 | . | A | AGATCATATTCATATTCTCTGAAATCAACGTAGAAGTTGG                                     | . | PASS | END=28608254;HOMLEN=36;HOMSEQ=GATCATATTCATATTCTCTGAAATCAACGTAGAAGT;SVLEN=39;SVTYPE=INS                                          | ... | GATCATATTCATATTCTCTGAAATCAACGTAGAAGT                                          | 36 | 39 | 1 | 真 | 1 | 2 | 590 | 600 | 601 |\n",
       "| 3 | patient1 | 1c | 48 | 28608220 | . | A | AAACTCTAAATTTTCTCTTGGAAACTCCCATTTGAGATCATATTCCGCC                            | . | PASS | END=28608220;HOMLEN=44;HOMSEQ=AACTCTAAATTTTCTCTTGGAAACTCCCATTTGAGATCATATTC;SVLEN=48;SVTYPE=INS                                  | ... | AACTCTAAATTTTCTCTTGGAAACTCCCATTTGAGATCATATTC                                  | 44 | 48 | 1 | 真 | 1 | 2 | 598 | 611 | 612 |\n",
       "| 4 | patient1 | 1d | 54 | 28608262 | . | T | TTCATATTCTCTGAAATCAACGTAGAAGTACTCATTATCTGAGGAGCCGGCCCCC                      | . | PASS | END=28608262;HOMLEN=49;HOMSEQ=TCATATTCTCTGAAATCAACGTAGAAGTACTCATTATCTGAGGAGCCGG;SVLEN=54;SVTYPE=INS                             | ... | TCATATTCTCTGAAATCAACGTAGAAGTACTCATTATCTGAGGAGCCGG                             | 49 | 54 | 1 | 真 | 1 | 3 | 583 | 597 | 598 |\n",
       "| 5 | patient1 | 1e | 66 | 28608220 | . | A | AAACTCTAAATTTTCTCTTGGAAACTCCCATTTGAGATCATATTCATATTCTCTGAAATCAACGCCC          | . | PASS | END=28608220;HOMLEN=63;HOMSEQ=AACTCTAAATTTTCTCTTGGAAACTCCCATTTGAGATCATATTCATATTCTCTGAAATCAACG;SVLEN=66;SVTYPE=INS               | ... | AACTCTAAATTTTCTCTTGGAAACTCCCATTTGAGATCATATTCATATTCTCTGAAATCAACG               | 63 | 45 | 1 | 真 | 1 | 2 | 592 | 611 | 612 |\n",
       "| 6 | patient1 | 1f | 75 | 28608253 | . | G | GAGATCATATTCATATTCTCTGAAATCAACGTAGAAGTACTCATTATCTGAGGAGCCGGTCACCTGTACCATCTGT | . | PASS | END=28608253;HOMLEN=77;HOMSEQ=AGATCATATTCATATTCTCTGAAATCAACGTAGAAGTACTCATTATCTGAGGAGCCGGTCACCTGTACCATCTGTAG;SVLEN=75;SVTYPE=INS | ... | AGATCATATTCATATTCTCTGAAATCAACGTAGAAGTACTCATTATCTGAGGAGCCGGTCACCTGTACCATCTGTAG | 77 | 75 | 1 | 真 | 1 | 0 | 576 | 600 | 601 |\n",
       "\n"
      ],
      "text/plain": [
       "  X1       X2 X3 X4       X5 X6\n",
       "1 patient1 1a 21 28608255 .  G \n",
       "2 patient1 1b 39 28608254 .  A \n",
       "3 patient1 1c 48 28608220 .  A \n",
       "4 patient1 1d 54 28608262 .  T \n",
       "5 patient1 1e 66 28608220 .  A \n",
       "6 patient1 1f 75 28608253 .  G \n",
       "  X7                                                                          \n",
       "1 GATCATATTCATATTCTCTGAA                                                      \n",
       "2 AGATCATATTCATATTCTCTGAAATCAACGTAGAAGTTGG                                    \n",
       "3 AAACTCTAAATTTTCTCTTGGAAACTCCCATTTGAGATCATATTCCGCC                           \n",
       "4 TTCATATTCTCTGAAATCAACGTAGAAGTACTCATTATCTGAGGAGCCGGCCCCC                     \n",
       "5 AAACTCTAAATTTTCTCTTGGAAACTCCCATTTGAGATCATATTCATATTCTCTGAAATCAACGCCC         \n",
       "6 GAGATCATATTCATATTCTCTGAAATCAACGTAGAAGTACTCATTATCTGAGGAGCCGGTCACCTGTACCATCTGT\n",
       "  X8 X9  \n",
       "1 .  PASS\n",
       "2 .  PASS\n",
       "3 .  PASS\n",
       "4 .  PASS\n",
       "5 .  PASS\n",
       "6 .  PASS\n",
       "  X10                                                                                                                            \n",
       "1 END=28608255;HOMLEN=25;HOMSEQ=ATCATATTCATATTCTCTGAAATCA;SVLEN=21;SVTYPE=INS                                                    \n",
       "2 END=28608254;HOMLEN=36;HOMSEQ=GATCATATTCATATTCTCTGAAATCAACGTAGAAGT;SVLEN=39;SVTYPE=INS                                         \n",
       "3 END=28608220;HOMLEN=44;HOMSEQ=AACTCTAAATTTTCTCTTGGAAACTCCCATTTGAGATCATATTC;SVLEN=48;SVTYPE=INS                                 \n",
       "4 END=28608262;HOMLEN=49;HOMSEQ=TCATATTCTCTGAAATCAACGTAGAAGTACTCATTATCTGAGGAGCCGG;SVLEN=54;SVTYPE=INS                            \n",
       "5 END=28608220;HOMLEN=63;HOMSEQ=AACTCTAAATTTTCTCTTGGAAACTCCCATTTGAGATCATATTCATATTCTCTGAAATCAACG;SVLEN=66;SVTYPE=INS              \n",
       "6 END=28608253;HOMLEN=77;HOMSEQ=AGATCATATTCATATTCTCTGAAATCAACGTAGAAGTACTCATTATCTGAGGAGCCGGTCACCTGTACCATCTGTAG;SVLEN=75;SVTYPE=INS\n",
       "  ...\n",
       "1 ...\n",
       "2 ...\n",
       "3 ...\n",
       "4 ...\n",
       "5 ...\n",
       "6 ...\n",
       "  X27                                                                          \n",
       "1 ATCATATTCATATTCTCTGAAATCA                                                    \n",
       "2 GATCATATTCATATTCTCTGAAATCAACGTAGAAGT                                         \n",
       "3 AACTCTAAATTTTCTCTTGGAAACTCCCATTTGAGATCATATTC                                 \n",
       "4 TCATATTCTCTGAAATCAACGTAGAAGTACTCATTATCTGAGGAGCCGG                            \n",
       "5 AACTCTAAATTTTCTCTTGGAAACTCCCATTTGAGATCATATTCATATTCTCTGAAATCAACG              \n",
       "6 AGATCATATTCATATTCTCTGAAATCAACGTAGAAGTACTCATTATCTGAGGAGCCGGTCACCTGTACCATCTGTAG\n",
       "  X28 X29 X30 X31 X32 X33 X34 X35 X36\n",
       "1 25  21  1   真  0   0   594 600 601\n",
       "2 36  39  1   真  1   2   590 600 601\n",
       "3 44  48  1   真  1   2   598 611 612\n",
       "4 49  54  1   真  1   3   583 597 598\n",
       "5 63  45  1   真  1   2   592 611 612\n",
       "6 77  75  1   真  1   0   576 600 601"
      ]
     },
     "metadata": {},
     "output_type": "display_data"
    }
   ],
   "source": [
    "###########load data\n",
    "## ITD detected by ampliseq\n",
    "ampITD<-read.xlsx(\"D:/Project/project_yangjy_NR/FLT3-Project/results/target/Ampliseq/Results/ITD/All.ITD.xlsx\",2,encoding = \"UTF-8\",header = F) \n",
    "head(ampITD)"
   ]
  },
  {
   "cell_type": "code",
   "execution_count": 14,
   "id": "9c8b9fbb-6ab9-4e1c-bd6c-e9516d0bfb73",
   "metadata": {},
   "outputs": [
    {
     "data": {
      "text/html": [
       "<table class=\"dataframe\">\n",
       "<caption>A data.frame: 6 × 6</caption>\n",
       "<thead>\n",
       "\t<tr><th></th><th scope=col>X1</th><th scope=col>X2</th><th scope=col>X14</th><th scope=col>X17</th><th scope=col>X20</th><th scope=col>pts</th></tr>\n",
       "\t<tr><th></th><th scope=col>&lt;chr&gt;</th><th scope=col>&lt;chr&gt;</th><th scope=col>&lt;dbl&gt;</th><th scope=col>&lt;dbl&gt;</th><th scope=col>&lt;dbl&gt;</th><th scope=col>&lt;chr&gt;</th></tr>\n",
       "</thead>\n",
       "<tbody>\n",
       "\t<tr><th scope=row>1</th><td>patient1</td><td>1a</td><td> 5.6197714</td><td> 2.2348457</td><td> 0.4017187</td><td>1</td></tr>\n",
       "\t<tr><th scope=row>2</th><td>patient1</td><td>1b</td><td> 8.7265316</td><td>12.3500637</td><td>15.4598826</td><td>1</td></tr>\n",
       "\t<tr><th scope=row>3</th><td>patient1</td><td>1c</td><td> 1.4481148</td><td> 3.1761309</td><td> 0.4645639</td><td>1</td></tr>\n",
       "\t<tr><th scope=row>4</th><td>patient1</td><td>1d</td><td> 0.2631934</td><td> 0.4263094</td><td> 0.3251180</td><td>1</td></tr>\n",
       "\t<tr><th scope=row>5</th><td>patient1</td><td>1e</td><td>30.1121575</td><td>27.9051819</td><td> 2.6676230</td><td>1</td></tr>\n",
       "\t<tr><th scope=row>6</th><td>patient1</td><td>1f</td><td> 0.3976277</td><td> 0.4717699</td><td> 0.9724924</td><td>1</td></tr>\n",
       "</tbody>\n",
       "</table>\n"
      ],
      "text/latex": [
       "A data.frame: 6 × 6\n",
       "\\begin{tabular}{r|llllll}\n",
       "  & X1 & X2 & X14 & X17 & X20 & pts\\\\\n",
       "  & <chr> & <chr> & <dbl> & <dbl> & <dbl> & <chr>\\\\\n",
       "\\hline\n",
       "\t1 & patient1 & 1a &  5.6197714 &  2.2348457 &  0.4017187 & 1\\\\\n",
       "\t2 & patient1 & 1b &  8.7265316 & 12.3500637 & 15.4598826 & 1\\\\\n",
       "\t3 & patient1 & 1c &  1.4481148 &  3.1761309 &  0.4645639 & 1\\\\\n",
       "\t4 & patient1 & 1d &  0.2631934 &  0.4263094 &  0.3251180 & 1\\\\\n",
       "\t5 & patient1 & 1e & 30.1121575 & 27.9051819 &  2.6676230 & 1\\\\\n",
       "\t6 & patient1 & 1f &  0.3976277 &  0.4717699 &  0.9724924 & 1\\\\\n",
       "\\end{tabular}\n"
      ],
      "text/markdown": [
       "\n",
       "A data.frame: 6 × 6\n",
       "\n",
       "| <!--/--> | X1 &lt;chr&gt; | X2 &lt;chr&gt; | X14 &lt;dbl&gt; | X17 &lt;dbl&gt; | X20 &lt;dbl&gt; | pts &lt;chr&gt; |\n",
       "|---|---|---|---|---|---|---|\n",
       "| 1 | patient1 | 1a |  5.6197714 |  2.2348457 |  0.4017187 | 1 |\n",
       "| 2 | patient1 | 1b |  8.7265316 | 12.3500637 | 15.4598826 | 1 |\n",
       "| 3 | patient1 | 1c |  1.4481148 |  3.1761309 |  0.4645639 | 1 |\n",
       "| 4 | patient1 | 1d |  0.2631934 |  0.4263094 |  0.3251180 | 1 |\n",
       "| 5 | patient1 | 1e | 30.1121575 | 27.9051819 |  2.6676230 | 1 |\n",
       "| 6 | patient1 | 1f |  0.3976277 |  0.4717699 |  0.9724924 | 1 |\n",
       "\n"
      ],
      "text/plain": [
       "  X1       X2 X14        X17        X20        pts\n",
       "1 patient1 1a  5.6197714  2.2348457  0.4017187 1  \n",
       "2 patient1 1b  8.7265316 12.3500637 15.4598826 1  \n",
       "3 patient1 1c  1.4481148  3.1761309  0.4645639 1  \n",
       "4 patient1 1d  0.2631934  0.4263094  0.3251180 1  \n",
       "5 patient1 1e 30.1121575 27.9051819  2.6676230 1  \n",
       "6 patient1 1f  0.3976277  0.4717699  0.9724924 1  "
      ]
     },
     "metadata": {},
     "output_type": "display_data"
    },
    {
     "data": {
      "text/html": [
       "<table class=\"dataframe\">\n",
       "<caption>A data.frame: 6 × 6</caption>\n",
       "<thead>\n",
       "\t<tr><th></th><th scope=col>X1</th><th scope=col>X2</th><th scope=col>X14</th><th scope=col>X17</th><th scope=col>X20</th><th scope=col>pts</th></tr>\n",
       "\t<tr><th></th><th scope=col>&lt;chr&gt;</th><th scope=col>&lt;chr&gt;</th><th scope=col>&lt;dbl&gt;</th><th scope=col>&lt;dbl&gt;</th><th scope=col>&lt;dbl&gt;</th><th scope=col>&lt;chr&gt;</th></tr>\n",
       "</thead>\n",
       "<tbody>\n",
       "\t<tr><th scope=row>1</th><td>patient1</td><td>1a</td><td> 5.6197714</td><td> 2.2348457</td><td> 0.4017187</td><td>1</td></tr>\n",
       "\t<tr><th scope=row>2</th><td>patient1</td><td>1b</td><td> 8.7265316</td><td>12.3500637</td><td>15.4598826</td><td>1</td></tr>\n",
       "\t<tr><th scope=row>3</th><td>patient1</td><td>1c</td><td> 1.4481148</td><td> 3.1761309</td><td> 0.4645639</td><td>1</td></tr>\n",
       "\t<tr><th scope=row>4</th><td>patient1</td><td>1d</td><td> 0.2631934</td><td> 0.4263094</td><td> 0.3251180</td><td>1</td></tr>\n",
       "\t<tr><th scope=row>5</th><td>patient1</td><td>1e</td><td>30.1121575</td><td>27.9051819</td><td> 2.6676230</td><td>1</td></tr>\n",
       "\t<tr><th scope=row>6</th><td>patient1</td><td>1f</td><td> 0.3976277</td><td> 0.4717699</td><td> 0.9724924</td><td>1</td></tr>\n",
       "</tbody>\n",
       "</table>\n"
      ],
      "text/latex": [
       "A data.frame: 6 × 6\n",
       "\\begin{tabular}{r|llllll}\n",
       "  & X1 & X2 & X14 & X17 & X20 & pts\\\\\n",
       "  & <chr> & <chr> & <dbl> & <dbl> & <dbl> & <chr>\\\\\n",
       "\\hline\n",
       "\t1 & patient1 & 1a &  5.6197714 &  2.2348457 &  0.4017187 & 1\\\\\n",
       "\t2 & patient1 & 1b &  8.7265316 & 12.3500637 & 15.4598826 & 1\\\\\n",
       "\t3 & patient1 & 1c &  1.4481148 &  3.1761309 &  0.4645639 & 1\\\\\n",
       "\t4 & patient1 & 1d &  0.2631934 &  0.4263094 &  0.3251180 & 1\\\\\n",
       "\t5 & patient1 & 1e & 30.1121575 & 27.9051819 &  2.6676230 & 1\\\\\n",
       "\t6 & patient1 & 1f &  0.3976277 &  0.4717699 &  0.9724924 & 1\\\\\n",
       "\\end{tabular}\n"
      ],
      "text/markdown": [
       "\n",
       "A data.frame: 6 × 6\n",
       "\n",
       "| <!--/--> | X1 &lt;chr&gt; | X2 &lt;chr&gt; | X14 &lt;dbl&gt; | X17 &lt;dbl&gt; | X20 &lt;dbl&gt; | pts &lt;chr&gt; |\n",
       "|---|---|---|---|---|---|---|\n",
       "| 1 | patient1 | 1a |  5.6197714 |  2.2348457 |  0.4017187 | 1 |\n",
       "| 2 | patient1 | 1b |  8.7265316 | 12.3500637 | 15.4598826 | 1 |\n",
       "| 3 | patient1 | 1c |  1.4481148 |  3.1761309 |  0.4645639 | 1 |\n",
       "| 4 | patient1 | 1d |  0.2631934 |  0.4263094 |  0.3251180 | 1 |\n",
       "| 5 | patient1 | 1e | 30.1121575 | 27.9051819 |  2.6676230 | 1 |\n",
       "| 6 | patient1 | 1f |  0.3976277 |  0.4717699 |  0.9724924 | 1 |\n",
       "\n"
      ],
      "text/plain": [
       "  X1       X2 X14        X17        X20        pts\n",
       "1 patient1 1a  5.6197714  2.2348457  0.4017187 1  \n",
       "2 patient1 1b  8.7265316 12.3500637 15.4598826 1  \n",
       "3 patient1 1c  1.4481148  3.1761309  0.4645639 1  \n",
       "4 patient1 1d  0.2631934  0.4263094  0.3251180 1  \n",
       "5 patient1 1e 30.1121575 27.9051819  2.6676230 1  \n",
       "6 patient1 1f  0.3976277  0.4717699  0.9724924 1  "
      ]
     },
     "metadata": {},
     "output_type": "display_data"
    },
    {
     "data": {
      "text/html": [
       "<table class=\"dataframe\">\n",
       "<caption>A data.frame: 2 × 6</caption>\n",
       "<thead>\n",
       "\t<tr><th></th><th scope=col>X1</th><th scope=col>X2</th><th scope=col>X14</th><th scope=col>X17</th><th scope=col>X20</th><th scope=col>pts</th></tr>\n",
       "\t<tr><th></th><th scope=col>&lt;chr&gt;</th><th scope=col>&lt;chr&gt;</th><th scope=col>&lt;dbl&gt;</th><th scope=col>&lt;dbl&gt;</th><th scope=col>&lt;dbl&gt;</th><th scope=col>&lt;chr&gt;</th></tr>\n",
       "</thead>\n",
       "<tbody>\n",
       "\t<tr><th scope=row>8</th><td>patient3</td><td>3a</td><td>30.39449</td><td> 0.01680672</td><td> 0.05336179</td><td>3</td></tr>\n",
       "\t<tr><th scope=row>9</th><td>patient3</td><td>3b</td><td>18.18615</td><td>45.69536424</td><td>88.45772378</td><td>3</td></tr>\n",
       "</tbody>\n",
       "</table>\n"
      ],
      "text/latex": [
       "A data.frame: 2 × 6\n",
       "\\begin{tabular}{r|llllll}\n",
       "  & X1 & X2 & X14 & X17 & X20 & pts\\\\\n",
       "  & <chr> & <chr> & <dbl> & <dbl> & <dbl> & <chr>\\\\\n",
       "\\hline\n",
       "\t8 & patient3 & 3a & 30.39449 &  0.01680672 &  0.05336179 & 3\\\\\n",
       "\t9 & patient3 & 3b & 18.18615 & 45.69536424 & 88.45772378 & 3\\\\\n",
       "\\end{tabular}\n"
      ],
      "text/markdown": [
       "\n",
       "A data.frame: 2 × 6\n",
       "\n",
       "| <!--/--> | X1 &lt;chr&gt; | X2 &lt;chr&gt; | X14 &lt;dbl&gt; | X17 &lt;dbl&gt; | X20 &lt;dbl&gt; | pts &lt;chr&gt; |\n",
       "|---|---|---|---|---|---|---|\n",
       "| 8 | patient3 | 3a | 30.39449 |  0.01680672 |  0.05336179 | 3 |\n",
       "| 9 | patient3 | 3b | 18.18615 | 45.69536424 | 88.45772378 | 3 |\n",
       "\n"
      ],
      "text/plain": [
       "  X1       X2 X14      X17         X20         pts\n",
       "8 patient3 3a 30.39449  0.01680672  0.05336179 3  \n",
       "9 patient3 3b 18.18615 45.69536424 88.45772378 3  "
      ]
     },
     "metadata": {},
     "output_type": "display_data"
    },
    {
     "data": {
      "text/html": [
       "<table class=\"dataframe\">\n",
       "<caption>A data.frame: 5 × 6</caption>\n",
       "<thead>\n",
       "\t<tr><th></th><th scope=col>X1</th><th scope=col>X2</th><th scope=col>X14</th><th scope=col>X17</th><th scope=col>X20</th><th scope=col>pts</th></tr>\n",
       "\t<tr><th></th><th scope=col>&lt;chr&gt;</th><th scope=col>&lt;chr&gt;</th><th scope=col>&lt;dbl&gt;</th><th scope=col>&lt;dbl&gt;</th><th scope=col>&lt;dbl&gt;</th><th scope=col>&lt;chr&gt;</th></tr>\n",
       "</thead>\n",
       "<tbody>\n",
       "\t<tr><th scope=row>11</th><td>patient5</td><td>5a</td><td>0.07418742</td><td>3.7113973</td><td>13.160503</td><td>5</td></tr>\n",
       "\t<tr><th scope=row>12</th><td>patient5</td><td>5b</td><td>0.62252144</td><td>9.7071619</td><td>19.919188</td><td>5</td></tr>\n",
       "\t<tr><th scope=row>13</th><td>patient5</td><td>5c</td><td>0.25917527</td><td>6.9521579</td><td>15.991321</td><td>5</td></tr>\n",
       "\t<tr><th scope=row>14</th><td>patient5</td><td>5d</td><td>0.04174397</td><td>0.5720006</td><td> 1.531910</td><td>5</td></tr>\n",
       "\t<tr><th scope=row>15</th><td>patient5</td><td>5e</td><td>0.05104408</td><td>0.9968670</td><td> 1.199311</td><td>5</td></tr>\n",
       "</tbody>\n",
       "</table>\n"
      ],
      "text/latex": [
       "A data.frame: 5 × 6\n",
       "\\begin{tabular}{r|llllll}\n",
       "  & X1 & X2 & X14 & X17 & X20 & pts\\\\\n",
       "  & <chr> & <chr> & <dbl> & <dbl> & <dbl> & <chr>\\\\\n",
       "\\hline\n",
       "\t11 & patient5 & 5a & 0.07418742 & 3.7113973 & 13.160503 & 5\\\\\n",
       "\t12 & patient5 & 5b & 0.62252144 & 9.7071619 & 19.919188 & 5\\\\\n",
       "\t13 & patient5 & 5c & 0.25917527 & 6.9521579 & 15.991321 & 5\\\\\n",
       "\t14 & patient5 & 5d & 0.04174397 & 0.5720006 &  1.531910 & 5\\\\\n",
       "\t15 & patient5 & 5e & 0.05104408 & 0.9968670 &  1.199311 & 5\\\\\n",
       "\\end{tabular}\n"
      ],
      "text/markdown": [
       "\n",
       "A data.frame: 5 × 6\n",
       "\n",
       "| <!--/--> | X1 &lt;chr&gt; | X2 &lt;chr&gt; | X14 &lt;dbl&gt; | X17 &lt;dbl&gt; | X20 &lt;dbl&gt; | pts &lt;chr&gt; |\n",
       "|---|---|---|---|---|---|---|\n",
       "| 11 | patient5 | 5a | 0.07418742 | 3.7113973 | 13.160503 | 5 |\n",
       "| 12 | patient5 | 5b | 0.62252144 | 9.7071619 | 19.919188 | 5 |\n",
       "| 13 | patient5 | 5c | 0.25917527 | 6.9521579 | 15.991321 | 5 |\n",
       "| 14 | patient5 | 5d | 0.04174397 | 0.5720006 |  1.531910 | 5 |\n",
       "| 15 | patient5 | 5e | 0.05104408 | 0.9968670 |  1.199311 | 5 |\n",
       "\n"
      ],
      "text/plain": [
       "   X1       X2 X14        X17       X20       pts\n",
       "11 patient5 5a 0.07418742 3.7113973 13.160503 5  \n",
       "12 patient5 5b 0.62252144 9.7071619 19.919188 5  \n",
       "13 patient5 5c 0.25917527 6.9521579 15.991321 5  \n",
       "14 patient5 5d 0.04174397 0.5720006  1.531910 5  \n",
       "15 patient5 5e 0.05104408 0.9968670  1.199311 5  "
      ]
     },
     "metadata": {},
     "output_type": "display_data"
    },
    {
     "data": {
      "text/html": [
       "<table class=\"dataframe\">\n",
       "<caption>A data.frame: 3 × 6</caption>\n",
       "<thead>\n",
       "\t<tr><th></th><th scope=col>X1</th><th scope=col>X2</th><th scope=col>X14</th><th scope=col>X17</th><th scope=col>X20</th><th scope=col>pts</th></tr>\n",
       "\t<tr><th></th><th scope=col>&lt;chr&gt;</th><th scope=col>&lt;chr&gt;</th><th scope=col>&lt;dbl&gt;</th><th scope=col>&lt;dbl&gt;</th><th scope=col>&lt;dbl&gt;</th><th scope=col>&lt;chr&gt;</th></tr>\n",
       "</thead>\n",
       "<tbody>\n",
       "\t<tr><th scope=row>16</th><td>patient6</td><td>6a</td><td>0.70288754</td><td>11.3852249</td><td>42.9602133</td><td>6</td></tr>\n",
       "\t<tr><th scope=row>17</th><td>patient6</td><td>6b</td><td>0.01530280</td><td> 0.6009191</td><td> 0.0000000</td><td>6</td></tr>\n",
       "\t<tr><th scope=row>18</th><td>patient6</td><td>6c</td><td>0.06118313</td><td> 0.3694893</td><td> 0.1281582</td><td>6</td></tr>\n",
       "</tbody>\n",
       "</table>\n"
      ],
      "text/latex": [
       "A data.frame: 3 × 6\n",
       "\\begin{tabular}{r|llllll}\n",
       "  & X1 & X2 & X14 & X17 & X20 & pts\\\\\n",
       "  & <chr> & <chr> & <dbl> & <dbl> & <dbl> & <chr>\\\\\n",
       "\\hline\n",
       "\t16 & patient6 & 6a & 0.70288754 & 11.3852249 & 42.9602133 & 6\\\\\n",
       "\t17 & patient6 & 6b & 0.01530280 &  0.6009191 &  0.0000000 & 6\\\\\n",
       "\t18 & patient6 & 6c & 0.06118313 &  0.3694893 &  0.1281582 & 6\\\\\n",
       "\\end{tabular}\n"
      ],
      "text/markdown": [
       "\n",
       "A data.frame: 3 × 6\n",
       "\n",
       "| <!--/--> | X1 &lt;chr&gt; | X2 &lt;chr&gt; | X14 &lt;dbl&gt; | X17 &lt;dbl&gt; | X20 &lt;dbl&gt; | pts &lt;chr&gt; |\n",
       "|---|---|---|---|---|---|---|\n",
       "| 16 | patient6 | 6a | 0.70288754 | 11.3852249 | 42.9602133 | 6 |\n",
       "| 17 | patient6 | 6b | 0.01530280 |  0.6009191 |  0.0000000 | 6 |\n",
       "| 18 | patient6 | 6c | 0.06118313 |  0.3694893 |  0.1281582 | 6 |\n",
       "\n"
      ],
      "text/plain": [
       "   X1       X2 X14        X17        X20        pts\n",
       "16 patient6 6a 0.70288754 11.3852249 42.9602133 6  \n",
       "17 patient6 6b 0.01530280  0.6009191  0.0000000 6  \n",
       "18 patient6 6c 0.06118313  0.3694893  0.1281582 6  "
      ]
     },
     "metadata": {},
     "output_type": "display_data"
    },
    {
     "data": {
      "text/html": [
       "<table class=\"dataframe\">\n",
       "<caption>A data.frame: 1 × 6</caption>\n",
       "<thead>\n",
       "\t<tr><th></th><th scope=col>X1</th><th scope=col>X2</th><th scope=col>X14</th><th scope=col>X17</th><th scope=col>X20</th><th scope=col>pts</th></tr>\n",
       "\t<tr><th></th><th scope=col>&lt;chr&gt;</th><th scope=col>&lt;chr&gt;</th><th scope=col>&lt;dbl&gt;</th><th scope=col>&lt;dbl&gt;</th><th scope=col>&lt;dbl&gt;</th><th scope=col>&lt;chr&gt;</th></tr>\n",
       "</thead>\n",
       "<tbody>\n",
       "\t<tr><th scope=row>7</th><td>patient2</td><td>2a</td><td>0.4897799</td><td>44.24897</td><td>88.22865</td><td>2</td></tr>\n",
       "</tbody>\n",
       "</table>\n"
      ],
      "text/latex": [
       "A data.frame: 1 × 6\n",
       "\\begin{tabular}{r|llllll}\n",
       "  & X1 & X2 & X14 & X17 & X20 & pts\\\\\n",
       "  & <chr> & <chr> & <dbl> & <dbl> & <dbl> & <chr>\\\\\n",
       "\\hline\n",
       "\t7 & patient2 & 2a & 0.4897799 & 44.24897 & 88.22865 & 2\\\\\n",
       "\\end{tabular}\n"
      ],
      "text/markdown": [
       "\n",
       "A data.frame: 1 × 6\n",
       "\n",
       "| <!--/--> | X1 &lt;chr&gt; | X2 &lt;chr&gt; | X14 &lt;dbl&gt; | X17 &lt;dbl&gt; | X20 &lt;dbl&gt; | pts &lt;chr&gt; |\n",
       "|---|---|---|---|---|---|---|\n",
       "| 7 | patient2 | 2a | 0.4897799 | 44.24897 | 88.22865 | 2 |\n",
       "\n"
      ],
      "text/plain": [
       "  X1       X2 X14       X17      X20      pts\n",
       "7 patient2 2a 0.4897799 44.24897 88.22865 2  "
      ]
     },
     "metadata": {},
     "output_type": "display_data"
    },
    {
     "data": {
      "text/html": [
       "<table class=\"dataframe\">\n",
       "<caption>A data.frame: 1 × 6</caption>\n",
       "<thead>\n",
       "\t<tr><th></th><th scope=col>X1</th><th scope=col>X2</th><th scope=col>X14</th><th scope=col>X17</th><th scope=col>X20</th><th scope=col>pts</th></tr>\n",
       "\t<tr><th></th><th scope=col>&lt;chr&gt;</th><th scope=col>&lt;chr&gt;</th><th scope=col>&lt;dbl&gt;</th><th scope=col>&lt;dbl&gt;</th><th scope=col>&lt;dbl&gt;</th><th scope=col>&lt;chr&gt;</th></tr>\n",
       "</thead>\n",
       "<tbody>\n",
       "\t<tr><th scope=row>10</th><td>patient4</td><td>4a</td><td>8.521179</td><td>19.84568</td><td>39.19055</td><td>4</td></tr>\n",
       "</tbody>\n",
       "</table>\n"
      ],
      "text/latex": [
       "A data.frame: 1 × 6\n",
       "\\begin{tabular}{r|llllll}\n",
       "  & X1 & X2 & X14 & X17 & X20 & pts\\\\\n",
       "  & <chr> & <chr> & <dbl> & <dbl> & <dbl> & <chr>\\\\\n",
       "\\hline\n",
       "\t10 & patient4 & 4a & 8.521179 & 19.84568 & 39.19055 & 4\\\\\n",
       "\\end{tabular}\n"
      ],
      "text/markdown": [
       "\n",
       "A data.frame: 1 × 6\n",
       "\n",
       "| <!--/--> | X1 &lt;chr&gt; | X2 &lt;chr&gt; | X14 &lt;dbl&gt; | X17 &lt;dbl&gt; | X20 &lt;dbl&gt; | pts &lt;chr&gt; |\n",
       "|---|---|---|---|---|---|---|\n",
       "| 10 | patient4 | 4a | 8.521179 | 19.84568 | 39.19055 | 4 |\n",
       "\n"
      ],
      "text/plain": [
       "   X1       X2 X14      X17      X20      pts\n",
       "10 patient4 4a 8.521179 19.84568 39.19055 4  "
      ]
     },
     "metadata": {},
     "output_type": "display_data"
    },
    {
     "data": {
      "text/html": [
       "<strong>null device:</strong> 1"
      ],
      "text/latex": [
       "\\textbf{null device:} 1"
      ],
      "text/markdown": [
       "**null device:** 1"
      ],
      "text/plain": [
       "null device \n",
       "          1 "
      ]
     },
     "metadata": {},
     "output_type": "display_data"
    },
    {
     "data": {
      "image/png": "[encoded data removed]",
      "text/plain": [
       "plot without title"
      ]
     },
     "metadata": {
      "image/png": {
       "height": 420,
       "width": 420
      }
     },
     "output_type": "display_data"
    }
   ],
   "source": [
    "library(plotrix)\n",
    "#pdf(\"ITDdynamicsof6Patients-ampliseq_rename.pdf\",width =7,height = 5)\n",
    "plot(x=c(1,2,3),y=c(9.05,15.1,16.8),pch=20,type=\"o\",col=\"white\",\n",
    "     ylim=c(0,100),xlim=c(-1,22),ylab=\"\",xlab=\"\",xaxt=\"n\",yaxt=\"n\")\n",
    "\n",
    "\n",
    "#NR1 ITD#21\n",
    "##########修改X轴\n",
    "#xlab=c(\"Day1\",\"Day29\",\"Day66\",\n",
    "#       \"Day1\",\"Day233\",\"Day294\",\n",
    "#       \"Day1\",\"Day42\",\"Day69\",\" \",\n",
    "#       \"Day1\",\"Day77\",\"Day141\",\" \",\n",
    "#       \"Day1\",\"Day119\",\"Day160\",\n",
    "#       \"Day1\",\"Day58\",\"Day96\"\n",
    "#       )\n",
    "xlab=c(\"D0\",\"R1\",\"R2\",\n",
    "       \"D0\",\"R1\",\"R2\",\n",
    "       \"D0\",\"R1\",\"R2\",\" \",\n",
    "       \"D0\",\"R1\",\"R2\",\" \",\n",
    "       \"D0\",\"R1\",\"R2\",\n",
    "       \"D0\",\"R1\",\"R2\"\n",
    "       )\n",
    "axis(1,at=1:20,labels=xlab,las=3,cex.axis=0.8,cex.lab=0.5,\n",
    "     col = \"black\", lty = 1, lwd = 2,col.axis = \"black\")\n",
    "\n",
    "axis(2,at=c(0,20,40,60,80,100),labels=c(0,20,40,60,80,100),las=3,cex.axis=0.8,cex.lab=0.6,\n",
    "     col = \"black\", lty = 1, lwd = 2,col.axis = \"black\")\n",
    "#mtext(\"VAF of ITD by ampliseq\",side = 2,line=2)\n",
    "mtext(\"FLT3-ITD VAF(TDS, %)\",side = 2,line=2)\n",
    "#axis(4,at=c(0,20,40,60,80,100),labels=c(0,20,40,60,80,100),las=3,cex.axis=0.8,cex.lab=0.6,\n",
    "#     col = \"grey50\", lty = 1, lwd = 2,col.axis = \"grey20\")\n",
    "#mtext(\"%Blast in Bone marrow\",side = 4,line=1.3)\n",
    "#legend(\"topright\",legend = c(\"%Blast\",\"Sensitive ITD\",\"Resistant ITD\"), pch = c(15,20,20),cex=0.4,col=c(\"grey50\",\"blue\",\"red\"))\n",
    "legend(x = 1,y=80,legend = c(\"Sensitive ITD\",\"Resistant ITD\"), pch = c(20,20),cex=0.4,col=c(\"blue\",\"red\"))\n",
    "#text(1:dim(y)[1],y$fre+5,srt=90,labels=y$pro,srt=80,pos=3,cex=0.5)\n",
    "\n",
    "##defined col\n",
    "col<-function(x){\n",
    "  if(x[3]>x[1]){\n",
    "    y<-\"red\"\n",
    "  }else{\n",
    "    y<-\"blue\"\n",
    "  }\n",
    "  y\n",
    "}\n",
    "\n",
    "itd<-ampITD[,c(1,2,14,17,20)]\n",
    "pts<-substr(ampITD$X1,8,8) #extract patients id\n",
    "itd$pts<-pts\n",
    "head(itd)\n",
    "\n",
    "ptspos<-c(97,97,97)\n",
    "#NR1\n",
    "##NR1:\n",
    "times<-c(1,2,3)\n",
    "#NR1blast=c(64,94,34.8)\n",
    "#points(x=times,y=NR1blast,pch=15,col=\"grey50\",cex=1)\n",
    "#lines(x=times,y=NR1blast,pch=15,col=\"grey50\",lty=1,lwd=3)\n",
    "lines(x=times,y=ptspos,pch=15,col=\"black\",lty=1,lwd=2)\n",
    "text(times[2],ptspos[2],labels=\"patient1\",pos=3,cex=0.5)\n",
    "##itd plot in pts1\n",
    "data<-itd[which(itd$pts==1),]\n",
    "head(data)\n",
    "for (i in 1:dim(data)[1]) {\n",
    "  vaf<-data[i,c(3,4,5)]\n",
    "  points(x=times,y=vaf,pch=20,col=col(vaf),cex=1)\n",
    "  lines(x=times,y=vaf,pch=20,col=col(vaf),cex=1)\n",
    "  text(times[1],vaf[1],labels=data$X2[i],pos=2,cex=0.5,col = col(vaf))\n",
    "}\n",
    "\n",
    "#NR5 pt3\n",
    "times<-c(4,5,6)\n",
    "#NR5blast=c(65,61,93)\n",
    "#points(x=times,y=NR5blast,pch=15,col=\"grey50\",cex=1)\n",
    "#lines(x=times,y=NR5blast,pch=15,col=\"grey50\",lty=1,lwd=3)\n",
    "lines(x=times,y=ptspos,pch=15,col=\"black\",lty=1,lwd=2)\n",
    "text(times[2],ptspos[2],labels=\"Patient#3\",pos=3,cex=0.5)\n",
    "\n",
    "##itd plot in pts3\n",
    "data<-itd[which(itd$pts==3),]\n",
    "head(data)\n",
    "for (i in 1:dim(data)[1]) {\n",
    "  vaf<-data[i,c(3,4,5)]\n",
    "  points(x=times,y=vaf,pch=20,col=col(vaf),cex=1)\n",
    "  lines(x= times,y=vaf,pch=20,col=col(vaf),cex=1)\n",
    "  text(times[1]-0.2,vaf[1]-1,labels=data$X2[i],pos=3,cex=0.5,col = col(vaf))\n",
    "}\n",
    "\n",
    "#GSH pts5\n",
    "times<-c(7,8,9)\n",
    "#GSHblast=c(16,25,15.2)\n",
    "#points(x=times,y=GSHblast,pch=15,col=\"grey50\",cex=1)\n",
    "#lines(x=times,y=GSHblast,pch=15,col=\"grey50\",lty=1,lwd=3)\n",
    "lines(x=times,y=ptspos,pch=15,col=\"black\",lty=1,lwd=2)\n",
    "text(times[2],ptspos[2],labels=\"Patient#5\",pos=3,cex=0.5)\n",
    "\n",
    "##itd plot in pts5\n",
    "data<-itd[which(itd$pts==5),]\n",
    "head(data)\n",
    "for (i in 1:dim(data)[1]) {\n",
    "  vaf<-data[i,c(3,4,5)]\n",
    "  points(x=times,y=vaf,pch=20,col=col(vaf),cex=1)\n",
    "  lines(x= times,y=vaf,pch=20,col=col(vaf),cex=1)\n",
    "  text(times[3]+0.2,vaf[3]-1,labels=data$X2[i],pos=3,cex=0.5,col = col(vaf))\n",
    "}\n",
    "\n",
    "\n",
    "#XF pts6\n",
    "times<-c(11,12,13)\n",
    "#XFblast=c(25.2,28.2,71.5)\n",
    "#points(x=times,y=XFblast,pch=15,col=\"grey50\",cex=1)\n",
    "#lines(x=times,y=XFblast,pch=15,col=\"grey50\",lty=1,lwd=3)\n",
    "lines(x=times,y=ptspos,pch=15,col=\"black\",lty=1,lwd=2)\n",
    "text(times[2],ptspos[2],labels=\"Patient#6\",pos=3,cex=0.5)\n",
    "\n",
    "##itd plot in pts5\n",
    "data<-itd[which(itd$pts==6),]\n",
    "head(data)\n",
    "for (i in 1:dim(data)[1]) {\n",
    "  vaf<-data[i,c(3,4,5)]\n",
    "  points(x=times,y=vaf,pch=20,col=col(vaf),cex=1)\n",
    "  lines(x= times,y=vaf,pch=20,col=col(vaf),cex=1)\n",
    "  text(times[3]+0.2,vaf[3]-1,labels=data$X2[i],pos=3,cex=0.5,col = col(vaf))\n",
    "}\n",
    "\n",
    "\n",
    "#########################\n",
    "#NR2 pts2\n",
    "times<-c(15,16,17)\n",
    "#NR2blast=c(74.5,65,80)\n",
    "#points(x=times,y=NR2blast,pch=15,col=\"grey50\",cex=1)\n",
    "#lines(x=times,y=NR2blast,pch=15,col=\"grey50\",lty=1,lwd=3)\n",
    "lines(x=times,y=ptspos,pch=15,col=\"black\",lty=1,lwd=2)\n",
    "text(times[2],ptspos[2],labels=\"Patient#2\",pos=3,cex=0.5)\n",
    "##itd plot in pts2\n",
    "data<-itd[which(itd$pts==2),]\n",
    "head(data)\n",
    "for (i in 1:dim(data)[1]) {\n",
    "  vaf<-data[i,c(3,4,5)]\n",
    "  points(x=times,y=vaf,pch=20,col=col(vaf),cex=1)\n",
    "  lines(x= times,y=vaf,pch=20,col=col(vaf),cex=1)\n",
    "  text(times[3]+0.2,vaf[3]-1,labels=data$X2[i],pos=3,cex=0.5,col = col(vaf))\n",
    "}\n",
    "\n",
    "\n",
    "#ZEM pts4\n",
    "times<-c(18,19,20)\n",
    "#ZEMblast=c(76,64.4,79.8)\n",
    "#points(x=times,y=ZEMblast,pch=15,col=\"grey50\",cex=1)\n",
    "#lines(x=times,y=ZEMblast,pch=15,col=\"grey50\",lty=1,lwd=3)\n",
    "lines(x=times,y=ptspos,pch=15,col=\"black\",lty=1,lwd=2)\n",
    "text(times[2],ptspos[2],labels=\"Patient#4\",pos=3,cex=0.5)\n",
    "\n",
    "##itd plot in pts4\n",
    "data<-itd[which(itd$pts==4),]\n",
    "head(data)\n",
    "for (i in 1:dim(data)[1]) {\n",
    "  vaf<-data[i,c(3,4,5)]\n",
    "  points(x=times,y=vaf,pch=20,col=col(vaf),cex=1)\n",
    "  lines(x= times,y=vaf,pch=20,col=col(vaf),cex=1)\n",
    "  text(times[3]+0.2,vaf[3]-1,labels=data$X2[i],pos=3,cex=0.5,col = col(vaf))\n",
    "}\n",
    "\n",
    "\n",
    "abline(h = 5,col=\"grey\",lty=2) \n",
    "\n",
    "dev.off()"
   ]
  },
  {
   "cell_type": "code",
   "execution_count": null,
   "id": "a4e3ef07-178d-4aee-8d2c-50f5ba7da722",
   "metadata": {},
   "outputs": [],
   "source": []
  },
  {
   "cell_type": "code",
   "execution_count": null,
   "id": "7e70b771-ac8e-46cf-bcda-7764c8f4cc7d",
   "metadata": {},
   "outputs": [],
   "source": []
  },
  {
   "cell_type": "code",
   "execution_count": null,
   "id": "2f7c85fc-fa06-4916-9739-61c5cf5f59e1",
   "metadata": {},
   "outputs": [],
   "source": [
    "#fig4c"
   ]
  },
  {
   "cell_type": "code",
   "execution_count": 2,
   "id": "d2042d9a-130e-4792-9730-45c37b858653",
   "metadata": {},
   "outputs": [],
   "source": [
    "clin=read.xlsx(\"./4CNV/Supplementary S1 Clincal characters.xlsx\",sheet = 4,colNames = T)\n",
    "rename=read.xlsx(\"./4CNV/sample_oldname_newname.xlsx\",sheet = 1,colNames = T)\n",
    "rename$labels=apply(rename,1,function(x)paste0(x['PatientID'],\"_\",x['Timepoints']))"
   ]
  },
  {
   "cell_type": "code",
   "execution_count": 3,
   "id": "47e38421-8d88-48b2-803d-4fdfbdba4320",
   "metadata": {},
   "outputs": [],
   "source": [
    "seq<-read.xlsx(\"./10.figure_table/SupplementaryTable3_data_information.xlsx\",sheet=1)"
   ]
  },
  {
   "cell_type": "code",
   "execution_count": 4,
   "id": "02255d76-aeac-4b80-b7f8-f1a8afbe066c",
   "metadata": {},
   "outputs": [
    {
     "data": {
      "text/html": [
       "<style>\n",
       ".list-inline {list-style: none; margin:0; padding: 0}\n",
       ".list-inline>li {display: inline-block}\n",
       ".list-inline>li:not(:last-child)::after {content: \"\\00b7\"; padding: 0 .5ex}\n",
       "</style>\n",
       "<ol class=list-inline><li>'CZW'</li><li>'FY'</li><li>'GSH'</li><li>'JGX'</li><li>'LHL'</li><li>'Lxf'</li><li>'NR1'</li><li>'NR4'</li><li>'NR5'</li><li>'WY'</li><li>'XF'</li><li>'ZEM'</li></ol>\n"
      ],
      "text/latex": [
       "\\begin{enumerate*}\n",
       "\\item 'CZW'\n",
       "\\item 'FY'\n",
       "\\item 'GSH'\n",
       "\\item 'JGX'\n",
       "\\item 'LHL'\n",
       "\\item 'Lxf'\n",
       "\\item 'NR1'\n",
       "\\item 'NR4'\n",
       "\\item 'NR5'\n",
       "\\item 'WY'\n",
       "\\item 'XF'\n",
       "\\item 'ZEM'\n",
       "\\end{enumerate*}\n"
      ],
      "text/markdown": [
       "1. 'CZW'\n",
       "2. 'FY'\n",
       "3. 'GSH'\n",
       "4. 'JGX'\n",
       "5. 'LHL'\n",
       "6. 'Lxf'\n",
       "7. 'NR1'\n",
       "8. 'NR4'\n",
       "9. 'NR5'\n",
       "10. 'WY'\n",
       "11. 'XF'\n",
       "12. 'ZEM'\n",
       "\n",
       "\n"
      ],
      "text/plain": [
       " [1] \"CZW\" \"FY\"  \"GSH\" \"JGX\" \"LHL\" \"Lxf\" \"NR1\" \"NR4\" \"NR5\" \"WY\"  \"XF\"  \"ZEM\""
      ]
     },
     "metadata": {},
     "output_type": "display_data"
    }
   ],
   "source": [
    "mut_file<-list.files(path=\"./2SNV/0.Func/\", pattern = \"^IGV\", full.names = TRUE)\n",
    "mut_list<-lapply(mut_file, function(x)read.xlsx(x,sheet=2))\n",
    "rawid=gsub(\"./2SNV/0.Func/IGV_|.Union_hcSNVs_MAF_Func_addRGMinfo.xlsx\",\"\",mut_file)\n",
    "names(mut_list)=rawid\n",
    "rawid"
   ]
  },
  {
   "cell_type": "code",
   "execution_count": 8,
   "id": "58e93b77-06f7-4422-839d-7890c65adda6",
   "metadata": {},
   "outputs": [
    {
     "data": {
      "text/html": [
       "<table class=\"dataframe\">\n",
       "<caption>A data.frame: 1 × 2</caption>\n",
       "<thead>\n",
       "\t<tr><th></th><th scope=col>Patient</th><th scope=col>Sequencing</th></tr>\n",
       "\t<tr><th></th><th scope=col>&lt;chr&gt;</th><th scope=col>&lt;chr&gt;</th></tr>\n",
       "</thead>\n",
       "<tbody>\n",
       "\t<tr><th scope=row>1</th><td>AP09</td><td>WGS</td></tr>\n",
       "</tbody>\n",
       "</table>\n"
      ],
      "text/latex": [
       "A data.frame: 1 × 2\n",
       "\\begin{tabular}{r|ll}\n",
       "  & Patient & Sequencing\\\\\n",
       "  & <chr> & <chr>\\\\\n",
       "\\hline\n",
       "\t1 & AP09 & WGS\\\\\n",
       "\\end{tabular}\n"
      ],
      "text/markdown": [
       "\n",
       "A data.frame: 1 × 2\n",
       "\n",
       "| <!--/--> | Patient &lt;chr&gt; | Sequencing &lt;chr&gt; |\n",
       "|---|---|---|\n",
       "| 1 | AP09 | WGS |\n",
       "\n"
      ],
      "text/plain": [
       "  Patient Sequencing\n",
       "1 AP09    WGS       "
      ]
     },
     "metadata": {},
     "output_type": "display_data"
    }
   ],
   "source": [
    "seq %>% dplyr::filter(grepl(paste0(names(mut_list)[1],\"_\"),Sample)) %>% dplyr::select(Patient,Sequencing) %>% unique()"
   ]
  },
  {
   "cell_type": "code",
   "execution_count": 9,
   "id": "d3377d7a-11b0-4eea-978c-bddfa5d601a1",
   "metadata": {},
   "outputs": [],
   "source": [
    "#WGS/WXS检测到的突变信息\n",
    "wxs=NULL\n",
    "for(i in 1:length(mut_list) ){\n",
    "    # select key mutations\n",
    "    x=mut_list[[i]]\n",
    "    x=x[which(x$Is_show==1),]\n",
    "    id=grep(\"Chr:Pos\",names(x) )\n",
    "    id2=grep(\"ExonicFunc\",names(x))\n",
    "    mut=x[,c(8,id,(id+11+1):(id+11+3),id2)]\n",
    "    #id3=rename %>% filter(grepl(paste0(names(mut_list)[i],\"_\"),sample)) %>% select(PatientID) %>% t() %>% as.vector() %>% unique()\n",
    "    id3=seq %>% filter(grepl(paste0(names(mut_list)[i],\"_\"),Sample)) %>% select(Patient,Sequencing) %>% unique()\n",
    "    mut=mut %>% mutate(Patient=names(mut_list)[i], \n",
    "                       PatientID=id3[,'Patient'],\n",
    "                       Sequencing=id3[,'Sequencing'])\n",
    "    \n",
    "    # follow-up at multiple-timepoints\n",
    "    s=9\n",
    "    e=id-1\n",
    "    d=(e-s+1)/3\n",
    "    \n",
    "    t_id=c(\"D0\",\"R2\")\n",
    "    if(d==3) t_id=c(\"D0\",\"R1\",\"R2\")\n",
    "    \n",
    "    vaf=NULL\n",
    "    for(j in 1:d){\n",
    "        tmp=x[,(s+j*3-3):(s+j*3-1)]\n",
    "        colnames(tmp)=c(\"VAF\",\"DP\",\"AD\")\n",
    "        tmp=tmp %>% mutate(Timepoints =t_id[j] )\n",
    "        tmp=tmp[,c(\"Timepoints\",\"DP\",\"AD\",\"VAF\")]\n",
    "        tmp1=cbind(mut,tmp)       \n",
    "        vaf=rbind(vaf,tmp1)\n",
    "    }\n",
    "    \n",
    "    wxs=rbind(wxs,vaf)\n",
    "}\n"
   ]
  },
  {
   "cell_type": "code",
   "execution_count": 10,
   "id": "14cb2c3c-bdaa-4884-b266-b1ae76313d76",
   "metadata": {},
   "outputs": [],
   "source": [
    "#通过靶向数据验证的突变信息\n",
    "ampliseq<-NULL\n",
    "for(i in 1:6){\n",
    "  x=read.xlsx(\"./10.figure_table/SupplementaryTable8_somatic_mutation_validation.xlsx\",sheet=i)\n",
    "  #select the part of targeted deep sequencing\n",
    "  id=grep(\"Targeted.deep.sequencing\",names(x) )\n",
    "  x=x[,c(1:10,id:(id+8))] %>% filter(grepl(\"chr\",Chr))\n",
    "  mut=x[,c(1:10)] %>% mutate(PatientID=paste0(\"AP0\",i),Sequencing=\"TDS\",Chr_Pos=paste0(Chr,\":\",Pos))\n",
    "  #follow-up at multiple-timepoints\n",
    "  s=11\n",
    "  t_id=c(\"D0\",\"R1\",\"R2\")\n",
    "  vaf=NULL\n",
    "    for(j in 1:3){\n",
    "        tmp=x[,(s+j*3-3):(s+j*3-1)]\n",
    "        colnames(tmp)=c(\"RD\",\"AD\",\"VAF\")\n",
    "        tmp=apply(tmp,2,as.numeric) %>% as.data.frame()\n",
    "        tmp=tmp %>% mutate(DP=RD+AD,Timepoints =t_id[j] )\n",
    "        tmp=tmp[,c(\"Timepoints\",\"DP\",\"AD\",\"VAF\")]\n",
    "        tmp1=cbind(mut,tmp)       \n",
    "        vaf=rbind(vaf,tmp1)\n",
    "    }  \n",
    "    \n",
    "  ampliseq=rbind(ampliseq,vaf)\n",
    "}\n",
    "\n",
    "\n",
    "tds<-left_join(wxs[,c(1:6,8)] %>% unique() %>% arrange(PatientID),\n",
    "          ampliseq %>% select(Gene,PatientID,Sequencing,Chr_Pos,Timepoints,DP,AD,VAF),\n",
    "          by = c(\"Gene\"=\"Gene\",\"PatientID\"=\"PatientID\",\"Chr:Pos\"=\"Chr_Pos\")) %>% filter(!is.na(Sequencing))"
   ]
  },
  {
   "cell_type": "code",
   "execution_count": 12,
   "id": "7d112495-a1ad-4c33-aeae-4d660d9f034f",
   "metadata": {},
   "outputs": [
    {
     "data": {
      "text/html": [
       "<table class=\"dataframe\">\n",
       "<caption>A data.frame: 11 × 1</caption>\n",
       "<thead>\n",
       "\t<tr><th></th><th scope=col>PatientID</th></tr>\n",
       "\t<tr><th></th><th scope=col>&lt;chr&gt;</th></tr>\n",
       "</thead>\n",
       "<tbody>\n",
       "\t<tr><th scope=row>1</th><td>AP01</td></tr>\n",
       "\t<tr><th scope=row>10</th><td>AP02</td></tr>\n",
       "\t<tr><th scope=row>31</th><td>AP03</td></tr>\n",
       "\t<tr><th scope=row>40</th><td>AP04</td></tr>\n",
       "\t<tr><th scope=row>52</th><td>AP05</td></tr>\n",
       "\t<tr><th scope=row>64</th><td>AP06</td></tr>\n",
       "\t<tr><th scope=row>510</th><td>AP09</td></tr>\n",
       "\t<tr><th scope=row>310</th><td>AP10</td></tr>\n",
       "\t<tr><th scope=row>210</th><td>AP07</td></tr>\n",
       "\t<tr><th scope=row>132</th><td>AP11</td></tr>\n",
       "\t<tr><th scope=row>141</th><td>AP08</td></tr>\n",
       "</tbody>\n",
       "</table>\n"
      ],
      "text/latex": [
       "A data.frame: 11 × 1\n",
       "\\begin{tabular}{r|l}\n",
       "  & PatientID\\\\\n",
       "  & <chr>\\\\\n",
       "\\hline\n",
       "\t1 & AP01\\\\\n",
       "\t10 & AP02\\\\\n",
       "\t31 & AP03\\\\\n",
       "\t40 & AP04\\\\\n",
       "\t52 & AP05\\\\\n",
       "\t64 & AP06\\\\\n",
       "\t510 & AP09\\\\\n",
       "\t310 & AP10\\\\\n",
       "\t210 & AP07\\\\\n",
       "\t132 & AP11\\\\\n",
       "\t141 & AP08\\\\\n",
       "\\end{tabular}\n"
      ],
      "text/markdown": [
       "\n",
       "A data.frame: 11 × 1\n",
       "\n",
       "| <!--/--> | PatientID &lt;chr&gt; |\n",
       "|---|---|\n",
       "| 1 | AP01 |\n",
       "| 10 | AP02 |\n",
       "| 31 | AP03 |\n",
       "| 40 | AP04 |\n",
       "| 52 | AP05 |\n",
       "| 64 | AP06 |\n",
       "| 510 | AP09 |\n",
       "| 310 | AP10 |\n",
       "| 210 | AP07 |\n",
       "| 132 | AP11 |\n",
       "| 141 | AP08 |\n",
       "\n"
      ],
      "text/plain": [
       "    PatientID\n",
       "1   AP01     \n",
       "10  AP02     \n",
       "31  AP03     \n",
       "40  AP04     \n",
       "52  AP05     \n",
       "64  AP06     \n",
       "510 AP09     \n",
       "310 AP10     \n",
       "210 AP07     \n",
       "132 AP11     \n",
       "141 AP08     "
      ]
     },
     "metadata": {},
     "output_type": "display_data"
    }
   ],
   "source": [
    "rbind(tds,wxs %>% select(-Patient) %>% filter(! PatientID %in% tds$PatientID ) ) %>% select(PatientID) %>% unique()"
   ]
  },
  {
   "cell_type": "code",
   "execution_count": 13,
   "id": "8447a4e3-cf95-4805-a8a8-813009042606",
   "metadata": {},
   "outputs": [
    {
     "data": {
      "text/html": [
       "<style>\n",
       ".list-inline {list-style: none; margin:0; padding: 0}\n",
       ".list-inline>li {display: inline-block}\n",
       ".list-inline>li:not(:last-child)::after {content: \"\\00b7\"; padding: 0 .5ex}\n",
       "</style>\n",
       "<ol class=list-inline><li>'AP01'</li><li>'AP02'</li><li>'AP03'</li><li>'AP04'</li><li>'AP05'</li><li>'AP06'</li></ol>\n"
      ],
      "text/latex": [
       "\\begin{enumerate*}\n",
       "\\item 'AP01'\n",
       "\\item 'AP02'\n",
       "\\item 'AP03'\n",
       "\\item 'AP04'\n",
       "\\item 'AP05'\n",
       "\\item 'AP06'\n",
       "\\end{enumerate*}\n"
      ],
      "text/markdown": [
       "1. 'AP01'\n",
       "2. 'AP02'\n",
       "3. 'AP03'\n",
       "4. 'AP04'\n",
       "5. 'AP05'\n",
       "6. 'AP06'\n",
       "\n",
       "\n"
      ],
      "text/plain": [
       "[1] \"AP01\" \"AP02\" \"AP03\" \"AP04\" \"AP05\" \"AP06\""
      ]
     },
     "metadata": {},
     "output_type": "display_data"
    }
   ],
   "source": [
    "paste0('AP0',c(1:6))"
   ]
  },
  {
   "cell_type": "code",
   "execution_count": 19,
   "id": "a46e29b4-7cb2-4071-86eb-1f3b316fc9c6",
   "metadata": {},
   "outputs": [
    {
     "data": {
      "text/html": [
       "<table class=\"dataframe\">\n",
       "<caption>A data.frame: 6 × 13</caption>\n",
       "<thead>\n",
       "\t<tr><th></th><th scope=col>Gene</th><th scope=col>Chr:Pos</th><th scope=col>Basechange</th><th scope=col>Codonchange</th><th scope=col>AAchange</th><th scope=col>ExonicFunc.refGene</th><th scope=col>PatientID</th><th scope=col>Sequencing</th><th scope=col>Timepoints</th><th scope=col>DP</th><th scope=col>AD</th><th scope=col>VAF</th><th scope=col>label</th></tr>\n",
       "\t<tr><th></th><th scope=col>&lt;chr&gt;</th><th scope=col>&lt;chr&gt;</th><th scope=col>&lt;chr&gt;</th><th scope=col>&lt;chr&gt;</th><th scope=col>&lt;chr&gt;</th><th scope=col>&lt;chr&gt;</th><th scope=col>&lt;chr&gt;</th><th scope=col>&lt;chr&gt;</th><th scope=col>&lt;chr&gt;</th><th scope=col>&lt;dbl&gt;</th><th scope=col>&lt;dbl&gt;</th><th scope=col>&lt;dbl&gt;</th><th scope=col>&lt;chr&gt;</th></tr>\n",
       "</thead>\n",
       "<tbody>\n",
       "\t<tr><th scope=row>1</th><td>WT1 </td><td>chr11:32417878</td><td>T&gt;G</td><td>c.A1123C</td><td>p.M375L</td><td>nonsynonymous SNV</td><td>AP01</td><td>TDS</td><td>D0</td><td>17250</td><td>8295</td><td>48.09</td><td>AP01_D0</td></tr>\n",
       "\t<tr><th scope=row>2</th><td>WT1 </td><td>chr11:32417878</td><td>T&gt;G</td><td>c.A1123C</td><td>p.M375L</td><td>nonsynonymous SNV</td><td>AP01</td><td>TDS</td><td>R1</td><td>15387</td><td>6595</td><td>42.86</td><td>AP01_R1</td></tr>\n",
       "\t<tr><th scope=row>3</th><td>WT1 </td><td>chr11:32417878</td><td>T&gt;G</td><td>c.A1123C</td><td>p.M375L</td><td>nonsynonymous SNV</td><td>AP01</td><td>TDS</td><td>R2</td><td>21921</td><td>5962</td><td>27.20</td><td>AP01_R2</td></tr>\n",
       "\t<tr><th scope=row>4</th><td>WDR4</td><td>chr21:44282410</td><td>A&gt;T</td><td>c.T548A </td><td>p.F183Y</td><td>nonsynonymous SNV</td><td>AP01</td><td>TDS</td><td>D0</td><td> 9511</td><td>4717</td><td>49.60</td><td>AP01_D0</td></tr>\n",
       "\t<tr><th scope=row>5</th><td>WDR4</td><td>chr21:44282410</td><td>A&gt;T</td><td>c.T548A </td><td>p.F183Y</td><td>nonsynonymous SNV</td><td>AP01</td><td>TDS</td><td>R1</td><td> 9485</td><td>4221</td><td>44.50</td><td>AP01_R1</td></tr>\n",
       "\t<tr><th scope=row>6</th><td>WDR4</td><td>chr21:44282410</td><td>A&gt;T</td><td>c.T548A </td><td>p.F183Y</td><td>nonsynonymous SNV</td><td>AP01</td><td>TDS</td><td>R2</td><td>12514</td><td>3418</td><td>27.31</td><td>AP01_R2</td></tr>\n",
       "</tbody>\n",
       "</table>\n"
      ],
      "text/latex": [
       "A data.frame: 6 × 13\n",
       "\\begin{tabular}{r|lllllllllllll}\n",
       "  & Gene & Chr:Pos & Basechange & Codonchange & AAchange & ExonicFunc.refGene & PatientID & Sequencing & Timepoints & DP & AD & VAF & label\\\\\n",
       "  & <chr> & <chr> & <chr> & <chr> & <chr> & <chr> & <chr> & <chr> & <chr> & <dbl> & <dbl> & <dbl> & <chr>\\\\\n",
       "\\hline\n",
       "\t1 & WT1  & chr11:32417878 & T>G & c.A1123C & p.M375L & nonsynonymous SNV & AP01 & TDS & D0 & 17250 & 8295 & 48.09 & AP01\\_D0\\\\\n",
       "\t2 & WT1  & chr11:32417878 & T>G & c.A1123C & p.M375L & nonsynonymous SNV & AP01 & TDS & R1 & 15387 & 6595 & 42.86 & AP01\\_R1\\\\\n",
       "\t3 & WT1  & chr11:32417878 & T>G & c.A1123C & p.M375L & nonsynonymous SNV & AP01 & TDS & R2 & 21921 & 5962 & 27.20 & AP01\\_R2\\\\\n",
       "\t4 & WDR4 & chr21:44282410 & A>T & c.T548A  & p.F183Y & nonsynonymous SNV & AP01 & TDS & D0 &  9511 & 4717 & 49.60 & AP01\\_D0\\\\\n",
       "\t5 & WDR4 & chr21:44282410 & A>T & c.T548A  & p.F183Y & nonsynonymous SNV & AP01 & TDS & R1 &  9485 & 4221 & 44.50 & AP01\\_R1\\\\\n",
       "\t6 & WDR4 & chr21:44282410 & A>T & c.T548A  & p.F183Y & nonsynonymous SNV & AP01 & TDS & R2 & 12514 & 3418 & 27.31 & AP01\\_R2\\\\\n",
       "\\end{tabular}\n"
      ],
      "text/markdown": [
       "\n",
       "A data.frame: 6 × 13\n",
       "\n",
       "| <!--/--> | Gene &lt;chr&gt; | Chr:Pos &lt;chr&gt; | Basechange &lt;chr&gt; | Codonchange &lt;chr&gt; | AAchange &lt;chr&gt; | ExonicFunc.refGene &lt;chr&gt; | PatientID &lt;chr&gt; | Sequencing &lt;chr&gt; | Timepoints &lt;chr&gt; | DP &lt;dbl&gt; | AD &lt;dbl&gt; | VAF &lt;dbl&gt; | label &lt;chr&gt; |\n",
       "|---|---|---|---|---|---|---|---|---|---|---|---|---|---|\n",
       "| 1 | WT1  | chr11:32417878 | T&gt;G | c.A1123C | p.M375L | nonsynonymous SNV | AP01 | TDS | D0 | 17250 | 8295 | 48.09 | AP01_D0 |\n",
       "| 2 | WT1  | chr11:32417878 | T&gt;G | c.A1123C | p.M375L | nonsynonymous SNV | AP01 | TDS | R1 | 15387 | 6595 | 42.86 | AP01_R1 |\n",
       "| 3 | WT1  | chr11:32417878 | T&gt;G | c.A1123C | p.M375L | nonsynonymous SNV | AP01 | TDS | R2 | 21921 | 5962 | 27.20 | AP01_R2 |\n",
       "| 4 | WDR4 | chr21:44282410 | A&gt;T | c.T548A  | p.F183Y | nonsynonymous SNV | AP01 | TDS | D0 |  9511 | 4717 | 49.60 | AP01_D0 |\n",
       "| 5 | WDR4 | chr21:44282410 | A&gt;T | c.T548A  | p.F183Y | nonsynonymous SNV | AP01 | TDS | R1 |  9485 | 4221 | 44.50 | AP01_R1 |\n",
       "| 6 | WDR4 | chr21:44282410 | A&gt;T | c.T548A  | p.F183Y | nonsynonymous SNV | AP01 | TDS | R2 | 12514 | 3418 | 27.31 | AP01_R2 |\n",
       "\n"
      ],
      "text/plain": [
       "  Gene Chr:Pos        Basechange Codonchange AAchange ExonicFunc.refGene\n",
       "1 WT1  chr11:32417878 T>G        c.A1123C    p.M375L  nonsynonymous SNV \n",
       "2 WT1  chr11:32417878 T>G        c.A1123C    p.M375L  nonsynonymous SNV \n",
       "3 WT1  chr11:32417878 T>G        c.A1123C    p.M375L  nonsynonymous SNV \n",
       "4 WDR4 chr21:44282410 A>T        c.T548A     p.F183Y  nonsynonymous SNV \n",
       "5 WDR4 chr21:44282410 A>T        c.T548A     p.F183Y  nonsynonymous SNV \n",
       "6 WDR4 chr21:44282410 A>T        c.T548A     p.F183Y  nonsynonymous SNV \n",
       "  PatientID Sequencing Timepoints DP    AD   VAF   label  \n",
       "1 AP01      TDS        D0         17250 8295 48.09 AP01_D0\n",
       "2 AP01      TDS        R1         15387 6595 42.86 AP01_R1\n",
       "3 AP01      TDS        R2         21921 5962 27.20 AP01_R2\n",
       "4 AP01      TDS        D0          9511 4717 49.60 AP01_D0\n",
       "5 AP01      TDS        R1          9485 4221 44.50 AP01_R1\n",
       "6 AP01      TDS        R2         12514 3418 27.31 AP01_R2"
      ]
     },
     "metadata": {},
     "output_type": "display_data"
    }
   ],
   "source": [
    "dat %>% head()"
   ]
  },
  {
   "cell_type": "code",
   "execution_count": 24,
   "id": "66db390f-f750-466d-895f-03cfd9d57935",
   "metadata": {},
   "outputs": [],
   "source": [
    "#确定关键对象的突变信息\n",
    "dat=rbind(tds,wxs %>% select(-Patient) %>% filter(! PatientID %in% tds$PatientID ) ) %>% filter(PatientID %in% paste0('AP0',c(1:6)))  %>% \n",
    "    arrange(PatientID) %>% mutate(label=paste0(PatientID,\"_\",Timepoints))\n",
    "\n",
    "#构建注释部分\n",
    "anno= dat %>% select(PatientID,Sequencing,Timepoints,label) %>% rename(\"TDS\"=\"Sequencing\") %>% unique() %>% \n",
    "     mutate(FLT3ITD=clin$FLT3ITD[match(PatientID,clin$ID)],\n",
    "            `DUP98-NSD1`=ifelse(label==\"AP01_D0\" ,\"Mutant\",\"WT\") ,\n",
    "            `DUP98-HXD13`=ifelse(label==\"AP05_D0\" ,\"Mutant\",\"WT\") ,\n",
    "            `MLL-PTD`=ifelse(label==\"AP03_R2\" | label==\"AP04_D0\" ,\"Mutant\",\"WT\"),\n",
    "            Sex=clin$Sex[match(PatientID,clin$ID)],\n",
    "            Blast=seq$Blast[match(label,paste0(seq$Patient,\"_\",seq$Timepoint) ) ],\n",
    "            Blast=round(as.numeric(Blast),2)\n",
    "           ) %>% arrange(FLT3ITD,label)\n",
    "rownames(anno)=anno$label\n",
    "anno['AP03_R1','Blast']=61\n",
    "anno['AP04_R1','Blast']=64.4\n",
    "anno['AP05_R1','Blast']=25\n",
    "anno['AP06_R1','Blast']=28.2\n",
    "\n",
    "#构建热图的矩阵部分\n",
    "mat= dat %>% mutate(label = factor(label, levels= anno$label )) %>% dcast(.,Gene~label,value.var = \"VAF\",fun.aggregate = sum)\n",
    "rownames(mat)=mat[,1]"
   ]
  },
  {
   "cell_type": "code",
   "execution_count": 25,
   "id": "c3295b7f-ab86-41ef-a64a-d4314a2f187b",
   "metadata": {},
   "outputs": [
    {
     "data": {
      "text/html": [
       "<table class=\"dataframe\">\n",
       "<caption>A data.frame: 6 × 19</caption>\n",
       "<thead>\n",
       "\t<tr><th></th><th scope=col>Gene</th><th scope=col>AP01_D0</th><th scope=col>AP01_R1</th><th scope=col>AP01_R2</th><th scope=col>AP03_D0</th><th scope=col>AP03_R1</th><th scope=col>AP03_R2</th><th scope=col>AP05_D0</th><th scope=col>AP05_R1</th><th scope=col>AP05_R2</th><th scope=col>AP06_D0</th><th scope=col>AP06_R1</th><th scope=col>AP06_R2</th><th scope=col>AP02_D0</th><th scope=col>AP02_R1</th><th scope=col>AP02_R2</th><th scope=col>AP04_D0</th><th scope=col>AP04_R1</th><th scope=col>AP04_R2</th></tr>\n",
       "\t<tr><th></th><th scope=col>&lt;chr&gt;</th><th scope=col>&lt;dbl&gt;</th><th scope=col>&lt;dbl&gt;</th><th scope=col>&lt;dbl&gt;</th><th scope=col>&lt;dbl&gt;</th><th scope=col>&lt;dbl&gt;</th><th scope=col>&lt;dbl&gt;</th><th scope=col>&lt;dbl&gt;</th><th scope=col>&lt;dbl&gt;</th><th scope=col>&lt;dbl&gt;</th><th scope=col>&lt;dbl&gt;</th><th scope=col>&lt;dbl&gt;</th><th scope=col>&lt;dbl&gt;</th><th scope=col>&lt;dbl&gt;</th><th scope=col>&lt;dbl&gt;</th><th scope=col>&lt;dbl&gt;</th><th scope=col>&lt;dbl&gt;</th><th scope=col>&lt;dbl&gt;</th><th scope=col>&lt;dbl&gt;</th></tr>\n",
       "</thead>\n",
       "<tbody>\n",
       "\t<tr><th scope=row>ABCD1</th><td>ABCD1 </td><td>0</td><td>0</td><td>0</td><td> 0.00</td><td> 0.00</td><td> 0.00</td><td> 0.00</td><td> 0.0</td><td>0.00</td><td>0.00</td><td> 0.00</td><td> 0.0</td><td>0.32</td><td>24.1</td><td>45.76</td><td> 0.00</td><td> 0.00</td><td> 0.00</td></tr>\n",
       "\t<tr><th scope=row>ATRX</th><td>ATRX  </td><td>0</td><td>0</td><td>0</td><td> 0.00</td><td> 0.00</td><td> 0.00</td><td> 0.00</td><td> 0.0</td><td>0.00</td><td>0.00</td><td> 0.00</td><td> 0.0</td><td>0.47</td><td>23.8</td><td>47.15</td><td> 0.00</td><td> 0.00</td><td> 0.00</td></tr>\n",
       "\t<tr><th scope=row>BRD7</th><td>BRD7  </td><td>0</td><td>0</td><td>0</td><td> 0.07</td><td>11.69</td><td>34.46</td><td> 0.00</td><td> 0.0</td><td>0.00</td><td>0.00</td><td> 0.00</td><td> 0.0</td><td>0.00</td><td> 0.0</td><td> 0.00</td><td> 0.00</td><td> 0.00</td><td> 0.00</td></tr>\n",
       "\t<tr><th scope=row>CENPE</th><td>CENPE </td><td>0</td><td>0</td><td>0</td><td>44.72</td><td>30.54</td><td>47.64</td><td> 0.00</td><td> 0.0</td><td>0.00</td><td>0.00</td><td> 0.00</td><td> 0.0</td><td>0.00</td><td> 0.0</td><td> 0.00</td><td> 0.00</td><td> 0.00</td><td> 0.00</td></tr>\n",
       "\t<tr><th scope=row>COL6A5</th><td>COL6A5</td><td>0</td><td>0</td><td>0</td><td> 0.00</td><td> 0.00</td><td> 0.00</td><td> 0.00</td><td> 0.0</td><td>0.00</td><td>0.85</td><td>12.74</td><td>44.4</td><td>0.00</td><td> 0.0</td><td> 0.00</td><td> 0.00</td><td> 0.00</td><td> 0.00</td></tr>\n",
       "\t<tr><th scope=row>CSF3R</th><td>CSF3R </td><td>0</td><td>0</td><td>0</td><td> 0.00</td><td> 0.00</td><td> 0.00</td><td>31.59</td><td>17.4</td><td>2.35</td><td>0.00</td><td> 0.00</td><td> 0.0</td><td>0.00</td><td> 0.0</td><td> 0.00</td><td>25.35</td><td>40.02</td><td>45.98</td></tr>\n",
       "</tbody>\n",
       "</table>\n"
      ],
      "text/latex": [
       "A data.frame: 6 × 19\n",
       "\\begin{tabular}{r|lllllllllllllllllll}\n",
       "  & Gene & AP01\\_D0 & AP01\\_R1 & AP01\\_R2 & AP03\\_D0 & AP03\\_R1 & AP03\\_R2 & AP05\\_D0 & AP05\\_R1 & AP05\\_R2 & AP06\\_D0 & AP06\\_R1 & AP06\\_R2 & AP02\\_D0 & AP02\\_R1 & AP02\\_R2 & AP04\\_D0 & AP04\\_R1 & AP04\\_R2\\\\\n",
       "  & <chr> & <dbl> & <dbl> & <dbl> & <dbl> & <dbl> & <dbl> & <dbl> & <dbl> & <dbl> & <dbl> & <dbl> & <dbl> & <dbl> & <dbl> & <dbl> & <dbl> & <dbl> & <dbl>\\\\\n",
       "\\hline\n",
       "\tABCD1 & ABCD1  & 0 & 0 & 0 &  0.00 &  0.00 &  0.00 &  0.00 &  0.0 & 0.00 & 0.00 &  0.00 &  0.0 & 0.32 & 24.1 & 45.76 &  0.00 &  0.00 &  0.00\\\\\n",
       "\tATRX & ATRX   & 0 & 0 & 0 &  0.00 &  0.00 &  0.00 &  0.00 &  0.0 & 0.00 & 0.00 &  0.00 &  0.0 & 0.47 & 23.8 & 47.15 &  0.00 &  0.00 &  0.00\\\\\n",
       "\tBRD7 & BRD7   & 0 & 0 & 0 &  0.07 & 11.69 & 34.46 &  0.00 &  0.0 & 0.00 & 0.00 &  0.00 &  0.0 & 0.00 &  0.0 &  0.00 &  0.00 &  0.00 &  0.00\\\\\n",
       "\tCENPE & CENPE  & 0 & 0 & 0 & 44.72 & 30.54 & 47.64 &  0.00 &  0.0 & 0.00 & 0.00 &  0.00 &  0.0 & 0.00 &  0.0 &  0.00 &  0.00 &  0.00 &  0.00\\\\\n",
       "\tCOL6A5 & COL6A5 & 0 & 0 & 0 &  0.00 &  0.00 &  0.00 &  0.00 &  0.0 & 0.00 & 0.85 & 12.74 & 44.4 & 0.00 &  0.0 &  0.00 &  0.00 &  0.00 &  0.00\\\\\n",
       "\tCSF3R & CSF3R  & 0 & 0 & 0 &  0.00 &  0.00 &  0.00 & 31.59 & 17.4 & 2.35 & 0.00 &  0.00 &  0.0 & 0.00 &  0.0 &  0.00 & 25.35 & 40.02 & 45.98\\\\\n",
       "\\end{tabular}\n"
      ],
      "text/markdown": [
       "\n",
       "A data.frame: 6 × 19\n",
       "\n",
       "| <!--/--> | Gene &lt;chr&gt; | AP01_D0 &lt;dbl&gt; | AP01_R1 &lt;dbl&gt; | AP01_R2 &lt;dbl&gt; | AP03_D0 &lt;dbl&gt; | AP03_R1 &lt;dbl&gt; | AP03_R2 &lt;dbl&gt; | AP05_D0 &lt;dbl&gt; | AP05_R1 &lt;dbl&gt; | AP05_R2 &lt;dbl&gt; | AP06_D0 &lt;dbl&gt; | AP06_R1 &lt;dbl&gt; | AP06_R2 &lt;dbl&gt; | AP02_D0 &lt;dbl&gt; | AP02_R1 &lt;dbl&gt; | AP02_R2 &lt;dbl&gt; | AP04_D0 &lt;dbl&gt; | AP04_R1 &lt;dbl&gt; | AP04_R2 &lt;dbl&gt; |\n",
       "|---|---|---|---|---|---|---|---|---|---|---|---|---|---|---|---|---|---|---|---|\n",
       "| ABCD1 | ABCD1  | 0 | 0 | 0 |  0.00 |  0.00 |  0.00 |  0.00 |  0.0 | 0.00 | 0.00 |  0.00 |  0.0 | 0.32 | 24.1 | 45.76 |  0.00 |  0.00 |  0.00 |\n",
       "| ATRX | ATRX   | 0 | 0 | 0 |  0.00 |  0.00 |  0.00 |  0.00 |  0.0 | 0.00 | 0.00 |  0.00 |  0.0 | 0.47 | 23.8 | 47.15 |  0.00 |  0.00 |  0.00 |\n",
       "| BRD7 | BRD7   | 0 | 0 | 0 |  0.07 | 11.69 | 34.46 |  0.00 |  0.0 | 0.00 | 0.00 |  0.00 |  0.0 | 0.00 |  0.0 |  0.00 |  0.00 |  0.00 |  0.00 |\n",
       "| CENPE | CENPE  | 0 | 0 | 0 | 44.72 | 30.54 | 47.64 |  0.00 |  0.0 | 0.00 | 0.00 |  0.00 |  0.0 | 0.00 |  0.0 |  0.00 |  0.00 |  0.00 |  0.00 |\n",
       "| COL6A5 | COL6A5 | 0 | 0 | 0 |  0.00 |  0.00 |  0.00 |  0.00 |  0.0 | 0.00 | 0.85 | 12.74 | 44.4 | 0.00 |  0.0 |  0.00 |  0.00 |  0.00 |  0.00 |\n",
       "| CSF3R | CSF3R  | 0 | 0 | 0 |  0.00 |  0.00 |  0.00 | 31.59 | 17.4 | 2.35 | 0.00 |  0.00 |  0.0 | 0.00 |  0.0 |  0.00 | 25.35 | 40.02 | 45.98 |\n",
       "\n"
      ],
      "text/plain": [
       "       Gene   AP01_D0 AP01_R1 AP01_R2 AP03_D0 AP03_R1 AP03_R2 AP05_D0 AP05_R1\n",
       "ABCD1  ABCD1  0       0       0        0.00    0.00    0.00    0.00    0.0   \n",
       "ATRX   ATRX   0       0       0        0.00    0.00    0.00    0.00    0.0   \n",
       "BRD7   BRD7   0       0       0        0.07   11.69   34.46    0.00    0.0   \n",
       "CENPE  CENPE  0       0       0       44.72   30.54   47.64    0.00    0.0   \n",
       "COL6A5 COL6A5 0       0       0        0.00    0.00    0.00    0.00    0.0   \n",
       "CSF3R  CSF3R  0       0       0        0.00    0.00    0.00   31.59   17.4   \n",
       "       AP05_R2 AP06_D0 AP06_R1 AP06_R2 AP02_D0 AP02_R1 AP02_R2 AP04_D0 AP04_R1\n",
       "ABCD1  0.00    0.00     0.00    0.0    0.32    24.1    45.76    0.00    0.00  \n",
       "ATRX   0.00    0.00     0.00    0.0    0.47    23.8    47.15    0.00    0.00  \n",
       "BRD7   0.00    0.00     0.00    0.0    0.00     0.0     0.00    0.00    0.00  \n",
       "CENPE  0.00    0.00     0.00    0.0    0.00     0.0     0.00    0.00    0.00  \n",
       "COL6A5 0.00    0.85    12.74   44.4    0.00     0.0     0.00    0.00    0.00  \n",
       "CSF3R  2.35    0.00     0.00    0.0    0.00     0.0     0.00   25.35   40.02  \n",
       "       AP04_R2\n",
       "ABCD1   0.00  \n",
       "ATRX    0.00  \n",
       "BRD7    0.00  \n",
       "CENPE   0.00  \n",
       "COL6A5  0.00  \n",
       "CSF3R  45.98  "
      ]
     },
     "metadata": {},
     "output_type": "display_data"
    }
   ],
   "source": [
    "mat %>% head()"
   ]
  },
  {
   "cell_type": "code",
   "execution_count": 26,
   "id": "11cbefe8-7d49-429c-bc25-045dcddb665e",
   "metadata": {},
   "outputs": [
    {
     "data": {
      "text/html": [
       "<style>\n",
       ".list-inline {list-style: none; margin:0; padding: 0}\n",
       ".list-inline>li {display: inline-block}\n",
       ".list-inline>li:not(:last-child)::after {content: \"\\00b7\"; padding: 0 .5ex}\n",
       "</style>\n",
       "<ol class=list-inline><li>'Mutant'</li><li>'WT'</li><li>'WT'</li><li>'WT'</li><li>'WT'</li><li>'WT'</li><li>'WT'</li><li>'WT'</li><li>'WT'</li><li>'WT'</li><li>'WT'</li><li>'WT'</li><li>'WT'</li><li>'WT'</li><li>'WT'</li><li>'WT'</li><li>'WT'</li><li>'WT'</li></ol>\n"
      ],
      "text/latex": [
       "\\begin{enumerate*}\n",
       "\\item 'Mutant'\n",
       "\\item 'WT'\n",
       "\\item 'WT'\n",
       "\\item 'WT'\n",
       "\\item 'WT'\n",
       "\\item 'WT'\n",
       "\\item 'WT'\n",
       "\\item 'WT'\n",
       "\\item 'WT'\n",
       "\\item 'WT'\n",
       "\\item 'WT'\n",
       "\\item 'WT'\n",
       "\\item 'WT'\n",
       "\\item 'WT'\n",
       "\\item 'WT'\n",
       "\\item 'WT'\n",
       "\\item 'WT'\n",
       "\\item 'WT'\n",
       "\\end{enumerate*}\n"
      ],
      "text/markdown": [
       "1. 'Mutant'\n",
       "2. 'WT'\n",
       "3. 'WT'\n",
       "4. 'WT'\n",
       "5. 'WT'\n",
       "6. 'WT'\n",
       "7. 'WT'\n",
       "8. 'WT'\n",
       "9. 'WT'\n",
       "10. 'WT'\n",
       "11. 'WT'\n",
       "12. 'WT'\n",
       "13. 'WT'\n",
       "14. 'WT'\n",
       "15. 'WT'\n",
       "16. 'WT'\n",
       "17. 'WT'\n",
       "18. 'WT'\n",
       "\n",
       "\n"
      ],
      "text/plain": [
       " [1] \"Mutant\" \"WT\"     \"WT\"     \"WT\"     \"WT\"     \"WT\"     \"WT\"     \"WT\"    \n",
       " [9] \"WT\"     \"WT\"     \"WT\"     \"WT\"     \"WT\"     \"WT\"     \"WT\"     \"WT\"    \n",
       "[17] \"WT\"     \"WT\"    "
      ]
     },
     "metadata": {},
     "output_type": "display_data"
    }
   ],
   "source": [
    "anno[,\"DUP98-NSD1\"]"
   ]
  },
  {
   "cell_type": "code",
   "execution_count": 27,
   "id": "45480719-d0c9-4d2c-9af8-48c1db0cc72b",
   "metadata": {},
   "outputs": [
    {
     "data": {
      "text/html": [
       "<table class=\"dataframe\">\n",
       "<caption>A data.frame: 18 × 10</caption>\n",
       "<thead>\n",
       "\t<tr><th></th><th scope=col>PatientID</th><th scope=col>TDS</th><th scope=col>Timepoints</th><th scope=col>label</th><th scope=col>FLT3ITD</th><th scope=col>DUP98-NSD1</th><th scope=col>DUP98-HXD13</th><th scope=col>MLL-PTD</th><th scope=col>Sex</th><th scope=col>Blast</th></tr>\n",
       "\t<tr><th></th><th scope=col>&lt;chr&gt;</th><th scope=col>&lt;chr&gt;</th><th scope=col>&lt;chr&gt;</th><th scope=col>&lt;chr&gt;</th><th scope=col>&lt;chr&gt;</th><th scope=col>&lt;chr&gt;</th><th scope=col>&lt;chr&gt;</th><th scope=col>&lt;chr&gt;</th><th scope=col>&lt;chr&gt;</th><th scope=col>&lt;dbl&gt;</th></tr>\n",
       "</thead>\n",
       "<tbody>\n",
       "\t<tr><th scope=row>AP01_D0</th><td>AP01</td><td>TDS</td><td>D0</td><td>AP01_D0</td><td>mITD</td><td>Mutant</td><td>WT    </td><td>WT    </td><td>M</td><td>54.0</td></tr>\n",
       "\t<tr><th scope=row>AP01_R1</th><td>AP01</td><td>TDS</td><td>R1</td><td>AP01_R1</td><td>mITD</td><td>WT    </td><td>WT    </td><td>WT    </td><td>M</td><td>94.0</td></tr>\n",
       "\t<tr><th scope=row>AP01_R2</th><td>AP01</td><td>TDS</td><td>R2</td><td>AP01_R2</td><td>mITD</td><td>WT    </td><td>WT    </td><td>WT    </td><td>M</td><td>34.8</td></tr>\n",
       "\t<tr><th scope=row>AP03_D0</th><td>AP03</td><td>TDS</td><td>D0</td><td>AP03_D0</td><td>mITD</td><td>WT    </td><td>WT    </td><td>WT    </td><td>F</td><td>65.0</td></tr>\n",
       "\t<tr><th scope=row>AP03_R1</th><td>AP03</td><td>TDS</td><td>R1</td><td>AP03_R1</td><td>mITD</td><td>WT    </td><td>WT    </td><td>WT    </td><td>F</td><td>61.0</td></tr>\n",
       "\t<tr><th scope=row>AP03_R2</th><td>AP03</td><td>TDS</td><td>R2</td><td>AP03_R2</td><td>mITD</td><td>WT    </td><td>WT    </td><td>Mutant</td><td>F</td><td>93.0</td></tr>\n",
       "\t<tr><th scope=row>AP05_D0</th><td>AP05</td><td>TDS</td><td>D0</td><td>AP05_D0</td><td>mITD</td><td>WT    </td><td>Mutant</td><td>WT    </td><td>M</td><td>16.0</td></tr>\n",
       "\t<tr><th scope=row>AP05_R1</th><td>AP05</td><td>TDS</td><td>R1</td><td>AP05_R1</td><td>mITD</td><td>WT    </td><td>WT    </td><td>WT    </td><td>M</td><td>25.0</td></tr>\n",
       "\t<tr><th scope=row>AP05_R2</th><td>AP05</td><td>TDS</td><td>R2</td><td>AP05_R2</td><td>mITD</td><td>WT    </td><td>WT    </td><td>WT    </td><td>M</td><td>15.2</td></tr>\n",
       "\t<tr><th scope=row>AP06_D0</th><td>AP06</td><td>TDS</td><td>D0</td><td>AP06_D0</td><td>mITD</td><td>WT    </td><td>WT    </td><td>WT    </td><td>M</td><td>25.2</td></tr>\n",
       "\t<tr><th scope=row>AP06_R1</th><td>AP06</td><td>TDS</td><td>R1</td><td>AP06_R1</td><td>mITD</td><td>WT    </td><td>WT    </td><td>WT    </td><td>M</td><td>28.2</td></tr>\n",
       "\t<tr><th scope=row>AP06_R2</th><td>AP06</td><td>TDS</td><td>R2</td><td>AP06_R2</td><td>mITD</td><td>WT    </td><td>WT    </td><td>WT    </td><td>M</td><td>71.5</td></tr>\n",
       "\t<tr><th scope=row>AP02_D0</th><td>AP02</td><td>TDS</td><td>D0</td><td>AP02_D0</td><td>sITD</td><td>WT    </td><td>WT    </td><td>WT    </td><td>F</td><td>74.5</td></tr>\n",
       "\t<tr><th scope=row>AP02_R1</th><td>AP02</td><td>TDS</td><td>R1</td><td>AP02_R1</td><td>sITD</td><td>WT    </td><td>WT    </td><td>WT    </td><td>F</td><td>65.0</td></tr>\n",
       "\t<tr><th scope=row>AP02_R2</th><td>AP02</td><td>TDS</td><td>R2</td><td>AP02_R2</td><td>sITD</td><td>WT    </td><td>WT    </td><td>WT    </td><td>F</td><td>80.0</td></tr>\n",
       "\t<tr><th scope=row>AP04_D0</th><td>AP04</td><td>TDS</td><td>D0</td><td>AP04_D0</td><td>sITD</td><td>WT    </td><td>WT    </td><td>Mutant</td><td>M</td><td>76.0</td></tr>\n",
       "\t<tr><th scope=row>AP04_R1</th><td>AP04</td><td>TDS</td><td>R1</td><td>AP04_R1</td><td>sITD</td><td>WT    </td><td>WT    </td><td>WT    </td><td>M</td><td>64.4</td></tr>\n",
       "\t<tr><th scope=row>AP04_R2</th><td>AP04</td><td>TDS</td><td>R2</td><td>AP04_R2</td><td>sITD</td><td>WT    </td><td>WT    </td><td>WT    </td><td>M</td><td>79.8</td></tr>\n",
       "</tbody>\n",
       "</table>\n"
      ],
      "text/latex": [
       "A data.frame: 18 × 10\n",
       "\\begin{tabular}{r|llllllllll}\n",
       "  & PatientID & TDS & Timepoints & label & FLT3ITD & DUP98-NSD1 & DUP98-HXD13 & MLL-PTD & Sex & Blast\\\\\n",
       "  & <chr> & <chr> & <chr> & <chr> & <chr> & <chr> & <chr> & <chr> & <chr> & <dbl>\\\\\n",
       "\\hline\n",
       "\tAP01\\_D0 & AP01 & TDS & D0 & AP01\\_D0 & mITD & Mutant & WT     & WT     & M & 54.0\\\\\n",
       "\tAP01\\_R1 & AP01 & TDS & R1 & AP01\\_R1 & mITD & WT     & WT     & WT     & M & 94.0\\\\\n",
       "\tAP01\\_R2 & AP01 & TDS & R2 & AP01\\_R2 & mITD & WT     & WT     & WT     & M & 34.8\\\\\n",
       "\tAP03\\_D0 & AP03 & TDS & D0 & AP03\\_D0 & mITD & WT     & WT     & WT     & F & 65.0\\\\\n",
       "\tAP03\\_R1 & AP03 & TDS & R1 & AP03\\_R1 & mITD & WT     & WT     & WT     & F & 61.0\\\\\n",
       "\tAP03\\_R2 & AP03 & TDS & R2 & AP03\\_R2 & mITD & WT     & WT     & Mutant & F & 93.0\\\\\n",
       "\tAP05\\_D0 & AP05 & TDS & D0 & AP05\\_D0 & mITD & WT     & Mutant & WT     & M & 16.0\\\\\n",
       "\tAP05\\_R1 & AP05 & TDS & R1 & AP05\\_R1 & mITD & WT     & WT     & WT     & M & 25.0\\\\\n",
       "\tAP05\\_R2 & AP05 & TDS & R2 & AP05\\_R2 & mITD & WT     & WT     & WT     & M & 15.2\\\\\n",
       "\tAP06\\_D0 & AP06 & TDS & D0 & AP06\\_D0 & mITD & WT     & WT     & WT     & M & 25.2\\\\\n",
       "\tAP06\\_R1 & AP06 & TDS & R1 & AP06\\_R1 & mITD & WT     & WT     & WT     & M & 28.2\\\\\n",
       "\tAP06\\_R2 & AP06 & TDS & R2 & AP06\\_R2 & mITD & WT     & WT     & WT     & M & 71.5\\\\\n",
       "\tAP02\\_D0 & AP02 & TDS & D0 & AP02\\_D0 & sITD & WT     & WT     & WT     & F & 74.5\\\\\n",
       "\tAP02\\_R1 & AP02 & TDS & R1 & AP02\\_R1 & sITD & WT     & WT     & WT     & F & 65.0\\\\\n",
       "\tAP02\\_R2 & AP02 & TDS & R2 & AP02\\_R2 & sITD & WT     & WT     & WT     & F & 80.0\\\\\n",
       "\tAP04\\_D0 & AP04 & TDS & D0 & AP04\\_D0 & sITD & WT     & WT     & Mutant & M & 76.0\\\\\n",
       "\tAP04\\_R1 & AP04 & TDS & R1 & AP04\\_R1 & sITD & WT     & WT     & WT     & M & 64.4\\\\\n",
       "\tAP04\\_R2 & AP04 & TDS & R2 & AP04\\_R2 & sITD & WT     & WT     & WT     & M & 79.8\\\\\n",
       "\\end{tabular}\n"
      ],
      "text/markdown": [
       "\n",
       "A data.frame: 18 × 10\n",
       "\n",
       "| <!--/--> | PatientID &lt;chr&gt; | TDS &lt;chr&gt; | Timepoints &lt;chr&gt; | label &lt;chr&gt; | FLT3ITD &lt;chr&gt; | DUP98-NSD1 &lt;chr&gt; | DUP98-HXD13 &lt;chr&gt; | MLL-PTD &lt;chr&gt; | Sex &lt;chr&gt; | Blast &lt;dbl&gt; |\n",
       "|---|---|---|---|---|---|---|---|---|---|---|\n",
       "| AP01_D0 | AP01 | TDS | D0 | AP01_D0 | mITD | Mutant | WT     | WT     | M | 54.0 |\n",
       "| AP01_R1 | AP01 | TDS | R1 | AP01_R1 | mITD | WT     | WT     | WT     | M | 94.0 |\n",
       "| AP01_R2 | AP01 | TDS | R2 | AP01_R2 | mITD | WT     | WT     | WT     | M | 34.8 |\n",
       "| AP03_D0 | AP03 | TDS | D0 | AP03_D0 | mITD | WT     | WT     | WT     | F | 65.0 |\n",
       "| AP03_R1 | AP03 | TDS | R1 | AP03_R1 | mITD | WT     | WT     | WT     | F | 61.0 |\n",
       "| AP03_R2 | AP03 | TDS | R2 | AP03_R2 | mITD | WT     | WT     | Mutant | F | 93.0 |\n",
       "| AP05_D0 | AP05 | TDS | D0 | AP05_D0 | mITD | WT     | Mutant | WT     | M | 16.0 |\n",
       "| AP05_R1 | AP05 | TDS | R1 | AP05_R1 | mITD | WT     | WT     | WT     | M | 25.0 |\n",
       "| AP05_R2 | AP05 | TDS | R2 | AP05_R2 | mITD | WT     | WT     | WT     | M | 15.2 |\n",
       "| AP06_D0 | AP06 | TDS | D0 | AP06_D0 | mITD | WT     | WT     | WT     | M | 25.2 |\n",
       "| AP06_R1 | AP06 | TDS | R1 | AP06_R1 | mITD | WT     | WT     | WT     | M | 28.2 |\n",
       "| AP06_R2 | AP06 | TDS | R2 | AP06_R2 | mITD | WT     | WT     | WT     | M | 71.5 |\n",
       "| AP02_D0 | AP02 | TDS | D0 | AP02_D0 | sITD | WT     | WT     | WT     | F | 74.5 |\n",
       "| AP02_R1 | AP02 | TDS | R1 | AP02_R1 | sITD | WT     | WT     | WT     | F | 65.0 |\n",
       "| AP02_R2 | AP02 | TDS | R2 | AP02_R2 | sITD | WT     | WT     | WT     | F | 80.0 |\n",
       "| AP04_D0 | AP04 | TDS | D0 | AP04_D0 | sITD | WT     | WT     | Mutant | M | 76.0 |\n",
       "| AP04_R1 | AP04 | TDS | R1 | AP04_R1 | sITD | WT     | WT     | WT     | M | 64.4 |\n",
       "| AP04_R2 | AP04 | TDS | R2 | AP04_R2 | sITD | WT     | WT     | WT     | M | 79.8 |\n",
       "\n"
      ],
      "text/plain": [
       "        PatientID TDS Timepoints label   FLT3ITD DUP98-NSD1 DUP98-HXD13 MLL-PTD\n",
       "AP01_D0 AP01      TDS D0         AP01_D0 mITD    Mutant     WT          WT     \n",
       "AP01_R1 AP01      TDS R1         AP01_R1 mITD    WT         WT          WT     \n",
       "AP01_R2 AP01      TDS R2         AP01_R2 mITD    WT         WT          WT     \n",
       "AP03_D0 AP03      TDS D0         AP03_D0 mITD    WT         WT          WT     \n",
       "AP03_R1 AP03      TDS R1         AP03_R1 mITD    WT         WT          WT     \n",
       "AP03_R2 AP03      TDS R2         AP03_R2 mITD    WT         WT          Mutant \n",
       "AP05_D0 AP05      TDS D0         AP05_D0 mITD    WT         Mutant      WT     \n",
       "AP05_R1 AP05      TDS R1         AP05_R1 mITD    WT         WT          WT     \n",
       "AP05_R2 AP05      TDS R2         AP05_R2 mITD    WT         WT          WT     \n",
       "AP06_D0 AP06      TDS D0         AP06_D0 mITD    WT         WT          WT     \n",
       "AP06_R1 AP06      TDS R1         AP06_R1 mITD    WT         WT          WT     \n",
       "AP06_R2 AP06      TDS R2         AP06_R2 mITD    WT         WT          WT     \n",
       "AP02_D0 AP02      TDS D0         AP02_D0 sITD    WT         WT          WT     \n",
       "AP02_R1 AP02      TDS R1         AP02_R1 sITD    WT         WT          WT     \n",
       "AP02_R2 AP02      TDS R2         AP02_R2 sITD    WT         WT          WT     \n",
       "AP04_D0 AP04      TDS D0         AP04_D0 sITD    WT         WT          Mutant \n",
       "AP04_R1 AP04      TDS R1         AP04_R1 sITD    WT         WT          WT     \n",
       "AP04_R2 AP04      TDS R2         AP04_R2 sITD    WT         WT          WT     \n",
       "        Sex Blast\n",
       "AP01_D0 M   54.0 \n",
       "AP01_R1 M   94.0 \n",
       "AP01_R2 M   34.8 \n",
       "AP03_D0 F   65.0 \n",
       "AP03_R1 F   61.0 \n",
       "AP03_R2 F   93.0 \n",
       "AP05_D0 M   16.0 \n",
       "AP05_R1 M   25.0 \n",
       "AP05_R2 M   15.2 \n",
       "AP06_D0 M   25.2 \n",
       "AP06_R1 M   28.2 \n",
       "AP06_R2 M   71.5 \n",
       "AP02_D0 F   74.5 \n",
       "AP02_R1 F   65.0 \n",
       "AP02_R2 F   80.0 \n",
       "AP04_D0 M   76.0 \n",
       "AP04_R1 M   64.4 \n",
       "AP04_R2 M   79.8 "
      ]
     },
     "metadata": {},
     "output_type": "display_data"
    }
   ],
   "source": [
    "anno"
   ]
  },
  {
   "cell_type": "code",
   "execution_count": 28,
   "id": "5f1ccab2-3bc5-4ae2-a0c6-76c0a94feb80",
   "metadata": {},
   "outputs": [
    {
     "data": {
      "text/html": [
       "<table class=\"dataframe\">\n",
       "<caption>A data.frame: 23 × 19</caption>\n",
       "<thead>\n",
       "\t<tr><th></th><th scope=col>Gene</th><th scope=col>AP01_D0</th><th scope=col>AP01_R1</th><th scope=col>AP01_R2</th><th scope=col>AP03_D0</th><th scope=col>AP03_R1</th><th scope=col>AP03_R2</th><th scope=col>AP05_D0</th><th scope=col>AP05_R1</th><th scope=col>AP05_R2</th><th scope=col>AP06_D0</th><th scope=col>AP06_R1</th><th scope=col>AP06_R2</th><th scope=col>AP02_D0</th><th scope=col>AP02_R1</th><th scope=col>AP02_R2</th><th scope=col>AP04_D0</th><th scope=col>AP04_R1</th><th scope=col>AP04_R2</th></tr>\n",
       "\t<tr><th></th><th scope=col>&lt;chr&gt;</th><th scope=col>&lt;dbl&gt;</th><th scope=col>&lt;dbl&gt;</th><th scope=col>&lt;dbl&gt;</th><th scope=col>&lt;dbl&gt;</th><th scope=col>&lt;dbl&gt;</th><th scope=col>&lt;dbl&gt;</th><th scope=col>&lt;dbl&gt;</th><th scope=col>&lt;dbl&gt;</th><th scope=col>&lt;dbl&gt;</th><th scope=col>&lt;dbl&gt;</th><th scope=col>&lt;dbl&gt;</th><th scope=col>&lt;dbl&gt;</th><th scope=col>&lt;dbl&gt;</th><th scope=col>&lt;dbl&gt;</th><th scope=col>&lt;dbl&gt;</th><th scope=col>&lt;dbl&gt;</th><th scope=col>&lt;dbl&gt;</th><th scope=col>&lt;dbl&gt;</th></tr>\n",
       "</thead>\n",
       "<tbody>\n",
       "\t<tr><th scope=row>ABCD1</th><td>ABCD1 </td><td> 0.00</td><td> 0.00</td><td> 0.00</td><td> 0.00</td><td> 0.00</td><td> 0.00</td><td> 0.00</td><td> 0.00</td><td> 0.00</td><td> 0.00</td><td> 0.00</td><td> 0.00</td><td> 0.32</td><td>24.10</td><td>45.76</td><td> 0.00</td><td> 0.00</td><td> 0.00</td></tr>\n",
       "\t<tr><th scope=row>ATRX</th><td>ATRX  </td><td> 0.00</td><td> 0.00</td><td> 0.00</td><td> 0.00</td><td> 0.00</td><td> 0.00</td><td> 0.00</td><td> 0.00</td><td> 0.00</td><td> 0.00</td><td> 0.00</td><td> 0.00</td><td> 0.47</td><td>23.80</td><td>47.15</td><td> 0.00</td><td> 0.00</td><td> 0.00</td></tr>\n",
       "\t<tr><th scope=row>BRD7</th><td>BRD7  </td><td> 0.00</td><td> 0.00</td><td> 0.00</td><td> 0.07</td><td>11.69</td><td>34.46</td><td> 0.00</td><td> 0.00</td><td> 0.00</td><td> 0.00</td><td> 0.00</td><td> 0.00</td><td> 0.00</td><td> 0.00</td><td> 0.00</td><td> 0.00</td><td> 0.00</td><td> 0.00</td></tr>\n",
       "\t<tr><th scope=row>CENPE</th><td>CENPE </td><td> 0.00</td><td> 0.00</td><td> 0.00</td><td>44.72</td><td>30.54</td><td>47.64</td><td> 0.00</td><td> 0.00</td><td> 0.00</td><td> 0.00</td><td> 0.00</td><td> 0.00</td><td> 0.00</td><td> 0.00</td><td> 0.00</td><td> 0.00</td><td> 0.00</td><td> 0.00</td></tr>\n",
       "\t<tr><th scope=row>COL6A5</th><td>COL6A5</td><td> 0.00</td><td> 0.00</td><td> 0.00</td><td> 0.00</td><td> 0.00</td><td> 0.00</td><td> 0.00</td><td> 0.00</td><td> 0.00</td><td> 0.85</td><td>12.74</td><td>44.40</td><td> 0.00</td><td> 0.00</td><td> 0.00</td><td> 0.00</td><td> 0.00</td><td> 0.00</td></tr>\n",
       "\t<tr><th scope=row>CSF3R</th><td>CSF3R </td><td> 0.00</td><td> 0.00</td><td> 0.00</td><td> 0.00</td><td> 0.00</td><td> 0.00</td><td>31.59</td><td>17.40</td><td> 2.35</td><td> 0.00</td><td> 0.00</td><td> 0.00</td><td> 0.00</td><td> 0.00</td><td> 0.00</td><td>25.35</td><td>40.02</td><td>45.98</td></tr>\n",
       "\t<tr><th scope=row>DNAI1</th><td>DNAI1 </td><td> 0.00</td><td> 0.00</td><td> 0.00</td><td>15.67</td><td>28.88</td><td>46.89</td><td> 0.00</td><td> 0.00</td><td> 0.00</td><td> 0.00</td><td> 0.00</td><td> 0.00</td><td> 0.00</td><td> 0.00</td><td> 0.00</td><td> 0.00</td><td> 0.00</td><td> 0.00</td></tr>\n",
       "\t<tr><th scope=row>DNMT3A</th><td>DNMT3A</td><td> 0.00</td><td> 0.00</td><td> 0.00</td><td> 0.00</td><td> 0.00</td><td> 0.00</td><td>46.36</td><td>48.02</td><td>48.29</td><td> 0.00</td><td> 0.00</td><td> 0.00</td><td>47.98</td><td>32.57</td><td>48.14</td><td>29.43</td><td>39.85</td><td>46.08</td></tr>\n",
       "\t<tr><th scope=row>DYSF</th><td>DYSF  </td><td> 0.00</td><td> 0.00</td><td> 0.00</td><td> 0.00</td><td> 0.00</td><td> 0.00</td><td> 0.00</td><td> 0.00</td><td> 0.00</td><td>47.55</td><td>44.89</td><td>47.75</td><td> 0.00</td><td> 0.00</td><td> 0.00</td><td> 0.00</td><td> 0.00</td><td> 0.00</td></tr>\n",
       "\t<tr><th scope=row>ETV6</th><td>ETV6  </td><td> 0.00</td><td> 0.00</td><td> 0.00</td><td> 0.00</td><td> 0.00</td><td> 0.00</td><td> 0.00</td><td> 0.00</td><td> 0.00</td><td> 0.00</td><td> 0.00</td><td> 0.00</td><td> 0.11</td><td>22.55</td><td>44.07</td><td> 0.00</td><td> 0.00</td><td> 0.00</td></tr>\n",
       "\t<tr><th scope=row>EZH2</th><td>EZH2  </td><td> 0.00</td><td> 0.00</td><td> 0.00</td><td> 0.00</td><td> 0.00</td><td> 0.00</td><td>44.88</td><td>46.83</td><td>47.21</td><td> 0.00</td><td> 0.00</td><td> 0.00</td><td> 0.00</td><td> 0.00</td><td> 0.00</td><td> 0.00</td><td> 0.00</td><td> 0.00</td></tr>\n",
       "\t<tr><th scope=row>FIG4</th><td>FIG4  </td><td> 0.00</td><td> 0.00</td><td> 0.00</td><td> 0.00</td><td> 0.00</td><td> 0.00</td><td> 0.00</td><td> 0.00</td><td> 0.00</td><td> 0.10</td><td> 4.18</td><td>45.00</td><td> 0.00</td><td> 0.00</td><td> 0.00</td><td> 0.00</td><td> 0.00</td><td> 0.00</td></tr>\n",
       "\t<tr><th scope=row>IDH1</th><td>IDH1  </td><td> 0.00</td><td> 0.00</td><td> 0.00</td><td> 0.00</td><td> 0.00</td><td> 0.00</td><td>36.37</td><td>45.71</td><td>45.62</td><td> 0.00</td><td> 0.00</td><td> 0.00</td><td> 0.00</td><td> 0.00</td><td> 0.00</td><td> 0.00</td><td> 0.00</td><td> 0.00</td></tr>\n",
       "\t<tr><th scope=row>NPM1</th><td>NPM1  </td><td> 0.00</td><td> 0.00</td><td> 0.00</td><td> 0.00</td><td> 0.00</td><td> 0.00</td><td> 0.00</td><td> 0.00</td><td> 0.00</td><td> 0.00</td><td> 0.00</td><td> 0.00</td><td>44.50</td><td>27.47</td><td>43.94</td><td> 0.00</td><td> 0.00</td><td> 0.00</td></tr>\n",
       "\t<tr><th scope=row>NSD1</th><td>NSD1  </td><td> 0.00</td><td> 0.00</td><td> 0.00</td><td> 0.00</td><td> 0.00</td><td> 0.00</td><td> 0.00</td><td> 0.00</td><td> 0.00</td><td> 0.00</td><td> 0.00</td><td> 0.00</td><td>46.26</td><td>29.17</td><td>46.05</td><td> 0.00</td><td> 0.00</td><td> 0.00</td></tr>\n",
       "\t<tr><th scope=row>PLCE1</th><td>PLCE1 </td><td> 0.00</td><td> 0.00</td><td> 0.00</td><td> 0.00</td><td> 0.00</td><td> 0.00</td><td> 0.00</td><td> 0.00</td><td> 0.00</td><td>48.31</td><td>44.37</td><td>48.53</td><td> 0.00</td><td> 0.00</td><td> 0.00</td><td> 0.00</td><td> 0.00</td><td> 0.00</td></tr>\n",
       "\t<tr><th scope=row>RUNX1</th><td>RUNX1 </td><td> 0.00</td><td> 0.00</td><td> 0.00</td><td> 0.00</td><td> 0.00</td><td> 0.00</td><td> 0.00</td><td> 0.00</td><td> 0.00</td><td>47.37</td><td>44.21</td><td>46.41</td><td> 0.00</td><td> 0.00</td><td> 0.00</td><td> 0.00</td><td> 0.00</td><td> 0.00</td></tr>\n",
       "\t<tr><th scope=row>RYR1</th><td>RYR1  </td><td> 0.00</td><td> 0.00</td><td> 0.00</td><td> 0.00</td><td> 0.00</td><td> 0.00</td><td> 0.00</td><td> 0.00</td><td> 0.00</td><td> 0.00</td><td> 0.00</td><td> 0.00</td><td> 0.00</td><td>22.50</td><td>43.66</td><td> 0.00</td><td> 0.00</td><td> 0.00</td></tr>\n",
       "\t<tr><th scope=row>TET2</th><td>TET2  </td><td> 0.00</td><td> 0.00</td><td> 0.00</td><td> 0.00</td><td> 0.00</td><td> 0.00</td><td> 0.00</td><td> 0.00</td><td> 0.00</td><td> 0.00</td><td> 0.00</td><td> 0.00</td><td> 0.00</td><td> 0.00</td><td> 0.00</td><td>28.02</td><td>40.85</td><td>44.77</td></tr>\n",
       "\t<tr><th scope=row>U2AF1</th><td>U2AF1 </td><td> 0.00</td><td> 0.00</td><td> 0.00</td><td> 0.00</td><td> 0.00</td><td> 0.00</td><td> 0.00</td><td> 0.00</td><td> 0.00</td><td>47.44</td><td>43.44</td><td>46.15</td><td> 0.00</td><td> 0.00</td><td> 0.00</td><td> 0.00</td><td> 0.00</td><td> 0.00</td></tr>\n",
       "\t<tr><th scope=row>UNC13B</th><td>UNC13B</td><td>48.99</td><td>42.63</td><td>27.76</td><td> 0.00</td><td> 0.00</td><td> 0.00</td><td> 0.00</td><td> 0.00</td><td> 0.00</td><td> 0.00</td><td> 0.00</td><td> 0.00</td><td> 0.00</td><td> 0.00</td><td> 0.00</td><td> 0.00</td><td> 0.00</td><td> 0.00</td></tr>\n",
       "\t<tr><th scope=row>WDR4</th><td>WDR4  </td><td>49.60</td><td>44.50</td><td>27.31</td><td> 0.00</td><td> 0.00</td><td> 0.00</td><td> 0.00</td><td> 0.00</td><td> 0.00</td><td> 0.00</td><td> 0.00</td><td> 0.00</td><td> 0.00</td><td> 0.00</td><td> 0.00</td><td> 0.00</td><td> 0.00</td><td> 0.00</td></tr>\n",
       "\t<tr><th scope=row>WT1</th><td>WT1   </td><td>48.09</td><td>42.86</td><td>27.20</td><td> 0.00</td><td> 0.00</td><td> 0.00</td><td> 0.00</td><td> 0.00</td><td> 0.00</td><td> 0.00</td><td> 0.00</td><td> 0.00</td><td> 0.00</td><td> 0.00</td><td> 0.00</td><td>25.44</td><td>41.68</td><td>44.54</td></tr>\n",
       "</tbody>\n",
       "</table>\n"
      ],
      "text/latex": [
       "A data.frame: 23 × 19\n",
       "\\begin{tabular}{r|lllllllllllllllllll}\n",
       "  & Gene & AP01\\_D0 & AP01\\_R1 & AP01\\_R2 & AP03\\_D0 & AP03\\_R1 & AP03\\_R2 & AP05\\_D0 & AP05\\_R1 & AP05\\_R2 & AP06\\_D0 & AP06\\_R1 & AP06\\_R2 & AP02\\_D0 & AP02\\_R1 & AP02\\_R2 & AP04\\_D0 & AP04\\_R1 & AP04\\_R2\\\\\n",
       "  & <chr> & <dbl> & <dbl> & <dbl> & <dbl> & <dbl> & <dbl> & <dbl> & <dbl> & <dbl> & <dbl> & <dbl> & <dbl> & <dbl> & <dbl> & <dbl> & <dbl> & <dbl> & <dbl>\\\\\n",
       "\\hline\n",
       "\tABCD1 & ABCD1  &  0.00 &  0.00 &  0.00 &  0.00 &  0.00 &  0.00 &  0.00 &  0.00 &  0.00 &  0.00 &  0.00 &  0.00 &  0.32 & 24.10 & 45.76 &  0.00 &  0.00 &  0.00\\\\\n",
       "\tATRX & ATRX   &  0.00 &  0.00 &  0.00 &  0.00 &  0.00 &  0.00 &  0.00 &  0.00 &  0.00 &  0.00 &  0.00 &  0.00 &  0.47 & 23.80 & 47.15 &  0.00 &  0.00 &  0.00\\\\\n",
       "\tBRD7 & BRD7   &  0.00 &  0.00 &  0.00 &  0.07 & 11.69 & 34.46 &  0.00 &  0.00 &  0.00 &  0.00 &  0.00 &  0.00 &  0.00 &  0.00 &  0.00 &  0.00 &  0.00 &  0.00\\\\\n",
       "\tCENPE & CENPE  &  0.00 &  0.00 &  0.00 & 44.72 & 30.54 & 47.64 &  0.00 &  0.00 &  0.00 &  0.00 &  0.00 &  0.00 &  0.00 &  0.00 &  0.00 &  0.00 &  0.00 &  0.00\\\\\n",
       "\tCOL6A5 & COL6A5 &  0.00 &  0.00 &  0.00 &  0.00 &  0.00 &  0.00 &  0.00 &  0.00 &  0.00 &  0.85 & 12.74 & 44.40 &  0.00 &  0.00 &  0.00 &  0.00 &  0.00 &  0.00\\\\\n",
       "\tCSF3R & CSF3R  &  0.00 &  0.00 &  0.00 &  0.00 &  0.00 &  0.00 & 31.59 & 17.40 &  2.35 &  0.00 &  0.00 &  0.00 &  0.00 &  0.00 &  0.00 & 25.35 & 40.02 & 45.98\\\\\n",
       "\tDNAI1 & DNAI1  &  0.00 &  0.00 &  0.00 & 15.67 & 28.88 & 46.89 &  0.00 &  0.00 &  0.00 &  0.00 &  0.00 &  0.00 &  0.00 &  0.00 &  0.00 &  0.00 &  0.00 &  0.00\\\\\n",
       "\tDNMT3A & DNMT3A &  0.00 &  0.00 &  0.00 &  0.00 &  0.00 &  0.00 & 46.36 & 48.02 & 48.29 &  0.00 &  0.00 &  0.00 & 47.98 & 32.57 & 48.14 & 29.43 & 39.85 & 46.08\\\\\n",
       "\tDYSF & DYSF   &  0.00 &  0.00 &  0.00 &  0.00 &  0.00 &  0.00 &  0.00 &  0.00 &  0.00 & 47.55 & 44.89 & 47.75 &  0.00 &  0.00 &  0.00 &  0.00 &  0.00 &  0.00\\\\\n",
       "\tETV6 & ETV6   &  0.00 &  0.00 &  0.00 &  0.00 &  0.00 &  0.00 &  0.00 &  0.00 &  0.00 &  0.00 &  0.00 &  0.00 &  0.11 & 22.55 & 44.07 &  0.00 &  0.00 &  0.00\\\\\n",
       "\tEZH2 & EZH2   &  0.00 &  0.00 &  0.00 &  0.00 &  0.00 &  0.00 & 44.88 & 46.83 & 47.21 &  0.00 &  0.00 &  0.00 &  0.00 &  0.00 &  0.00 &  0.00 &  0.00 &  0.00\\\\\n",
       "\tFIG4 & FIG4   &  0.00 &  0.00 &  0.00 &  0.00 &  0.00 &  0.00 &  0.00 &  0.00 &  0.00 &  0.10 &  4.18 & 45.00 &  0.00 &  0.00 &  0.00 &  0.00 &  0.00 &  0.00\\\\\n",
       "\tIDH1 & IDH1   &  0.00 &  0.00 &  0.00 &  0.00 &  0.00 &  0.00 & 36.37 & 45.71 & 45.62 &  0.00 &  0.00 &  0.00 &  0.00 &  0.00 &  0.00 &  0.00 &  0.00 &  0.00\\\\\n",
       "\tNPM1 & NPM1   &  0.00 &  0.00 &  0.00 &  0.00 &  0.00 &  0.00 &  0.00 &  0.00 &  0.00 &  0.00 &  0.00 &  0.00 & 44.50 & 27.47 & 43.94 &  0.00 &  0.00 &  0.00\\\\\n",
       "\tNSD1 & NSD1   &  0.00 &  0.00 &  0.00 &  0.00 &  0.00 &  0.00 &  0.00 &  0.00 &  0.00 &  0.00 &  0.00 &  0.00 & 46.26 & 29.17 & 46.05 &  0.00 &  0.00 &  0.00\\\\\n",
       "\tPLCE1 & PLCE1  &  0.00 &  0.00 &  0.00 &  0.00 &  0.00 &  0.00 &  0.00 &  0.00 &  0.00 & 48.31 & 44.37 & 48.53 &  0.00 &  0.00 &  0.00 &  0.00 &  0.00 &  0.00\\\\\n",
       "\tRUNX1 & RUNX1  &  0.00 &  0.00 &  0.00 &  0.00 &  0.00 &  0.00 &  0.00 &  0.00 &  0.00 & 47.37 & 44.21 & 46.41 &  0.00 &  0.00 &  0.00 &  0.00 &  0.00 &  0.00\\\\\n",
       "\tRYR1 & RYR1   &  0.00 &  0.00 &  0.00 &  0.00 &  0.00 &  0.00 &  0.00 &  0.00 &  0.00 &  0.00 &  0.00 &  0.00 &  0.00 & 22.50 & 43.66 &  0.00 &  0.00 &  0.00\\\\\n",
       "\tTET2 & TET2   &  0.00 &  0.00 &  0.00 &  0.00 &  0.00 &  0.00 &  0.00 &  0.00 &  0.00 &  0.00 &  0.00 &  0.00 &  0.00 &  0.00 &  0.00 & 28.02 & 40.85 & 44.77\\\\\n",
       "\tU2AF1 & U2AF1  &  0.00 &  0.00 &  0.00 &  0.00 &  0.00 &  0.00 &  0.00 &  0.00 &  0.00 & 47.44 & 43.44 & 46.15 &  0.00 &  0.00 &  0.00 &  0.00 &  0.00 &  0.00\\\\\n",
       "\tUNC13B & UNC13B & 48.99 & 42.63 & 27.76 &  0.00 &  0.00 &  0.00 &  0.00 &  0.00 &  0.00 &  0.00 &  0.00 &  0.00 &  0.00 &  0.00 &  0.00 &  0.00 &  0.00 &  0.00\\\\\n",
       "\tWDR4 & WDR4   & 49.60 & 44.50 & 27.31 &  0.00 &  0.00 &  0.00 &  0.00 &  0.00 &  0.00 &  0.00 &  0.00 &  0.00 &  0.00 &  0.00 &  0.00 &  0.00 &  0.00 &  0.00\\\\\n",
       "\tWT1 & WT1    & 48.09 & 42.86 & 27.20 &  0.00 &  0.00 &  0.00 &  0.00 &  0.00 &  0.00 &  0.00 &  0.00 &  0.00 &  0.00 &  0.00 &  0.00 & 25.44 & 41.68 & 44.54\\\\\n",
       "\\end{tabular}\n"
      ],
      "text/markdown": [
       "\n",
       "A data.frame: 23 × 19\n",
       "\n",
       "| <!--/--> | Gene &lt;chr&gt; | AP01_D0 &lt;dbl&gt; | AP01_R1 &lt;dbl&gt; | AP01_R2 &lt;dbl&gt; | AP03_D0 &lt;dbl&gt; | AP03_R1 &lt;dbl&gt; | AP03_R2 &lt;dbl&gt; | AP05_D0 &lt;dbl&gt; | AP05_R1 &lt;dbl&gt; | AP05_R2 &lt;dbl&gt; | AP06_D0 &lt;dbl&gt; | AP06_R1 &lt;dbl&gt; | AP06_R2 &lt;dbl&gt; | AP02_D0 &lt;dbl&gt; | AP02_R1 &lt;dbl&gt; | AP02_R2 &lt;dbl&gt; | AP04_D0 &lt;dbl&gt; | AP04_R1 &lt;dbl&gt; | AP04_R2 &lt;dbl&gt; |\n",
       "|---|---|---|---|---|---|---|---|---|---|---|---|---|---|---|---|---|---|---|---|\n",
       "| ABCD1 | ABCD1  |  0.00 |  0.00 |  0.00 |  0.00 |  0.00 |  0.00 |  0.00 |  0.00 |  0.00 |  0.00 |  0.00 |  0.00 |  0.32 | 24.10 | 45.76 |  0.00 |  0.00 |  0.00 |\n",
       "| ATRX | ATRX   |  0.00 |  0.00 |  0.00 |  0.00 |  0.00 |  0.00 |  0.00 |  0.00 |  0.00 |  0.00 |  0.00 |  0.00 |  0.47 | 23.80 | 47.15 |  0.00 |  0.00 |  0.00 |\n",
       "| BRD7 | BRD7   |  0.00 |  0.00 |  0.00 |  0.07 | 11.69 | 34.46 |  0.00 |  0.00 |  0.00 |  0.00 |  0.00 |  0.00 |  0.00 |  0.00 |  0.00 |  0.00 |  0.00 |  0.00 |\n",
       "| CENPE | CENPE  |  0.00 |  0.00 |  0.00 | 44.72 | 30.54 | 47.64 |  0.00 |  0.00 |  0.00 |  0.00 |  0.00 |  0.00 |  0.00 |  0.00 |  0.00 |  0.00 |  0.00 |  0.00 |\n",
       "| COL6A5 | COL6A5 |  0.00 |  0.00 |  0.00 |  0.00 |  0.00 |  0.00 |  0.00 |  0.00 |  0.00 |  0.85 | 12.74 | 44.40 |  0.00 |  0.00 |  0.00 |  0.00 |  0.00 |  0.00 |\n",
       "| CSF3R | CSF3R  |  0.00 |  0.00 |  0.00 |  0.00 |  0.00 |  0.00 | 31.59 | 17.40 |  2.35 |  0.00 |  0.00 |  0.00 |  0.00 |  0.00 |  0.00 | 25.35 | 40.02 | 45.98 |\n",
       "| DNAI1 | DNAI1  |  0.00 |  0.00 |  0.00 | 15.67 | 28.88 | 46.89 |  0.00 |  0.00 |  0.00 |  0.00 |  0.00 |  0.00 |  0.00 |  0.00 |  0.00 |  0.00 |  0.00 |  0.00 |\n",
       "| DNMT3A | DNMT3A |  0.00 |  0.00 |  0.00 |  0.00 |  0.00 |  0.00 | 46.36 | 48.02 | 48.29 |  0.00 |  0.00 |  0.00 | 47.98 | 32.57 | 48.14 | 29.43 | 39.85 | 46.08 |\n",
       "| DYSF | DYSF   |  0.00 |  0.00 |  0.00 |  0.00 |  0.00 |  0.00 |  0.00 |  0.00 |  0.00 | 47.55 | 44.89 | 47.75 |  0.00 |  0.00 |  0.00 |  0.00 |  0.00 |  0.00 |\n",
       "| ETV6 | ETV6   |  0.00 |  0.00 |  0.00 |  0.00 |  0.00 |  0.00 |  0.00 |  0.00 |  0.00 |  0.00 |  0.00 |  0.00 |  0.11 | 22.55 | 44.07 |  0.00 |  0.00 |  0.00 |\n",
       "| EZH2 | EZH2   |  0.00 |  0.00 |  0.00 |  0.00 |  0.00 |  0.00 | 44.88 | 46.83 | 47.21 |  0.00 |  0.00 |  0.00 |  0.00 |  0.00 |  0.00 |  0.00 |  0.00 |  0.00 |\n",
       "| FIG4 | FIG4   |  0.00 |  0.00 |  0.00 |  0.00 |  0.00 |  0.00 |  0.00 |  0.00 |  0.00 |  0.10 |  4.18 | 45.00 |  0.00 |  0.00 |  0.00 |  0.00 |  0.00 |  0.00 |\n",
       "| IDH1 | IDH1   |  0.00 |  0.00 |  0.00 |  0.00 |  0.00 |  0.00 | 36.37 | 45.71 | 45.62 |  0.00 |  0.00 |  0.00 |  0.00 |  0.00 |  0.00 |  0.00 |  0.00 |  0.00 |\n",
       "| NPM1 | NPM1   |  0.00 |  0.00 |  0.00 |  0.00 |  0.00 |  0.00 |  0.00 |  0.00 |  0.00 |  0.00 |  0.00 |  0.00 | 44.50 | 27.47 | 43.94 |  0.00 |  0.00 |  0.00 |\n",
       "| NSD1 | NSD1   |  0.00 |  0.00 |  0.00 |  0.00 |  0.00 |  0.00 |  0.00 |  0.00 |  0.00 |  0.00 |  0.00 |  0.00 | 46.26 | 29.17 | 46.05 |  0.00 |  0.00 |  0.00 |\n",
       "| PLCE1 | PLCE1  |  0.00 |  0.00 |  0.00 |  0.00 |  0.00 |  0.00 |  0.00 |  0.00 |  0.00 | 48.31 | 44.37 | 48.53 |  0.00 |  0.00 |  0.00 |  0.00 |  0.00 |  0.00 |\n",
       "| RUNX1 | RUNX1  |  0.00 |  0.00 |  0.00 |  0.00 |  0.00 |  0.00 |  0.00 |  0.00 |  0.00 | 47.37 | 44.21 | 46.41 |  0.00 |  0.00 |  0.00 |  0.00 |  0.00 |  0.00 |\n",
       "| RYR1 | RYR1   |  0.00 |  0.00 |  0.00 |  0.00 |  0.00 |  0.00 |  0.00 |  0.00 |  0.00 |  0.00 |  0.00 |  0.00 |  0.00 | 22.50 | 43.66 |  0.00 |  0.00 |  0.00 |\n",
       "| TET2 | TET2   |  0.00 |  0.00 |  0.00 |  0.00 |  0.00 |  0.00 |  0.00 |  0.00 |  0.00 |  0.00 |  0.00 |  0.00 |  0.00 |  0.00 |  0.00 | 28.02 | 40.85 | 44.77 |\n",
       "| U2AF1 | U2AF1  |  0.00 |  0.00 |  0.00 |  0.00 |  0.00 |  0.00 |  0.00 |  0.00 |  0.00 | 47.44 | 43.44 | 46.15 |  0.00 |  0.00 |  0.00 |  0.00 |  0.00 |  0.00 |\n",
       "| UNC13B | UNC13B | 48.99 | 42.63 | 27.76 |  0.00 |  0.00 |  0.00 |  0.00 |  0.00 |  0.00 |  0.00 |  0.00 |  0.00 |  0.00 |  0.00 |  0.00 |  0.00 |  0.00 |  0.00 |\n",
       "| WDR4 | WDR4   | 49.60 | 44.50 | 27.31 |  0.00 |  0.00 |  0.00 |  0.00 |  0.00 |  0.00 |  0.00 |  0.00 |  0.00 |  0.00 |  0.00 |  0.00 |  0.00 |  0.00 |  0.00 |\n",
       "| WT1 | WT1    | 48.09 | 42.86 | 27.20 |  0.00 |  0.00 |  0.00 |  0.00 |  0.00 |  0.00 |  0.00 |  0.00 |  0.00 |  0.00 |  0.00 |  0.00 | 25.44 | 41.68 | 44.54 |\n",
       "\n"
      ],
      "text/plain": [
       "       Gene   AP01_D0 AP01_R1 AP01_R2 AP03_D0 AP03_R1 AP03_R2 AP05_D0 AP05_R1\n",
       "ABCD1  ABCD1   0.00    0.00    0.00    0.00    0.00    0.00    0.00    0.00  \n",
       "ATRX   ATRX    0.00    0.00    0.00    0.00    0.00    0.00    0.00    0.00  \n",
       "BRD7   BRD7    0.00    0.00    0.00    0.07   11.69   34.46    0.00    0.00  \n",
       "CENPE  CENPE   0.00    0.00    0.00   44.72   30.54   47.64    0.00    0.00  \n",
       "COL6A5 COL6A5  0.00    0.00    0.00    0.00    0.00    0.00    0.00    0.00  \n",
       "CSF3R  CSF3R   0.00    0.00    0.00    0.00    0.00    0.00   31.59   17.40  \n",
       "DNAI1  DNAI1   0.00    0.00    0.00   15.67   28.88   46.89    0.00    0.00  \n",
       "DNMT3A DNMT3A  0.00    0.00    0.00    0.00    0.00    0.00   46.36   48.02  \n",
       "DYSF   DYSF    0.00    0.00    0.00    0.00    0.00    0.00    0.00    0.00  \n",
       "ETV6   ETV6    0.00    0.00    0.00    0.00    0.00    0.00    0.00    0.00  \n",
       "EZH2   EZH2    0.00    0.00    0.00    0.00    0.00    0.00   44.88   46.83  \n",
       "FIG4   FIG4    0.00    0.00    0.00    0.00    0.00    0.00    0.00    0.00  \n",
       "IDH1   IDH1    0.00    0.00    0.00    0.00    0.00    0.00   36.37   45.71  \n",
       "NPM1   NPM1    0.00    0.00    0.00    0.00    0.00    0.00    0.00    0.00  \n",
       "NSD1   NSD1    0.00    0.00    0.00    0.00    0.00    0.00    0.00    0.00  \n",
       "PLCE1  PLCE1   0.00    0.00    0.00    0.00    0.00    0.00    0.00    0.00  \n",
       "RUNX1  RUNX1   0.00    0.00    0.00    0.00    0.00    0.00    0.00    0.00  \n",
       "RYR1   RYR1    0.00    0.00    0.00    0.00    0.00    0.00    0.00    0.00  \n",
       "TET2   TET2    0.00    0.00    0.00    0.00    0.00    0.00    0.00    0.00  \n",
       "U2AF1  U2AF1   0.00    0.00    0.00    0.00    0.00    0.00    0.00    0.00  \n",
       "UNC13B UNC13B 48.99   42.63   27.76    0.00    0.00    0.00    0.00    0.00  \n",
       "WDR4   WDR4   49.60   44.50   27.31    0.00    0.00    0.00    0.00    0.00  \n",
       "WT1    WT1    48.09   42.86   27.20    0.00    0.00    0.00    0.00    0.00  \n",
       "       AP05_R2 AP06_D0 AP06_R1 AP06_R2 AP02_D0 AP02_R1 AP02_R2 AP04_D0 AP04_R1\n",
       "ABCD1   0.00    0.00    0.00    0.00    0.32   24.10   45.76    0.00    0.00  \n",
       "ATRX    0.00    0.00    0.00    0.00    0.47   23.80   47.15    0.00    0.00  \n",
       "BRD7    0.00    0.00    0.00    0.00    0.00    0.00    0.00    0.00    0.00  \n",
       "CENPE   0.00    0.00    0.00    0.00    0.00    0.00    0.00    0.00    0.00  \n",
       "COL6A5  0.00    0.85   12.74   44.40    0.00    0.00    0.00    0.00    0.00  \n",
       "CSF3R   2.35    0.00    0.00    0.00    0.00    0.00    0.00   25.35   40.02  \n",
       "DNAI1   0.00    0.00    0.00    0.00    0.00    0.00    0.00    0.00    0.00  \n",
       "DNMT3A 48.29    0.00    0.00    0.00   47.98   32.57   48.14   29.43   39.85  \n",
       "DYSF    0.00   47.55   44.89   47.75    0.00    0.00    0.00    0.00    0.00  \n",
       "ETV6    0.00    0.00    0.00    0.00    0.11   22.55   44.07    0.00    0.00  \n",
       "EZH2   47.21    0.00    0.00    0.00    0.00    0.00    0.00    0.00    0.00  \n",
       "FIG4    0.00    0.10    4.18   45.00    0.00    0.00    0.00    0.00    0.00  \n",
       "IDH1   45.62    0.00    0.00    0.00    0.00    0.00    0.00    0.00    0.00  \n",
       "NPM1    0.00    0.00    0.00    0.00   44.50   27.47   43.94    0.00    0.00  \n",
       "NSD1    0.00    0.00    0.00    0.00   46.26   29.17   46.05    0.00    0.00  \n",
       "PLCE1   0.00   48.31   44.37   48.53    0.00    0.00    0.00    0.00    0.00  \n",
       "RUNX1   0.00   47.37   44.21   46.41    0.00    0.00    0.00    0.00    0.00  \n",
       "RYR1    0.00    0.00    0.00    0.00    0.00   22.50   43.66    0.00    0.00  \n",
       "TET2    0.00    0.00    0.00    0.00    0.00    0.00    0.00   28.02   40.85  \n",
       "U2AF1   0.00   47.44   43.44   46.15    0.00    0.00    0.00    0.00    0.00  \n",
       "UNC13B  0.00    0.00    0.00    0.00    0.00    0.00    0.00    0.00    0.00  \n",
       "WDR4    0.00    0.00    0.00    0.00    0.00    0.00    0.00    0.00    0.00  \n",
       "WT1     0.00    0.00    0.00    0.00    0.00    0.00    0.00   25.44   41.68  \n",
       "       AP04_R2\n",
       "ABCD1   0.00  \n",
       "ATRX    0.00  \n",
       "BRD7    0.00  \n",
       "CENPE   0.00  \n",
       "COL6A5  0.00  \n",
       "CSF3R  45.98  \n",
       "DNAI1   0.00  \n",
       "DNMT3A 46.08  \n",
       "DYSF    0.00  \n",
       "ETV6    0.00  \n",
       "EZH2    0.00  \n",
       "FIG4    0.00  \n",
       "IDH1    0.00  \n",
       "NPM1    0.00  \n",
       "NSD1    0.00  \n",
       "PLCE1   0.00  \n",
       "RUNX1   0.00  \n",
       "RYR1    0.00  \n",
       "TET2   44.77  \n",
       "U2AF1   0.00  \n",
       "UNC13B  0.00  \n",
       "WDR4    0.00  \n",
       "WT1    44.54  "
      ]
     },
     "metadata": {},
     "output_type": "display_data"
    }
   ],
   "source": [
    "mat"
   ]
  },
  {
   "cell_type": "code",
   "execution_count": 29,
   "id": "2b5d764b-c95f-4868-8fd7-8427f85f4c2d",
   "metadata": {},
   "outputs": [
    {
     "name": "stderr",
     "output_type": "stream",
     "text": [
      "载入需要的程辑包：viridisLite\n",
      "\n"
     ]
    }
   ],
   "source": [
    "library(\"viridis\")  "
   ]
  },
  {
   "cell_type": "code",
   "execution_count": 52,
   "id": "6091457a-4b00-486a-8c84-1b83d8a04a44",
   "metadata": {},
   "outputs": [
    {
     "data": {
      "text/html": [
       "<table class=\"dataframe\">\n",
       "<caption>A data.frame: 18 × 10</caption>\n",
       "<thead>\n",
       "\t<tr><th></th><th scope=col>PatientID</th><th scope=col>TDS</th><th scope=col>Timepoints</th><th scope=col>label</th><th scope=col>FLT3ITD</th><th scope=col>DUP98-NSD1</th><th scope=col>DUP98-HXD13</th><th scope=col>MLL-PTD</th><th scope=col>Sex</th><th scope=col>Blast</th></tr>\n",
       "\t<tr><th></th><th scope=col>&lt;chr&gt;</th><th scope=col>&lt;chr&gt;</th><th scope=col>&lt;chr&gt;</th><th scope=col>&lt;chr&gt;</th><th scope=col>&lt;chr&gt;</th><th scope=col>&lt;chr&gt;</th><th scope=col>&lt;chr&gt;</th><th scope=col>&lt;chr&gt;</th><th scope=col>&lt;chr&gt;</th><th scope=col>&lt;dbl&gt;</th></tr>\n",
       "</thead>\n",
       "<tbody>\n",
       "\t<tr><th scope=row>AP01_D0</th><td>AP01</td><td>TDS</td><td>D0</td><td>AP01_D0</td><td>mITD</td><td>Mutant</td><td>WT    </td><td>WT    </td><td>M</td><td>54.0</td></tr>\n",
       "\t<tr><th scope=row>AP01_R1</th><td>AP01</td><td>TDS</td><td>R1</td><td>AP01_R1</td><td>mITD</td><td>WT    </td><td>WT    </td><td>WT    </td><td>M</td><td>94.0</td></tr>\n",
       "\t<tr><th scope=row>AP01_R2</th><td>AP01</td><td>TDS</td><td>R2</td><td>AP01_R2</td><td>mITD</td><td>WT    </td><td>WT    </td><td>WT    </td><td>M</td><td>34.8</td></tr>\n",
       "\t<tr><th scope=row>AP03_D0</th><td>AP03</td><td>TDS</td><td>D0</td><td>AP03_D0</td><td>mITD</td><td>WT    </td><td>WT    </td><td>WT    </td><td>F</td><td>65.0</td></tr>\n",
       "\t<tr><th scope=row>AP03_R1</th><td>AP03</td><td>TDS</td><td>R1</td><td>AP03_R1</td><td>mITD</td><td>WT    </td><td>WT    </td><td>WT    </td><td>F</td><td>61.0</td></tr>\n",
       "\t<tr><th scope=row>AP03_R2</th><td>AP03</td><td>TDS</td><td>R2</td><td>AP03_R2</td><td>mITD</td><td>WT    </td><td>WT    </td><td>Mutant</td><td>F</td><td>93.0</td></tr>\n",
       "\t<tr><th scope=row>AP05_D0</th><td>AP05</td><td>TDS</td><td>D0</td><td>AP05_D0</td><td>mITD</td><td>WT    </td><td>Mutant</td><td>WT    </td><td>M</td><td>16.0</td></tr>\n",
       "\t<tr><th scope=row>AP05_R1</th><td>AP05</td><td>TDS</td><td>R1</td><td>AP05_R1</td><td>mITD</td><td>WT    </td><td>WT    </td><td>WT    </td><td>M</td><td>25.0</td></tr>\n",
       "\t<tr><th scope=row>AP05_R2</th><td>AP05</td><td>TDS</td><td>R2</td><td>AP05_R2</td><td>mITD</td><td>WT    </td><td>WT    </td><td>WT    </td><td>M</td><td>15.2</td></tr>\n",
       "\t<tr><th scope=row>AP06_D0</th><td>AP06</td><td>TDS</td><td>D0</td><td>AP06_D0</td><td>mITD</td><td>WT    </td><td>WT    </td><td>WT    </td><td>M</td><td>25.2</td></tr>\n",
       "\t<tr><th scope=row>AP06_R1</th><td>AP06</td><td>TDS</td><td>R1</td><td>AP06_R1</td><td>mITD</td><td>WT    </td><td>WT    </td><td>WT    </td><td>M</td><td>28.2</td></tr>\n",
       "\t<tr><th scope=row>AP06_R2</th><td>AP06</td><td>TDS</td><td>R2</td><td>AP06_R2</td><td>mITD</td><td>WT    </td><td>WT    </td><td>WT    </td><td>M</td><td>71.5</td></tr>\n",
       "\t<tr><th scope=row>AP02_D0</th><td>AP02</td><td>TDS</td><td>D0</td><td>AP02_D0</td><td>sITD</td><td>WT    </td><td>WT    </td><td>WT    </td><td>F</td><td>74.5</td></tr>\n",
       "\t<tr><th scope=row>AP02_R1</th><td>AP02</td><td>TDS</td><td>R1</td><td>AP02_R1</td><td>sITD</td><td>WT    </td><td>WT    </td><td>WT    </td><td>F</td><td>65.0</td></tr>\n",
       "\t<tr><th scope=row>AP02_R2</th><td>AP02</td><td>TDS</td><td>R2</td><td>AP02_R2</td><td>sITD</td><td>WT    </td><td>WT    </td><td>WT    </td><td>F</td><td>80.0</td></tr>\n",
       "\t<tr><th scope=row>AP04_D0</th><td>AP04</td><td>TDS</td><td>D0</td><td>AP04_D0</td><td>sITD</td><td>WT    </td><td>WT    </td><td>Mutant</td><td>M</td><td>76.0</td></tr>\n",
       "\t<tr><th scope=row>AP04_R1</th><td>AP04</td><td>TDS</td><td>R1</td><td>AP04_R1</td><td>sITD</td><td>WT    </td><td>WT    </td><td>WT    </td><td>M</td><td>64.4</td></tr>\n",
       "\t<tr><th scope=row>AP04_R2</th><td>AP04</td><td>TDS</td><td>R2</td><td>AP04_R2</td><td>sITD</td><td>WT    </td><td>WT    </td><td>WT    </td><td>M</td><td>79.8</td></tr>\n",
       "</tbody>\n",
       "</table>\n"
      ],
      "text/latex": [
       "A data.frame: 18 × 10\n",
       "\\begin{tabular}{r|llllllllll}\n",
       "  & PatientID & TDS & Timepoints & label & FLT3ITD & DUP98-NSD1 & DUP98-HXD13 & MLL-PTD & Sex & Blast\\\\\n",
       "  & <chr> & <chr> & <chr> & <chr> & <chr> & <chr> & <chr> & <chr> & <chr> & <dbl>\\\\\n",
       "\\hline\n",
       "\tAP01\\_D0 & AP01 & TDS & D0 & AP01\\_D0 & mITD & Mutant & WT     & WT     & M & 54.0\\\\\n",
       "\tAP01\\_R1 & AP01 & TDS & R1 & AP01\\_R1 & mITD & WT     & WT     & WT     & M & 94.0\\\\\n",
       "\tAP01\\_R2 & AP01 & TDS & R2 & AP01\\_R2 & mITD & WT     & WT     & WT     & M & 34.8\\\\\n",
       "\tAP03\\_D0 & AP03 & TDS & D0 & AP03\\_D0 & mITD & WT     & WT     & WT     & F & 65.0\\\\\n",
       "\tAP03\\_R1 & AP03 & TDS & R1 & AP03\\_R1 & mITD & WT     & WT     & WT     & F & 61.0\\\\\n",
       "\tAP03\\_R2 & AP03 & TDS & R2 & AP03\\_R2 & mITD & WT     & WT     & Mutant & F & 93.0\\\\\n",
       "\tAP05\\_D0 & AP05 & TDS & D0 & AP05\\_D0 & mITD & WT     & Mutant & WT     & M & 16.0\\\\\n",
       "\tAP05\\_R1 & AP05 & TDS & R1 & AP05\\_R1 & mITD & WT     & WT     & WT     & M & 25.0\\\\\n",
       "\tAP05\\_R2 & AP05 & TDS & R2 & AP05\\_R2 & mITD & WT     & WT     & WT     & M & 15.2\\\\\n",
       "\tAP06\\_D0 & AP06 & TDS & D0 & AP06\\_D0 & mITD & WT     & WT     & WT     & M & 25.2\\\\\n",
       "\tAP06\\_R1 & AP06 & TDS & R1 & AP06\\_R1 & mITD & WT     & WT     & WT     & M & 28.2\\\\\n",
       "\tAP06\\_R2 & AP06 & TDS & R2 & AP06\\_R2 & mITD & WT     & WT     & WT     & M & 71.5\\\\\n",
       "\tAP02\\_D0 & AP02 & TDS & D0 & AP02\\_D0 & sITD & WT     & WT     & WT     & F & 74.5\\\\\n",
       "\tAP02\\_R1 & AP02 & TDS & R1 & AP02\\_R1 & sITD & WT     & WT     & WT     & F & 65.0\\\\\n",
       "\tAP02\\_R2 & AP02 & TDS & R2 & AP02\\_R2 & sITD & WT     & WT     & WT     & F & 80.0\\\\\n",
       "\tAP04\\_D0 & AP04 & TDS & D0 & AP04\\_D0 & sITD & WT     & WT     & Mutant & M & 76.0\\\\\n",
       "\tAP04\\_R1 & AP04 & TDS & R1 & AP04\\_R1 & sITD & WT     & WT     & WT     & M & 64.4\\\\\n",
       "\tAP04\\_R2 & AP04 & TDS & R2 & AP04\\_R2 & sITD & WT     & WT     & WT     & M & 79.8\\\\\n",
       "\\end{tabular}\n"
      ],
      "text/markdown": [
       "\n",
       "A data.frame: 18 × 10\n",
       "\n",
       "| <!--/--> | PatientID &lt;chr&gt; | TDS &lt;chr&gt; | Timepoints &lt;chr&gt; | label &lt;chr&gt; | FLT3ITD &lt;chr&gt; | DUP98-NSD1 &lt;chr&gt; | DUP98-HXD13 &lt;chr&gt; | MLL-PTD &lt;chr&gt; | Sex &lt;chr&gt; | Blast &lt;dbl&gt; |\n",
       "|---|---|---|---|---|---|---|---|---|---|---|\n",
       "| AP01_D0 | AP01 | TDS | D0 | AP01_D0 | mITD | Mutant | WT     | WT     | M | 54.0 |\n",
       "| AP01_R1 | AP01 | TDS | R1 | AP01_R1 | mITD | WT     | WT     | WT     | M | 94.0 |\n",
       "| AP01_R2 | AP01 | TDS | R2 | AP01_R2 | mITD | WT     | WT     | WT     | M | 34.8 |\n",
       "| AP03_D0 | AP03 | TDS | D0 | AP03_D0 | mITD | WT     | WT     | WT     | F | 65.0 |\n",
       "| AP03_R1 | AP03 | TDS | R1 | AP03_R1 | mITD | WT     | WT     | WT     | F | 61.0 |\n",
       "| AP03_R2 | AP03 | TDS | R2 | AP03_R2 | mITD | WT     | WT     | Mutant | F | 93.0 |\n",
       "| AP05_D0 | AP05 | TDS | D0 | AP05_D0 | mITD | WT     | Mutant | WT     | M | 16.0 |\n",
       "| AP05_R1 | AP05 | TDS | R1 | AP05_R1 | mITD | WT     | WT     | WT     | M | 25.0 |\n",
       "| AP05_R2 | AP05 | TDS | R2 | AP05_R2 | mITD | WT     | WT     | WT     | M | 15.2 |\n",
       "| AP06_D0 | AP06 | TDS | D0 | AP06_D0 | mITD | WT     | WT     | WT     | M | 25.2 |\n",
       "| AP06_R1 | AP06 | TDS | R1 | AP06_R1 | mITD | WT     | WT     | WT     | M | 28.2 |\n",
       "| AP06_R2 | AP06 | TDS | R2 | AP06_R2 | mITD | WT     | WT     | WT     | M | 71.5 |\n",
       "| AP02_D0 | AP02 | TDS | D0 | AP02_D0 | sITD | WT     | WT     | WT     | F | 74.5 |\n",
       "| AP02_R1 | AP02 | TDS | R1 | AP02_R1 | sITD | WT     | WT     | WT     | F | 65.0 |\n",
       "| AP02_R2 | AP02 | TDS | R2 | AP02_R2 | sITD | WT     | WT     | WT     | F | 80.0 |\n",
       "| AP04_D0 | AP04 | TDS | D0 | AP04_D0 | sITD | WT     | WT     | Mutant | M | 76.0 |\n",
       "| AP04_R1 | AP04 | TDS | R1 | AP04_R1 | sITD | WT     | WT     | WT     | M | 64.4 |\n",
       "| AP04_R2 | AP04 | TDS | R2 | AP04_R2 | sITD | WT     | WT     | WT     | M | 79.8 |\n",
       "\n"
      ],
      "text/plain": [
       "        PatientID TDS Timepoints label   FLT3ITD DUP98-NSD1 DUP98-HXD13 MLL-PTD\n",
       "AP01_D0 AP01      TDS D0         AP01_D0 mITD    Mutant     WT          WT     \n",
       "AP01_R1 AP01      TDS R1         AP01_R1 mITD    WT         WT          WT     \n",
       "AP01_R2 AP01      TDS R2         AP01_R2 mITD    WT         WT          WT     \n",
       "AP03_D0 AP03      TDS D0         AP03_D0 mITD    WT         WT          WT     \n",
       "AP03_R1 AP03      TDS R1         AP03_R1 mITD    WT         WT          WT     \n",
       "AP03_R2 AP03      TDS R2         AP03_R2 mITD    WT         WT          Mutant \n",
       "AP05_D0 AP05      TDS D0         AP05_D0 mITD    WT         Mutant      WT     \n",
       "AP05_R1 AP05      TDS R1         AP05_R1 mITD    WT         WT          WT     \n",
       "AP05_R2 AP05      TDS R2         AP05_R2 mITD    WT         WT          WT     \n",
       "AP06_D0 AP06      TDS D0         AP06_D0 mITD    WT         WT          WT     \n",
       "AP06_R1 AP06      TDS R1         AP06_R1 mITD    WT         WT          WT     \n",
       "AP06_R2 AP06      TDS R2         AP06_R2 mITD    WT         WT          WT     \n",
       "AP02_D0 AP02      TDS D0         AP02_D0 sITD    WT         WT          WT     \n",
       "AP02_R1 AP02      TDS R1         AP02_R1 sITD    WT         WT          WT     \n",
       "AP02_R2 AP02      TDS R2         AP02_R2 sITD    WT         WT          WT     \n",
       "AP04_D0 AP04      TDS D0         AP04_D0 sITD    WT         WT          Mutant \n",
       "AP04_R1 AP04      TDS R1         AP04_R1 sITD    WT         WT          WT     \n",
       "AP04_R2 AP04      TDS R2         AP04_R2 sITD    WT         WT          WT     \n",
       "        Sex Blast\n",
       "AP01_D0 M   54.0 \n",
       "AP01_R1 M   94.0 \n",
       "AP01_R2 M   34.8 \n",
       "AP03_D0 F   65.0 \n",
       "AP03_R1 F   61.0 \n",
       "AP03_R2 F   93.0 \n",
       "AP05_D0 M   16.0 \n",
       "AP05_R1 M   25.0 \n",
       "AP05_R2 M   15.2 \n",
       "AP06_D0 M   25.2 \n",
       "AP06_R1 M   28.2 \n",
       "AP06_R2 M   71.5 \n",
       "AP02_D0 F   74.5 \n",
       "AP02_R1 F   65.0 \n",
       "AP02_R2 F   80.0 \n",
       "AP04_D0 M   76.0 \n",
       "AP04_R1 M   64.4 \n",
       "AP04_R2 M   79.8 "
      ]
     },
     "metadata": {},
     "output_type": "display_data"
    }
   ],
   "source": [
    "anno"
   ]
  },
  {
   "cell_type": "code",
   "execution_count": 47,
   "id": "d8f54a50-a0c2-4a83-9204-78e6d611d3ae",
   "metadata": {},
   "outputs": [
    {
     "data": {
      "text/html": [
       "<style>\n",
       ".list-inline {list-style: none; margin:0; padding: 0}\n",
       ".list-inline>li {display: inline-block}\n",
       ".list-inline>li:not(:last-child)::after {content: \"\\00b7\"; padding: 0 .5ex}\n",
       "</style>\n",
       "<ol class=list-inline><li>'AP01'</li><li>'AP03'</li><li>'AP05'</li><li>'AP06'</li><li>'AP02'</li><li>'AP04'</li></ol>\n"
      ],
      "text/latex": [
       "\\begin{enumerate*}\n",
       "\\item 'AP01'\n",
       "\\item 'AP03'\n",
       "\\item 'AP05'\n",
       "\\item 'AP06'\n",
       "\\item 'AP02'\n",
       "\\item 'AP04'\n",
       "\\end{enumerate*}\n"
      ],
      "text/markdown": [
       "1. 'AP01'\n",
       "2. 'AP03'\n",
       "3. 'AP05'\n",
       "4. 'AP06'\n",
       "5. 'AP02'\n",
       "6. 'AP04'\n",
       "\n",
       "\n"
      ],
      "text/plain": [
       "[1] \"AP01\" \"AP03\" \"AP05\" \"AP06\" \"AP02\" \"AP04\""
      ]
     },
     "metadata": {},
     "output_type": "display_data"
    }
   ],
   "source": [
    "unique(anno$PatientID)"
   ]
  },
  {
   "cell_type": "code",
   "execution_count": 55,
   "id": "5419e5ce-0bf8-42d0-a7c2-ec3c5a161f5a",
   "metadata": {},
   "outputs": [],
   "source": [
    "library(ComplexHeatmap)"
   ]
  },
  {
   "cell_type": "code",
   "execution_count": 51,
   "id": "d9425e39-b1a2-4afb-a7b3-c40ca2d64635",
   "metadata": {},
   "outputs": [
    {
     "data": {
      "text/plain": [
       "A HeatmapAnnotation object with 5 annotations\n",
       "  name: heatmap_annotation_0 \n",
       "  position: column \n",
       "  items: 18 \n",
       "  width: 1npc \n",
       "  height: 16.4058392140584mm \n",
       "  this object is subsetable\n",
       "  30.7603333333333mm extension on the left \n",
       "\n",
       "        name   annotation_type color_mapping height\n",
       "     FLT3ITD   discrete vector  user-defined    3mm\n",
       "  DUP98-NSD1   discrete vector  user-defined    3mm\n",
       " DUP98-HXD13   discrete vector  user-defined    3mm\n",
       "     MLL-PTD   discrete vector  user-defined    3mm\n",
       "       Blast continuous vector  user-defined    3mm"
      ]
     },
     "metadata": {},
     "output_type": "display_data"
    }
   ],
   "source": [
    "ha"
   ]
  },
  {
   "cell_type": "code",
   "execution_count": 57,
   "id": "f1c3c5de-7776-46f7-af2a-cc834078aabc",
   "metadata": {},
   "outputs": [
    {
     "data": {
      "text/html": [
       "<style>\n",
       ".list-inline {list-style: none; margin:0; padding: 0}\n",
       ".list-inline>li {display: inline-block}\n",
       ".list-inline>li:not(:last-child)::after {content: \"\\00b7\"; padding: 0 .5ex}\n",
       "</style>\n",
       "<ol class=list-inline><li>'AP01'</li><li>'AP01'</li><li>'AP01'</li><li>'AP03'</li><li>'AP03'</li><li>'AP03'</li><li>'AP05'</li><li>'AP05'</li><li>'AP05'</li><li>'AP06'</li><li>'AP06'</li><li>'AP06'</li><li>'AP02'</li><li>'AP02'</li><li>'AP02'</li><li>'AP04'</li><li>'AP04'</li><li>'AP04'</li></ol>\n"
      ],
      "text/latex": [
       "\\begin{enumerate*}\n",
       "\\item 'AP01'\n",
       "\\item 'AP01'\n",
       "\\item 'AP01'\n",
       "\\item 'AP03'\n",
       "\\item 'AP03'\n",
       "\\item 'AP03'\n",
       "\\item 'AP05'\n",
       "\\item 'AP05'\n",
       "\\item 'AP05'\n",
       "\\item 'AP06'\n",
       "\\item 'AP06'\n",
       "\\item 'AP06'\n",
       "\\item 'AP02'\n",
       "\\item 'AP02'\n",
       "\\item 'AP02'\n",
       "\\item 'AP04'\n",
       "\\item 'AP04'\n",
       "\\item 'AP04'\n",
       "\\end{enumerate*}\n"
      ],
      "text/markdown": [
       "1. 'AP01'\n",
       "2. 'AP01'\n",
       "3. 'AP01'\n",
       "4. 'AP03'\n",
       "5. 'AP03'\n",
       "6. 'AP03'\n",
       "7. 'AP05'\n",
       "8. 'AP05'\n",
       "9. 'AP05'\n",
       "10. 'AP06'\n",
       "11. 'AP06'\n",
       "12. 'AP06'\n",
       "13. 'AP02'\n",
       "14. 'AP02'\n",
       "15. 'AP02'\n",
       "16. 'AP04'\n",
       "17. 'AP04'\n",
       "18. 'AP04'\n",
       "\n",
       "\n"
      ],
      "text/plain": [
       " [1] \"AP01\" \"AP01\" \"AP01\" \"AP03\" \"AP03\" \"AP03\" \"AP05\" \"AP05\" \"AP05\" \"AP06\"\n",
       "[11] \"AP06\" \"AP06\" \"AP02\" \"AP02\" \"AP02\" \"AP04\" \"AP04\" \"AP04\""
      ]
     },
     "metadata": {},
     "output_type": "display_data"
    }
   ],
   "source": [
    "anno$PatientID"
   ]
  },
  {
   "cell_type": "code",
   "execution_count": 77,
   "id": "04cef1b9-2fc0-41f9-9226-02675cecab3d",
   "metadata": {},
   "outputs": [
    {
     "name": "stdout",
     "output_type": "stream",
     "text": [
      "[1] \"#0D0887FF\" \"#9C179EFF\" \"#ED7953FF\" \"#F0F921FF\"\n"
     ]
    }
   ],
   "source": [
    "show(plasma(4))"
   ]
  },
  {
   "cell_type": "code",
   "execution_count": 112,
   "id": "e98064eb-637d-495a-8b86-834a5826361c",
   "metadata": {},
   "outputs": [
    {
     "data": {
      "text/html": [
       "<style>\n",
       ".list-inline {list-style: none; margin:0; padding: 0}\n",
       ".list-inline>li {display: inline-block}\n",
       ".list-inline>li:not(:last-child)::after {content: \"\\00b7\"; padding: 0 .5ex}\n",
       "</style>\n",
       "<ol class=list-inline><li>'#F1BB7B'</li><li>'#FD6467'</li><li>'#5B1A18'</li><li>'#D67236'</li><li>NA</li></ol>\n"
      ],
      "text/latex": [
       "\\begin{enumerate*}\n",
       "\\item '\\#F1BB7B'\n",
       "\\item '\\#FD6467'\n",
       "\\item '\\#5B1A18'\n",
       "\\item '\\#D67236'\n",
       "\\item NA\n",
       "\\end{enumerate*}\n"
      ],
      "text/markdown": [
       "1. '#F1BB7B'\n",
       "2. '#FD6467'\n",
       "3. '#5B1A18'\n",
       "4. '#D67236'\n",
       "5. NA\n",
       "\n",
       "\n"
      ],
      "text/plain": [
       "[1] \"#F1BB7B\" \"#FD6467\" \"#5B1A18\" \"#D67236\" NA       "
      ]
     },
     "metadata": {},
     "output_type": "display_data"
    },
    {
     "name": "stderr",
     "output_type": "stream",
     "text": [
      "Warning message in RColorBrewer::brewer.pal(12, \"YlGn\"):\n",
      "\"n too large, allowed maximum for palette YlGn is 9\n",
      "Returning the palette you asked for with that many colors\n",
      "\"\n"
     ]
    },
    {
     "data": {
      "text/html": [
       "<style>\n",
       ".list-inline {list-style: none; margin:0; padding: 0}\n",
       ".list-inline>li {display: inline-block}\n",
       ".list-inline>li:not(:last-child)::after {content: \"\\00b7\"; padding: 0 .5ex}\n",
       "</style>\n",
       "<ol class=list-inline><li>'#FFFFE5'</li><li>'#F7FCB9'</li><li>'#D9F0A3'</li><li>'#ADDD8E'</li><li>'#78C679'</li><li>'#41AB5D'</li><li>'#238443'</li><li>'#006837'</li><li>'#004529'</li></ol>\n"
      ],
      "text/latex": [
       "\\begin{enumerate*}\n",
       "\\item '\\#FFFFE5'\n",
       "\\item '\\#F7FCB9'\n",
       "\\item '\\#D9F0A3'\n",
       "\\item '\\#ADDD8E'\n",
       "\\item '\\#78C679'\n",
       "\\item '\\#41AB5D'\n",
       "\\item '\\#238443'\n",
       "\\item '\\#006837'\n",
       "\\item '\\#004529'\n",
       "\\end{enumerate*}\n"
      ],
      "text/markdown": [
       "1. '#FFFFE5'\n",
       "2. '#F7FCB9'\n",
       "3. '#D9F0A3'\n",
       "4. '#ADDD8E'\n",
       "5. '#78C679'\n",
       "6. '#41AB5D'\n",
       "7. '#238443'\n",
       "8. '#006837'\n",
       "9. '#004529'\n",
       "\n",
       "\n"
      ],
      "text/plain": [
       "[1] \"#FFFFE5\" \"#F7FCB9\" \"#D9F0A3\" \"#ADDD8E\" \"#78C679\" \"#41AB5D\" \"#238443\"\n",
       "[8] \"#006837\" \"#004529\""
      ]
     },
     "metadata": {},
     "output_type": "display_data"
    },
    {
     "data": {
      "image/png": "[encoded data removed]",
      "text/plain": [
       "plot without title"
      ]
     },
     "metadata": {
      "image/png": {
       "height": 420,
       "width": 420
      }
     },
     "output_type": "display_data"
    }
   ],
   "source": [
    "pal=wesanderson::wes_palette(\"GrandBudapest1\",4, type = \"discrete\")\n",
    "pal[1:5]\n",
    "RColorBrewer::display.brewer.all()\n",
    "\n",
    "RColorBrewer::brewer.pal(12, \"YlGn\")"
   ]
  },
  {
   "cell_type": "code",
   "execution_count": 116,
   "id": "0a532a1b-f41c-4a46-b186-600cd3cdca7a",
   "metadata": {},
   "outputs": [
    {
     "data": {
      "text/html": [
       "<strong>png:</strong> 2"
      ],
      "text/latex": [
       "\\textbf{png:} 2"
      ],
      "text/markdown": [
       "**png:** 2"
      ],
      "text/plain": [
       "png \n",
       "  2 "
      ]
     },
     "metadata": {},
     "output_type": "display_data"
    }
   ],
   "source": [
    "p1=Heatmap(as.matrix(mat[,2:ncol(mat)]) ,row_names_side = \"left\",            \n",
    "           cluster_columns = FALSE,#cluster_rows = FALSE ,\n",
    "           show_row_dend = FALSE,\n",
    "           column_order=rownames(anno),\n",
    "           column_split = factor(anno$PatientID,levels=unique(anno$PatientID)),\n",
    "           column_labels = anno$Timepoints,\n",
    "           column_names_side = \"top\",\n",
    "           gap = unit(1, \"cm\"),heatmap_legend_param = list(title = \"VAF\"),\n",
    "           #col = circlize::colorRamp2(c(0,0.1,1,50),c(\"grey90\",\"white\",\"pink\",\"red\")),\n",
    "           col = circlize::colorRamp2(c(0,0.1,1,50),c(\"grey90\",\"white\",\"#ED7953FF\",\"#9C179EFF\")),\n",
    "           #col = plasma(100),\n",
    "           top_annotation = HeatmapAnnotation(FLT3ITD = unlist(anno[\"FLT3ITD\"]),                \n",
    "                                              `DUP98-NSD1`=unlist(anno[\"DUP98-NSD1\"]),                     \n",
    "                                              `DUP98-HXD13` =unlist(anno[\"DUP98-HXD13\"]),                      \n",
    "                                              `MLL-PTD`=unlist(anno[\"MLL-PTD\"]),                      \n",
    "                                              Blast=unlist(anno[\"Blast\"]),\n",
    "                                              col = list(FLT3ITD=c('sITD'='#5BBCD6','mITD'='#FD6467'), #FLT3ITD=c('WT'='#4DAF4A','sITD'='#377EB8','mITD'='#E41A1C')                                  \n",
    "                                                         `DUP98-NSD1` = c(\"Mutant\" = \"#7570B3\",\"WT\" = \"grey90\"),                                                                 \n",
    "                                                         `DUP98-HXD13` = c(\"Mutant\" = \"#7570B3\",\"WT\" = \"grey90\"),                                \n",
    "                                                         `MLL-PTD` = c(\"Mutant\" = \"#7570B3\",\"WT\" = \"grey90\"),                                 \n",
    "                                                         Blast=circlize::colorRamp2(c(0,50),c(\"white\",\"#78C679\"))                                 \n",
    "                                                        ),                                   \n",
    "                                              annotation_name_side = \"left\",simple_anno_size = unit(0.3,\"cm\"))\n",
    "          )\n",
    "\n",
    "pdf(paste0(suppdir,\"./4CNV/plot/Figure.SNV_heatmap.v2.pdf\"),width=6,height=5)\n",
    "draw(p1)\n",
    "dev.off()"
   ]
  },
  {
   "cell_type": "code",
   "execution_count": null,
   "id": "8fd20032-38db-4aa9-991c-1b4cee977635",
   "metadata": {},
   "outputs": [],
   "source": [
    "#fig4e"
   ]
  },
  {
   "cell_type": "code",
   "execution_count": 5,
   "id": "2ec94b21-9d32-448a-ad18-7d6e61e0a402",
   "metadata": {},
   "outputs": [],
   "source": [
    "##CNV loh plot: AP03\n",
    "cnv_dir ='D:/Project/project_yangjy_NR/4.Postprocess/8integration/4Rcircos/file/'"
   ]
  },
  {
   "cell_type": "code",
   "execution_count": 6,
   "id": "f1d56124-4829-4f0a-8a67-b7a5e2860b38",
   "metadata": {},
   "outputs": [],
   "source": [
    "c3_1 = read.table(paste0(cnv_dir,'NR5_forRegionAndBreakPoint/D0/NR5_1D0_Mutect2_allelic_states.txt'),header=T,sep='\\t') %>% \n",
    "     filter(Chromosome != 'chrY') %>% mutate(Chromosome = gsub('chr','',Chromosome))\n",
    "c3_2 = read.table(paste0(cnv_dir,'NR5_forRegionAndBreakPoint/6D30/NR5_6D30_Mutect2_allelic_states.txt'),header=T,sep='\\t') %>% \n",
    "     filter(Chromosome != 'chrY') %>% mutate(Chromosome = gsub('chr','',Chromosome))\n"
   ]
  },
  {
   "cell_type": "code",
   "execution_count": 64,
   "id": "3a1b8ca3-ff1c-4170-a3d7-44e6bab9dd92",
   "metadata": {},
   "outputs": [
    {
     "data": {
      "text/html": [
       "<strong>png:</strong> 2"
      ],
      "text/latex": [
       "\\textbf{png:} 2"
      ],
      "text/markdown": [
       "**png:** 2"
      ],
      "text/plain": [
       "png \n",
       "  2 "
      ]
     },
     "metadata": {},
     "output_type": "display_data"
    }
   ],
   "source": [
    "pdf(paste0(suppdir,\"./4CNV/plot/Figure.p03_cnv.pdf\"),width=8,height=6)\n",
    "par(mfrow=c(2, 1), mar=c(5, 4, 4, 2)+0.1)\n",
    ".genome.view(c3_1)\n",
    ".genome.view(c3_2)\n",
    "dev.off()"
   ]
  },
  {
   "cell_type": "code",
   "execution_count": null,
   "id": "ddd293c4-ef2b-4211-bcab-756203b4a3e2",
   "metadata": {},
   "outputs": [],
   "source": [
    "#supplementary fig"
   ]
  },
  {
   "cell_type": "code",
   "execution_count": 8,
   "id": "8d142b1d-17a9-4ec9-875a-786e43f7c7ce",
   "metadata": {},
   "outputs": [],
   "source": [
    "#supp.fig\n",
    "c1_1 = read.table(paste0(cnv_dir,'Lxf_forRegionAndBreakPoint/D0/Lxf_1D0_Mutect2_allelic_states.txt'),header=T,sep='\\t') %>% \n",
    "     filter(Chromosome != 'chrY') %>% mutate(Chromosome = gsub('chr','',Chromosome))\n",
    "c1_2 = read.table(paste0(cnv_dir,'Lxf_forRegionAndBreakPoint/1D26/Lxf_1D26_Mutect2_allelic_states.txt'),header=T,sep='\\t') %>% \n",
    "     filter(Chromosome != 'chrY') %>% mutate(Chromosome = gsub('chr','',Chromosome))\n",
    "c1_3 = read.table(paste0(cnv_dir,'Lxf_forRegionAndBreakPoint/3D26/Lxf_3D26_Mutect2_allelic_states.txt'),header=T,sep='\\t') %>% \n",
    "     filter(Chromosome != 'chrY') %>% mutate(Chromosome = gsub('chr','',Chromosome))\n",
    "\n",
    "c2_1 = read.table(paste0(cnv_dir,'WY_forRegionAndBreakPoint/D0/WY_1D0_Mutect2_allelic_states.txt'),header=T,sep='\\t') %>% \n",
    "     filter(Chromosome != 'chrY') %>% mutate(Chromosome = gsub('chr','',Chromosome))\n",
    "c2_2 = read.table(paste0(cnv_dir,'WY_forRegionAndBreakPoint/2D60/WY_2D60_Mutect2_allelic_states.txt'),header=T,sep='\\t') %>% \n",
    "     filter(Chromosome != 'chrY') %>% mutate(Chromosome = gsub('chr','',Chromosome))\n",
    "c2_3 = read.table(paste0(cnv_dir,'WY_forRegionAndBreakPoint/3D30/WY_3D30_Mutect2_allelic_states.txt'),header=T,sep='\\t') %>% \n",
    "     filter(Chromosome != 'chrY') %>% mutate(Chromosome = gsub('chr','',Chromosome))\n",
    "\n",
    "c4_1 = read.table(paste0(cnv_dir,'ZEM_forRegionAndBreakPoint/D0/ZEM_1D0_Mutect2_allelic_states.txt'),header=T,sep='\\t') %>% \n",
    "     filter(Chromosome != 'chrY') %>% mutate(Chromosome = gsub('chr','',Chromosome))\n",
    "c4_2 = read.table(paste0(cnv_dir,'ZEM_forRegionAndBreakPoint/3D30/ZEM_3D30_Mutect2_allelic_states.txt'),header=T,sep='\\t') %>% \n",
    "     filter(Chromosome != 'chrY') %>% mutate(Chromosome = gsub('chr','',Chromosome))\n",
    "\n",
    "c5_1 = read.table(paste0(cnv_dir,'GSH_forRegionAndBreakPoint/D0/GSH_1D0_Mutect2_allelic_states.txt'),header=T,sep='\\t') %>% \n",
    "     filter(Chromosome != 'chrY') %>% mutate(Chromosome = gsub('chr','',Chromosome))\n",
    "c5_2 = read.table(paste0(cnv_dir,'GSH_forRegionAndBreakPoint/2D30/GSH_2D30_Mutect2_allelic_states.txt'),header=T,sep='\\t') %>% \n",
    "     filter(Chromosome != 'chrY') %>% mutate(Chromosome = gsub('chr','',Chromosome))\n",
    "\n",
    "c6_1 = read.table(paste0(cnv_dir,'XF_forRegionAndBreakPoint/D0/XF_1D0_Mutect2_allelic_states.txt'),header=T,sep='\\t') %>% \n",
    "     filter(Chromosome != 'chrY') %>% mutate(Chromosome = gsub('chr','',Chromosome))\n",
    "c6_2 = read.table(paste0(cnv_dir,'XF_forRegionAndBreakPoint/4D30/XF_4D30_Mutect2_allelic_states.txt'),header=T,sep='\\t') %>% \n",
    "     filter(Chromosome != 'chrY') %>% mutate(Chromosome = gsub('chr','',Chromosome))\n",
    "\n",
    "\n"
   ]
  },
  {
   "cell_type": "code",
   "execution_count": 22,
   "id": "83f7909b-3cb3-4790-87cf-d609d1beee7d",
   "metadata": {},
   "outputs": [
    {
     "data": {
      "text/html": [
       "<table class=\"dataframe\">\n",
       "<caption>A data.frame: 6 × 15</caption>\n",
       "<thead>\n",
       "\t<tr><th></th><th scope=col>Sample</th><th scope=col>Chromosome</th><th scope=col>Start</th><th scope=col>End</th><th scope=col>Copy_Nr_Raw</th><th scope=col>CopyNr</th><th scope=col>A</th><th scope=col>B</th><th scope=col>LOH</th><th scope=col>Theta</th><th scope=col>Theta_Exp</th><th scope=col>n_SNPs</th><th scope=col>Is_Subclonal_CN</th><th scope=col>Subclonal_P_value</th><th scope=col>Is_Inconsistent_State</th></tr>\n",
       "\t<tr><th></th><th scope=col>&lt;chr&gt;</th><th scope=col>&lt;chr&gt;</th><th scope=col>&lt;int&gt;</th><th scope=col>&lt;int&gt;</th><th scope=col>&lt;dbl&gt;</th><th scope=col>&lt;int&gt;</th><th scope=col>&lt;int&gt;</th><th scope=col>&lt;int&gt;</th><th scope=col>&lt;int&gt;</th><th scope=col>&lt;dbl&gt;</th><th scope=col>&lt;dbl&gt;</th><th scope=col>&lt;int&gt;</th><th scope=col>&lt;int&gt;</th><th scope=col>&lt;dbl&gt;</th><th scope=col>&lt;int&gt;</th></tr>\n",
       "</thead>\n",
       "<tbody>\n",
       "\t<tr><th scope=row>1</th><td>Lxf_1D0_Mutect2</td><td>1</td><td>    10001</td><td>142536938</td><td>2.02267</td><td>2</td><td>1</td><td>1</td><td>0</td><td>0.153846</td><td>0.141356</td><td>75728</td><td>0</td><td>0.40503700</td><td>0</td></tr>\n",
       "\t<tr><th scope=row>2</th><td>Lxf_1D0_Mutect2</td><td>1</td><td>142536939</td><td>148937742</td><td>2.03261</td><td>2</td><td>2</td><td>0</td><td>1</td><td>0.466667</td><td>0.500250</td><td>10565</td><td>0</td><td>0.02516220</td><td>0</td></tr>\n",
       "\t<tr><th scope=row>3</th><td>Lxf_1D0_Mutect2</td><td>1</td><td>148937743</td><td>249240581</td><td>2.04015</td><td>2</td><td>1</td><td>1</td><td>0</td><td>0.153846</td><td>0.141356</td><td>66746</td><td>0</td><td>0.40503700</td><td>0</td></tr>\n",
       "\t<tr><th scope=row>4</th><td>Lxf_1D0_Mutect2</td><td>2</td><td>    10001</td><td> 89832606</td><td>2.04233</td><td>2</td><td>1</td><td>1</td><td>0</td><td>0.151515</td><td>0.141356</td><td>58998</td><td>0</td><td>0.49824200</td><td>0</td></tr>\n",
       "\t<tr><th scope=row>5</th><td>Lxf_1D0_Mutect2</td><td>2</td><td> 89832607</td><td> 92322606</td><td>1.95128</td><td>2</td><td>2</td><td>0</td><td>1</td><td>0.458333</td><td>0.500250</td><td> 3124</td><td>0</td><td>0.00519867</td><td>0</td></tr>\n",
       "\t<tr><th scope=row>6</th><td>Lxf_1D0_Mutect2</td><td>2</td><td> 92322607</td><td>243189485</td><td>2.05606</td><td>2</td><td>1</td><td>1</td><td>0</td><td>0.151515</td><td>0.141356</td><td>88239</td><td>0</td><td>0.49824200</td><td>0</td></tr>\n",
       "</tbody>\n",
       "</table>\n"
      ],
      "text/latex": [
       "A data.frame: 6 × 15\n",
       "\\begin{tabular}{r|lllllllllllllll}\n",
       "  & Sample & Chromosome & Start & End & Copy\\_Nr\\_Raw & CopyNr & A & B & LOH & Theta & Theta\\_Exp & n\\_SNPs & Is\\_Subclonal\\_CN & Subclonal\\_P\\_value & Is\\_Inconsistent\\_State\\\\\n",
       "  & <chr> & <chr> & <int> & <int> & <dbl> & <int> & <int> & <int> & <int> & <dbl> & <dbl> & <int> & <int> & <dbl> & <int>\\\\\n",
       "\\hline\n",
       "\t1 & Lxf\\_1D0\\_Mutect2 & 1 &     10001 & 142536938 & 2.02267 & 2 & 1 & 1 & 0 & 0.153846 & 0.141356 & 75728 & 0 & 0.40503700 & 0\\\\\n",
       "\t2 & Lxf\\_1D0\\_Mutect2 & 1 & 142536939 & 148937742 & 2.03261 & 2 & 2 & 0 & 1 & 0.466667 & 0.500250 & 10565 & 0 & 0.02516220 & 0\\\\\n",
       "\t3 & Lxf\\_1D0\\_Mutect2 & 1 & 148937743 & 249240581 & 2.04015 & 2 & 1 & 1 & 0 & 0.153846 & 0.141356 & 66746 & 0 & 0.40503700 & 0\\\\\n",
       "\t4 & Lxf\\_1D0\\_Mutect2 & 2 &     10001 &  89832606 & 2.04233 & 2 & 1 & 1 & 0 & 0.151515 & 0.141356 & 58998 & 0 & 0.49824200 & 0\\\\\n",
       "\t5 & Lxf\\_1D0\\_Mutect2 & 2 &  89832607 &  92322606 & 1.95128 & 2 & 2 & 0 & 1 & 0.458333 & 0.500250 &  3124 & 0 & 0.00519867 & 0\\\\\n",
       "\t6 & Lxf\\_1D0\\_Mutect2 & 2 &  92322607 & 243189485 & 2.05606 & 2 & 1 & 1 & 0 & 0.151515 & 0.141356 & 88239 & 0 & 0.49824200 & 0\\\\\n",
       "\\end{tabular}\n"
      ],
      "text/markdown": [
       "\n",
       "A data.frame: 6 × 15\n",
       "\n",
       "| <!--/--> | Sample &lt;chr&gt; | Chromosome &lt;chr&gt; | Start &lt;int&gt; | End &lt;int&gt; | Copy_Nr_Raw &lt;dbl&gt; | CopyNr &lt;int&gt; | A &lt;int&gt; | B &lt;int&gt; | LOH &lt;int&gt; | Theta &lt;dbl&gt; | Theta_Exp &lt;dbl&gt; | n_SNPs &lt;int&gt; | Is_Subclonal_CN &lt;int&gt; | Subclonal_P_value &lt;dbl&gt; | Is_Inconsistent_State &lt;int&gt; |\n",
       "|---|---|---|---|---|---|---|---|---|---|---|---|---|---|---|---|\n",
       "| 1 | Lxf_1D0_Mutect2 | 1 |     10001 | 142536938 | 2.02267 | 2 | 1 | 1 | 0 | 0.153846 | 0.141356 | 75728 | 0 | 0.40503700 | 0 |\n",
       "| 2 | Lxf_1D0_Mutect2 | 1 | 142536939 | 148937742 | 2.03261 | 2 | 2 | 0 | 1 | 0.466667 | 0.500250 | 10565 | 0 | 0.02516220 | 0 |\n",
       "| 3 | Lxf_1D0_Mutect2 | 1 | 148937743 | 249240581 | 2.04015 | 2 | 1 | 1 | 0 | 0.153846 | 0.141356 | 66746 | 0 | 0.40503700 | 0 |\n",
       "| 4 | Lxf_1D0_Mutect2 | 2 |     10001 |  89832606 | 2.04233 | 2 | 1 | 1 | 0 | 0.151515 | 0.141356 | 58998 | 0 | 0.49824200 | 0 |\n",
       "| 5 | Lxf_1D0_Mutect2 | 2 |  89832607 |  92322606 | 1.95128 | 2 | 2 | 0 | 1 | 0.458333 | 0.500250 |  3124 | 0 | 0.00519867 | 0 |\n",
       "| 6 | Lxf_1D0_Mutect2 | 2 |  92322607 | 243189485 | 2.05606 | 2 | 1 | 1 | 0 | 0.151515 | 0.141356 | 88239 | 0 | 0.49824200 | 0 |\n",
       "\n"
      ],
      "text/plain": [
       "  Sample          Chromosome Start     End       Copy_Nr_Raw CopyNr A B LOH\n",
       "1 Lxf_1D0_Mutect2 1              10001 142536938 2.02267     2      1 1 0  \n",
       "2 Lxf_1D0_Mutect2 1          142536939 148937742 2.03261     2      2 0 1  \n",
       "3 Lxf_1D0_Mutect2 1          148937743 249240581 2.04015     2      1 1 0  \n",
       "4 Lxf_1D0_Mutect2 2              10001  89832606 2.04233     2      1 1 0  \n",
       "5 Lxf_1D0_Mutect2 2           89832607  92322606 1.95128     2      2 0 1  \n",
       "6 Lxf_1D0_Mutect2 2           92322607 243189485 2.05606     2      1 1 0  \n",
       "  Theta    Theta_Exp n_SNPs Is_Subclonal_CN Subclonal_P_value\n",
       "1 0.153846 0.141356  75728  0               0.40503700       \n",
       "2 0.466667 0.500250  10565  0               0.02516220       \n",
       "3 0.153846 0.141356  66746  0               0.40503700       \n",
       "4 0.151515 0.141356  58998  0               0.49824200       \n",
       "5 0.458333 0.500250   3124  0               0.00519867       \n",
       "6 0.151515 0.141356  88239  0               0.49824200       \n",
       "  Is_Inconsistent_State\n",
       "1 0                    \n",
       "2 0                    \n",
       "3 0                    \n",
       "4 0                    \n",
       "5 0                    \n",
       "6 0                    "
      ]
     },
     "metadata": {},
     "output_type": "display_data"
    }
   ],
   "source": [
    "c1_1 %>% head()"
   ]
  },
  {
   "cell_type": "code",
   "execution_count": null,
   "id": "b0efad0f-b8be-4127-a884-42fe909d78fd",
   "metadata": {},
   "outputs": [],
   "source": []
  },
  {
   "cell_type": "code",
   "execution_count": 21,
   "id": "2b4f97d2-9f10-4a4d-be0c-5c6804988f0a",
   "metadata": {},
   "outputs": [
    {
     "data": {
      "text/html": [
       "<strong>png:</strong> 2"
      ],
      "text/latex": [
       "\\textbf{png:} 2"
      ],
      "text/markdown": [
       "**png:** 2"
      ],
      "text/plain": [
       "png \n",
       "  2 "
      ]
     },
     "metadata": {},
     "output_type": "display_data"
    }
   ],
   "source": [
    "pdf(paste0(suppdir,\"./4CNV/plot/SFig4.3_cnv3.pdf\"),width=16,height=12)\n",
    "par(mfrow=c(6, 2), mar=c(5, 4, 4, 2)+0.1)\n",
    ".genome.view(c1_1, main = 'AP01_D0')\n",
    ".genome.view(c2_1, main = 'AP02_D0')\n",
    ".genome.view(c1_2, main = 'AP01_R1')\n",
    ".genome.view(c2_2, main = 'AP02_R1')\n",
    ".genome.view(c1_3, main = 'AP01_R2')\n",
    ".genome.view(c2_3, main = 'AP02_R2')\n",
    ".genome.view(c4_1, main = 'AP04_D0')\n",
    ".genome.view(c5_1, main = 'AP05_D0')\n",
    ".genome.view(c4_2, main = 'AP04_R2')\n",
    ".genome.view(c5_2, main = 'AP05_R2')\n",
    ".genome.view(c6_1, main = 'AP06_D0')\n",
    ".genome.view(c6_2, main = 'AP06_R2')\n",
    "dev.off()"
   ]
  },
  {
   "cell_type": "code",
   "execution_count": 18,
   "id": "534d7229-bea2-44e8-b323-2c75b81c95f4",
   "metadata": {},
   "outputs": [],
   "source": [
    ".genome.view<-function (seg.cn, info.type = \"AB\", ...) \n",
    "{\n",
    "    chr.order <- unique(seg.cn$Chromosome)\n",
    "    seg.list <- split(x = seg.cn[, c(\"Chromosome\", \"Start\", \n",
    "        \"End\", \"A\", \"B\", \"CopyNr\")], f = seg.cn$Chromosome)\n",
    "    seg.list <- seg.list[order(order(chr.order))]\n",
    "    seg.max <- lapply(X = seg.list, FUN = function(x) x[nrow(x), \n",
    "        \"End\"])\n",
    "    seg.pos <- lapply(seg.list, \"[\", TRUE, c(\"Start\", \"End\"))\n",
    "    seg.max <- cumsum(as.numeric(do.call(rbind, seg.max)))\n",
    "    chr.offset <- 0\n",
    "    for (i in 1:length(seg.pos)) {\n",
    "        seg.pos[[i]] <- seg.pos[[i]] + chr.offset\n",
    "        colnames(seg.pos[[i]]) <- c(\"abs.start\", \"abs.end\")\n",
    "        chr.offset <- seg.max[i]\n",
    "    }\n",
    "    seg.max <- sapply(X = seg.pos, FUN = function(x) x[nrow(x), \n",
    "        \"abs.end\"])\n",
    "    abs.list <- mapply(cbind, seg.list, seg.pos, SIMPLIFY = FALSE)\n",
    "    abs.segments <- do.call(rbind, abs.list)\n",
    "    if (info.type == \"AB\") {\n",
    "        na_As <- is.na(abs.segments$A)\n",
    "        max_A <- max(abs.segments$A, na.rm = TRUE)\n",
    "        if(max_A<2) max_A = 2\n",
    "        abs.segments$A[na_As] <- abs.segments$CNt[na_As]\n",
    "        plot(x = c(min(abs.segments$abs.start), max(abs.segments$abs.end)), \n",
    "            y = c(-0.1, (max_A + 0.1)), type = \"n\", ylab = \"Copy number\", \n",
    "            xlab = \"Position (Mb)\", xaxt = \"n\", yaxt = \"n\", xaxs = \"i\", \n",
    "            ...)\n",
    "        axis(labels = 0:max_A, at = 0:max_A, side = 2, line = 0, \n",
    "            las = 1)\n",
    "        segments(x0 = abs.segments$abs.start, x1 = abs.segments$abs.end, \n",
    "            y0 = (abs.segments$B - 0.075), y1 = (abs.segments$B - 0.075), \n",
    "                 col = \"blue\", lwd = 5, lend = 1)\n",
    "        segments(x0 = abs.segments$abs.start, x1 = abs.segments$abs.end, \n",
    "            y0 = (abs.segments$A + 0.075), y1 = (abs.segments$A + 0.075), \n",
    "                 col = \"red\", lwd = 5, lend = 1)\n",
    "    }\n",
    "    else {\n",
    "        min_CNt <- min(abs.segments$CopyNr, na.rm = TRUE)\n",
    "        max_CNt <- max(abs.segments$CopyNr, na.rm = TRUE)\n",
    "        plot(x = c(min(abs.segments$abs.start), max(abs.segments$abs.end)), \n",
    "            y = c(min_CNt, max_CNt), type = \"n\", ylab = \"Copy number\", \n",
    "            xlab = \"Position (Mb)\", xaxt = \"n\", yaxt = \"n\", xaxs = \"i\", \n",
    "            ...)\n",
    "        axis(labels = min_CNt:max_CNt, at = min_CNt:max_CNt, \n",
    "            side = 2, line = 0, las = 1)\n",
    "        segments(x0 = abs.segments$abs.start, x1 = abs.segments$abs.end, \n",
    "            y0 = abs.segments$CNt, y1 = abs.segments$CNt, col = \"red\", \n",
    "            lwd = 5, lend = 1)\n",
    "    }\n",
    "    abline(v = c(0, seg.max), lty = 3)\n",
    "    for (i in 1:length(abs.list)) {\n",
    "        max.pos <- nrow(abs.list[[i]])\n",
    "        mtext(chr.order[i], side = 3, line = 0, at = sum(abs.list[[i]]$abs.start[1], \n",
    "            abs.list[[i]]$abs.end[max.pos])/2)\n",
    "    }\n",
    "    axis(labels = as.character(round(seq(abs.list[[1]]$Start[1]/1e+06, \n",
    "        abs.list[[1]]$End[nrow(abs.list[[1]])]/1e+06, by = 50), \n",
    "        0)), at = seq(abs.list[[1]]$abs.start[1], abs.list[[1]]$abs.end[nrow(abs.list[[1]])], \n",
    "        by = 5e+07), outer = FALSE, cex = par(\"cex.axis\") * par(\"cex\") * 0.5, \n",
    "        side = 1, line = 1)\n",
    "}\n"
   ]
  },
  {
   "cell_type": "code",
   "execution_count": null,
   "id": "16ef9407-973b-4474-b8a2-1ff0144d3225",
   "metadata": {},
   "outputs": [],
   "source": []
  }
 ],
 "metadata": {
  "kernelspec": {
   "display_name": "R",
   "language": "R",
   "name": "ir"
  },
  "language_info": {
   "codemirror_mode": "r",
   "file_extension": ".r",
   "mimetype": "text/x-r-source",
   "name": "R",
   "pygments_lexer": "r",
   "version": "4.1.0"
  }
 },
 "nbformat": 4,
 "nbformat_minor": 5
}
